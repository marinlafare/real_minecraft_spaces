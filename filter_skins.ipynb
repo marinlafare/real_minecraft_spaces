{
 "cells": [
  {
   "cell_type": "code",
   "execution_count": 8,
   "id": "2843e6e1-8160-46d8-8baf-6e15095dac72",
   "metadata": {},
   "outputs": [],
   "source": [
    "import tensorflow as tf\n",
    "import numpy as np\n",
    "import os\n",
    "#import tensorflow_addons as tfa\n",
    "import matplotlib.pyplot as plt"
   ]
  },
  {
   "cell_type": "code",
   "execution_count": 87,
   "id": "f813dc06-7a4d-437d-be8f-100570b6558f",
   "metadata": {},
   "outputs": [],
   "source": [
    "def has_transparency(image_tensor):\n",
    "    alpha = image_tensor[:, :, 3:4]\n",
    "    for column in alpha:\n",
    "        if tf.reduce_any(tf.equal(column, 0)):\n",
    "            return 1\n",
    "        else:\n",
    "            return 0\n",
    "def load_png_image(image_path):\n",
    "    image_data = tf.io.read_file(image_path)\n",
    "    image = tf.io.decode_png(image_data, channels=4)\n",
    "    if has_transparency(image):\n",
    "        return False\n",
    "    else:\n",
    "        return  tf.io.decode_png(image_data, channels=3)\n",
    "def get_color_mean(image_tensor):\n",
    "    columns = tf.reduce_mean(image_tensor,axis = 0)\n",
    "    mean_colors = tf.reduce_mean(columns,axis = 0)\n",
    "    return mean_colors.numpy()\n",
    "def create_color_material_dicts():\n",
    "    available_textures = os.listdir('blocks')\n",
    "    color_to_material = dict()\n",
    "    material_to_color = dict()\n",
    "    \n",
    "    for image in available_textures:\n",
    "        path = \"blocks/\"+image\n",
    "        image_tensor= load_png_image(image_path)\n",
    "        mean_colors = get_color_mean(image_tensor)\n",
    "        color_to_material[tuple(mean_colors)] = image\n",
    "        material_to_color[image] = tuple(mean_colors)\n",
    "    return color_to_material, material_to_color"
   ]
  },
  {
   "cell_type": "code",
   "execution_count": 89,
   "id": "d9bd8628-7d8c-40c4-8a52-1105e5faea53",
   "metadata": {},
   "outputs": [],
   "source": [
    "color_to_material, material_to_color = create_color_material_dicts()"
   ]
  },
  {
   "cell_type": "code",
   "execution_count": null,
   "id": "cc345b49-4468-4d13-9b4f-61630ad1e672",
   "metadata": {},
   "outputs": [],
   "source": [
    "material_to_color"
   ]
  },
  {
   "cell_type": "code",
   "execution_count": null,
   "id": "246fb989-1141-4684-8b16-1c565239133f",
   "metadata": {},
   "outputs": [],
   "source": []
  },
  {
   "cell_type": "code",
   "execution_count": null,
   "id": "c8e109d8-ec36-4860-b6fc-703e2a02e8f3",
   "metadata": {},
   "outputs": [],
   "source": []
  },
  {
   "cell_type": "code",
   "execution_count": null,
   "id": "85010f0d-ea93-46ad-9212-6aa8d0c90b4e",
   "metadata": {},
   "outputs": [],
   "source": []
  },
  {
   "cell_type": "code",
   "execution_count": null,
   "id": "1ceb09c5-842f-4f48-bf8a-24802bd537cb",
   "metadata": {},
   "outputs": [],
   "source": []
  },
  {
   "cell_type": "code",
   "execution_count": null,
   "id": "09722b1a-d48e-484c-9aa2-9233b0faf79b",
   "metadata": {},
   "outputs": [],
   "source": []
  },
  {
   "cell_type": "code",
   "execution_count": null,
   "id": "5b448e6e-e1a5-457d-a1dc-ebfdb4f7595c",
   "metadata": {},
   "outputs": [],
   "source": []
  },
  {
   "cell_type": "code",
   "execution_count": null,
   "id": "755115d3-2dee-4d20-b7bc-24f2bb4e3ea1",
   "metadata": {},
   "outputs": [],
   "source": []
  }
 ],
 "metadata": {
  "kernelspec": {
   "display_name": "minecraft",
   "language": "python",
   "name": "minecraft"
  },
  "language_info": {
   "codemirror_mode": {
    "name": "ipython",
    "version": 3
   },
   "file_extension": ".py",
   "mimetype": "text/x-python",
   "name": "python",
   "nbconvert_exporter": "python",
   "pygments_lexer": "ipython3",
   "version": "3.12.9"
  }
 },
 "nbformat": 4,
 "nbformat_minor": 5
}
