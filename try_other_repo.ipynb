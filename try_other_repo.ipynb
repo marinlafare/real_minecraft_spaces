{
 "cells": [
  {
   "cell_type": "code",
   "execution_count": 4,
   "id": "6aa94e62-6657-4aa8-846b-9e9dc9b552c7",
   "metadata": {},
   "outputs": [],
   "source": [
    "import nbt, numpy, os\n",
    "from PIL import Image\n",
    "from config_mc import *\n",
    "import matplotlib.pyplot as plt"
   ]
  },
  {
   "cell_type": "code",
   "execution_count": 5,
   "id": "7b4fec55-df44-4937-bbf5-d881760b3ad9",
   "metadata": {},
   "outputs": [
    {
     "data": {
      "text/plain": [
       "'/home/jon/workshop/minecraft/Image-To-Minecraft-Blocks-main'"
      ]
     },
     "execution_count": 5,
     "metadata": {},
     "output_type": "execute_result"
    }
   ],
   "source": [
    "import os\n",
    "os.getcwd()"
   ]
  },
  {
   "cell_type": "code",
   "execution_count": 6,
   "id": "424201c4-0b87-4206-b81d-dbb5948a8b4e",
   "metadata": {},
   "outputs": [
    {
     "data": {
      "text/plain": [
       "True"
      ]
     },
     "execution_count": 6,
     "metadata": {},
     "output_type": "execute_result"
    }
   ],
   "source": [
    "file = 'lenna.png'\n",
    "os.path.exists(file)"
   ]
  },
  {
   "cell_type": "code",
   "execution_count": 7,
   "id": "5c37bee1-dd3d-4e1d-9352-97b24559455f",
   "metadata": {},
   "outputs": [],
   "source": [
    "image = Image.open(file)\n",
    "image = image.convert(\"RGBA\")\n",
    "w,h = (image.size)\n",
    "Msize = [None, None]\n",
    "nwimg = {\"x\":0, \"y\":0, \"w\":0, \"h\":0}\n",
    "tmimg = None"
   ]
  },
  {
   "cell_type": "code",
   "execution_count": null,
   "id": "2c79bc24-ff38-4631-84ee-79c372f74216",
   "metadata": {},
   "outputs": [],
   "source": []
  },
  {
   "cell_type": "code",
   "execution_count": 8,
   "id": "a46cdd83-42d7-4ee9-a296-4556905666f0",
   "metadata": {},
   "outputs": [],
   "source": [
    "if w%MAP_SIZE or h%MAP_SIZE:\n",
    "\tif w%MAP_SIZE:\n",
    "\t\tprint(\"image WIDTH is not multiple of \"+str(MAP_SIZE))\n",
    "\t\tprint(\"Type '2' to make extra maps to FIT the image width and CENTER it. (\"+str((w//MAP_SIZE)+1)+\" maps width)\")\n",
    "\t\tprint(\"Type '1' to make extra maps to FIT the image width. (\"+str((w//MAP_SIZE)+1)+\" maps width)\")\n",
    "\t\tprint(\"Type '0' to CROP the image to fit the maps width. (\"+str(w//MAP_SIZE)+\" maps width)\")\n",
    "\t\toptX = int(input(\">> \"))\n",
    "\t\tif optX == 2:\n",
    "\t\t\tMsize[0] = (w//MAP_SIZE)+1\n",
    "\t\t\tnwimg[\"w\"] = Msize[0]*MAP_SIZE\n",
    "\t\t\tnwimg[\"x\"] = (nwimg[\"w\"]-w)//2\n",
    "\t\telif optX == 1:\n",
    "\t\t\tMsize[0] = (w//MAP_SIZE)+1\n",
    "\t\t\tnwimg[\"w\"] = Msize[0]*MAP_SIZE\n",
    "\t\telif optX == 0:\n",
    "\t\t\tMsize[0] = w//MAP_SIZE\n",
    "\t\t\tnwimg[\"w\"] = Msize[0]*MAP_SIZE\n",
    "\t\telse:\n",
    "\t\t\tprint(\"Invalid option.\")\n",
    "\t\t\texit()\n",
    "\telse:\n",
    "\t\tMsize[0] = w//MAP_SIZE\n",
    "\t\tnwimg[\"w\"] = Msize[0]*MAP_SIZE\n",
    "\tif h%MAP_SIZE:\n",
    "\t\tprint(\"image HEIGHT is not multiple of \"+str(MAP_SIZE))\n",
    "\t\tprint(\"Type '2' to make extra maps to FIT the image height and CENTER it. (\"+str((h//MAP_SIZE)+1)+\" maps width)\")\n",
    "\t\tprint(\"Type '1' to make extra maps to FIT the image height. (\"+str((h//MAP_SIZE)+1)+\" maps width)\")\n",
    "\t\tprint(\"Type '0' to CROP the image to fit the maps height. (\"+str(h//MAP_SIZE)+\" maps width)\")\n",
    "\t\toptY = int(input(\">> \"))\n",
    "\t\tif optY == 2:\n",
    "\t\t\tMsize[1] = (h//MAP_SIZE)+1\n",
    "\t\t\tnwimg[\"h\"] = Msize[1]*MAP_SIZE\n",
    "\t\t\tnwimg[\"y\"] = (nwimg[\"h\"]-h)//2\n",
    "\t\telif optY == 1:\n",
    "\t\t\tMsize[1] = (h//MAP_SIZE)+1\n",
    "\t\t\tnwimg[\"h\"] = Msize[1]*MAP_SIZE\n",
    "\t\telif optY == 0:\n",
    "\t\t\tMsize[1] = h//MAP_SIZE\n",
    "\t\t\tnwimg[\"h\"] = Msize[1]*MAP_SIZE\n",
    "\t\telse:\n",
    "\t\t\tprint(\"Invalid option.\")\n",
    "\t\t\texit()\n",
    "\telse:\n",
    "\t\tMsize[1] = h//MAP_SIZE\n",
    "\t\tnwimg[\"h\"] = Msize[1]*MAP_SIZE\n",
    "\ttmimg = Image.new(\"RGBA\", (nwimg[\"w\"], nwimg[\"h\"]))\n",
    "\ttmimg.paste(image, (nwimg[\"x\"], nwimg[\"y\"]))\n",
    "\timage = tmimg.load()\n",
    "else:\n",
    "\ttmimg = image\n",
    "\timage = tmimg.load()\n",
    "\tMsize = [w//MAP_SIZE, h//MAP_SIZE]\n"
   ]
  },
  {
   "cell_type": "code",
   "execution_count": 9,
   "id": "fa6bbb62-7b58-4680-bc3a-82ba25849bbf",
   "metadata": {},
   "outputs": [
    {
     "name": "stdin",
     "output_type": "stream",
     "text": [
      "Start map_(x).dat numeration at:  0\n"
     ]
    }
   ],
   "source": [
    "MAP_INDX = int(input(\"Start map_(x).dat numeration at: \"))\n",
    "os.mkdir(file.split(\".\")[0])"
   ]
  },
  {
   "cell_type": "code",
   "execution_count": 10,
   "id": "bc696b38-e2f9-44db-8d93-c8101814ee54",
   "metadata": {},
   "outputs": [],
   "source": [
    "def nearest_colour(INPUT):\n",
    "\tINPUT = numpy.array(INPUT)\n",
    "\thypts = numpy.sqrt(numpy.sum((MAP_COLORS-INPUT)**2,axis=1))\n",
    "\tindex = numpy.where(hypts==numpy.min(hypts))\n",
    "\treturn {\"color\":MAP_COLORS[index][0], \"id\":index[0][0]+3}\n",
    "\n",
    "def make_map(offsetX, offsetY, f_id):\n",
    "\tnbt_file = nbt.nbt.NBTFile(NBT_FILE)\n",
    "\tnbt_out = MAP_PRFX + f_id + \".dat\"\n",
    "\tfor y in range(0,MAP_SIZE):\n",
    "\t\tfor x in range(0,MAP_SIZE):\n",
    "\t\t\tif not image[x+offsetX,y+offsetY][3] and IMG_ALPH:\n",
    "\t\t\t\tminecraft_color={\"id\":0x0,\"color\":[image[x+offsetX,y+offsetY][0], image[x+offsetX,y+offsetY][1], image[x+offsetX,y+offsetY][2] ,0]}\n",
    "\t\t\telse:\n",
    "\t\t\t\tminecraft_color = nearest_colour((image[x+offsetX,y+offsetY][0], image[x+offsetX,y+offsetY][1], image[x+offsetX,y+offsetY][2]))\n",
    "\t\t\tnbt_file[\"data\"][\"colors\"][x+(y*MAP_SIZE)] = minecraft_color[\"id\"]\n",
    "\t\t\timage[x+offsetX,y+offsetY] = tuple(minecraft_color[\"color\"])\n",
    "\t\t\t#print(nbt_out + \" \" + '%.1f'%((((x+(y*MAP_SIZE))+1)/MAP_SIZE**2)*100)+\"%\", end=\"\\r\", flush=True)\n",
    "\tnbt_file.write_file(os.path.join(file.split(\".\")[0], nbt_out))\n",
    "\t#print(\"\\r\"+nbt_out+\" [OK]   \")"
   ]
  },
  {
   "cell_type": "code",
   "execution_count": 9,
   "id": "e1a9f84a-bbae-48b1-a58b-e77825467c74",
   "metadata": {},
   "outputs": [
    {
     "data": {
      "text/plain": [
       "'nbt_map_reference.dat'"
      ]
     },
     "execution_count": 9,
     "metadata": {},
     "output_type": "execute_result"
    }
   ],
   "source": [
    "NBT_FILE"
   ]
  },
  {
   "cell_type": "code",
   "execution_count": null,
   "id": "9eb68133-9902-4ffd-b1c9-8d7ef8deb180",
   "metadata": {},
   "outputs": [],
   "source": []
  },
  {
   "cell_type": "code",
   "execution_count": 13,
   "id": "c04a125c-51bb-47dd-b22b-22e3da7f2951",
   "metadata": {},
   "outputs": [
    {
     "name": "stdout",
     "output_type": "stream",
     "text": [
      "column: 0\n",
      "column: 1\n",
      "column: 2\n",
      "column: 3\n",
      "column: 0\n",
      "column: 1\n",
      "column: 2\n",
      "column: 3\n",
      "Replace the files in your '.minecraft/saves/<world name>/data/' with the ones on 'lenna'.\n"
     ]
    }
   ],
   "source": [
    "for mapY in range(0,Msize[1]):\n",
    "    print(f'column: {mapY}')\n",
    "for mapX in range(0,Msize[0]):\n",
    "    print(f'column: {mapX}')\n",
    "    make_map(offsetX=mapX*MAP_SIZE, offsetY=mapY*MAP_SIZE, f_id=str((mapX+(mapY*Msize[0]))+MAP_INDX))\n",
    "if MAP_PREV:\n",
    "\t#print(\"Saving preview...\")\n",
    "\ttmimg.save(os.path.join(file.split(\".\")[0], \"preview.png\"), \"PNG\")\n",
    "print(\"Replace the files in your '.minecraft/saves/<world name>/data/' with the ones on '\" + file.split(\".\")[0] + \"'.\")"
   ]
  },
  {
   "cell_type": "code",
   "execution_count": null,
   "id": "f7edf0f9-31ff-4ce3-9eca-f5bc51937423",
   "metadata": {},
   "outputs": [],
   "source": []
  },
  {
   "cell_type": "code",
   "execution_count": null,
   "id": "a48008f4-0638-4777-accd-8aa5a469fded",
   "metadata": {},
   "outputs": [],
   "source": []
  },
  {
   "cell_type": "code",
   "execution_count": null,
   "id": "b068fbb5-d369-45b5-b6ab-1d0526404ab0",
   "metadata": {},
   "outputs": [],
   "source": []
  },
  {
   "cell_type": "code",
   "execution_count": null,
   "id": "aea5b4ef-8bb4-45e7-a261-1d6d8799ca70",
   "metadata": {},
   "outputs": [],
   "source": []
  },
  {
   "cell_type": "code",
   "execution_count": null,
   "id": "76a5e40d-074f-462c-9652-f3bf94c731c0",
   "metadata": {},
   "outputs": [],
   "source": []
  },
  {
   "cell_type": "code",
   "execution_count": 3,
   "id": "1eec736b-a133-43db-b11d-365db9f25bf0",
   "metadata": {},
   "outputs": [],
   "source": [
    "Msize[0] = w//MAP_SIZE\n",
    "nwimg[\"w\"] = Msize[0]*MAP_SIZE"
   ]
  },
  {
   "cell_type": "code",
   "execution_count": 4,
   "id": "6683dc6b-e4ed-474a-a631-95bca1f92dad",
   "metadata": {},
   "outputs": [],
   "source": [
    "tmimg = Image.new(\"RGBA\", (nwimg[\"w\"], nwimg[\"h\"]))"
   ]
  },
  {
   "cell_type": "code",
   "execution_count": 5,
   "id": "8a9e8749-a460-478f-a8e5-be9a891b2765",
   "metadata": {},
   "outputs": [],
   "source": [
    "tmimg.paste(image, (nwimg[\"x\"], nwimg[\"y\"]))"
   ]
  },
  {
   "cell_type": "code",
   "execution_count": 6,
   "id": "60b9a136-7116-4a98-9711-8c2e33a6019b",
   "metadata": {},
   "outputs": [],
   "source": [
    "image = tmimg.load()"
   ]
  },
  {
   "cell_type": "code",
   "execution_count": 7,
   "id": "3f18c07a-9d9a-4fbc-bcce-2e9efeaa6d1e",
   "metadata": {},
   "outputs": [
    {
     "name": "stdin",
     "output_type": "stream",
     "text": [
      "Start map_(x).dat numeration at:  0\n"
     ]
    }
   ],
   "source": [
    "MAP_INDX = int(input(\"Start map_(x).dat numeration at: \"))"
   ]
  },
  {
   "cell_type": "code",
   "execution_count": 8,
   "id": "034e9bc0-054d-4e02-8d00-bc7e6ca5ff38",
   "metadata": {},
   "outputs": [
    {
     "ename": "AttributeError",
     "evalue": "'PixelAccess' object has no attribute 'load'",
     "output_type": "error",
     "traceback": [
      "\u001b[31m---------------------------------------------------------------------------\u001b[39m",
      "\u001b[31mAttributeError\u001b[39m                            Traceback (most recent call last)",
      "\u001b[36mCell\u001b[39m\u001b[36m \u001b[39m\u001b[32mIn[8]\u001b[39m\u001b[32m, line 2\u001b[39m\n\u001b[32m      1\u001b[39m tmimg = image\n\u001b[32m----> \u001b[39m\u001b[32m2\u001b[39m image = tmimg.load()\n\u001b[32m      3\u001b[39m Msize = [w//MAP_SIZE, h//MAP_SIZE]\n",
      "\u001b[31mAttributeError\u001b[39m: 'PixelAccess' object has no attribute 'load'"
     ]
    }
   ],
   "source": [
    "tmimg = image\n",
    "image = tmimg.load()\n",
    "Msize = [w//MAP_SIZE, h//MAP_SIZE]"
   ]
  },
  {
   "cell_type": "code",
   "execution_count": null,
   "id": "c68db3e9-7cf7-4718-81eb-28f3503b06bc",
   "metadata": {},
   "outputs": [],
   "source": []
  },
  {
   "cell_type": "code",
   "execution_count": null,
   "id": "3947e25b-e560-4b0c-b3a2-e54227b52b4a",
   "metadata": {},
   "outputs": [],
   "source": []
  },
  {
   "cell_type": "code",
   "execution_count": 8,
   "id": "d27582a9-334c-4b06-9906-cc03a179d3a8",
   "metadata": {},
   "outputs": [],
   "source": [
    "os.mkdir(file.split(\".\")[0])"
   ]
  },
  {
   "cell_type": "code",
   "execution_count": null,
   "id": "f60ca879-6be7-439a-8e7a-716a9b92bc2d",
   "metadata": {},
   "outputs": [],
   "source": []
  },
  {
   "cell_type": "code",
   "execution_count": null,
   "id": "b5cdd333-46e1-4886-bfff-9ffc07a77e84",
   "metadata": {},
   "outputs": [],
   "source": []
  },
  {
   "cell_type": "code",
   "execution_count": null,
   "id": "9946c458-03ae-4a37-b89f-e6e79e96511e",
   "metadata": {},
   "outputs": [],
   "source": []
  },
  {
   "cell_type": "code",
   "execution_count": null,
   "id": "59f79be7-e387-4598-a5c9-07d9f6e3f90b",
   "metadata": {},
   "outputs": [],
   "source": []
  },
  {
   "cell_type": "code",
   "execution_count": 17,
   "id": "31e825f7-48af-4d75-890a-ed9f9c6b3f84",
   "metadata": {},
   "outputs": [
    {
     "ename": "AttributeError",
     "evalue": "'PixelAccess' object has no attribute 'show'",
     "output_type": "error",
     "traceback": [
      "\u001b[31m---------------------------------------------------------------------------\u001b[39m",
      "\u001b[31mAttributeError\u001b[39m                            Traceback (most recent call last)",
      "\u001b[36mCell\u001b[39m\u001b[36m \u001b[39m\u001b[32mIn[17]\u001b[39m\u001b[32m, line 1\u001b[39m\n\u001b[32m----> \u001b[39m\u001b[32m1\u001b[39m image.show()\n",
      "\u001b[31mAttributeError\u001b[39m: 'PixelAccess' object has no attribute 'show'"
     ]
    }
   ],
   "source": [
    "image.show()"
   ]
  },
  {
   "cell_type": "code",
   "execution_count": null,
   "id": "2af32628-6939-4a13-af6f-cb40248ce884",
   "metadata": {},
   "outputs": [],
   "source": []
  },
  {
   "cell_type": "code",
   "execution_count": null,
   "id": "70f9f1b6-ef42-4554-9e26-1dedfe1b561f",
   "metadata": {},
   "outputs": [],
   "source": []
  },
  {
   "cell_type": "code",
   "execution_count": null,
   "id": "eb1e5a79-ca45-4c60-85e7-7d772d0a27f3",
   "metadata": {},
   "outputs": [],
   "source": []
  },
  {
   "cell_type": "code",
   "execution_count": null,
   "id": "83d65ed6-c746-43dc-8e4b-923f6e7ab6c1",
   "metadata": {},
   "outputs": [],
   "source": []
  },
  {
   "cell_type": "code",
   "execution_count": null,
   "id": "7bd97d86-5df4-4288-979d-25ce0f5f6f38",
   "metadata": {},
   "outputs": [],
   "source": [
    "for mapY in range(0,Msize[1]):\n",
    "\tfor mapX in range(0,Msize[0]):\n",
    "\t\tmake_map(offsetX=mapX*MAP_SIZE, offsetY=mapY*MAP_SIZE, f_id=str((mapX+(mapY*Msize[0]))+MAP_INDX))\n",
    "if MAP_PREV:\n",
    "\tprint(\"Saving preview...\")\n",
    "\ttmimg.save(os.path.join(file.split(\".\")[0], \"preview.png\"), \"PNG\")\n",
    "print(\"Replace the files in your '.minecraft/saves/<world name>/data/' with the ones on '\" + file.split(\".\")[0] + \"'.\")"
   ]
  },
  {
   "cell_type": "code",
   "execution_count": null,
   "id": "d57e2989-d2bd-4803-a832-a540d7f02b6a",
   "metadata": {},
   "outputs": [],
   "source": []
  },
  {
   "cell_type": "code",
   "execution_count": null,
   "id": "2027faa4-851f-4736-832b-be843336f422",
   "metadata": {},
   "outputs": [],
   "source": []
  },
  {
   "cell_type": "code",
   "execution_count": null,
   "id": "546ccce8-e9d6-403c-9572-d7cce275a83f",
   "metadata": {},
   "outputs": [],
   "source": []
  },
  {
   "cell_type": "code",
   "execution_count": null,
   "id": "e8e2bd2c-6113-4eec-b0e9-5bea09b6f9f5",
   "metadata": {},
   "outputs": [],
   "source": []
  },
  {
   "cell_type": "code",
   "execution_count": null,
   "id": "907c2293-2d37-44ce-ab14-1eb81ed24686",
   "metadata": {},
   "outputs": [],
   "source": []
  },
  {
   "cell_type": "code",
   "execution_count": null,
   "id": "f50f3d16-4929-4222-97fe-2ad2576c887e",
   "metadata": {},
   "outputs": [],
   "source": []
  },
  {
   "cell_type": "code",
   "execution_count": null,
   "id": "61ff4868-d3cf-4799-91a9-f6d3411d4573",
   "metadata": {},
   "outputs": [],
   "source": []
  }
 ],
 "metadata": {
  "kernelspec": {
   "display_name": "minecraft",
   "language": "python",
   "name": "minecraft"
  },
  "language_info": {
   "codemirror_mode": {
    "name": "ipython",
    "version": 3
   },
   "file_extension": ".py",
   "mimetype": "text/x-python",
   "name": "python",
   "nbconvert_exporter": "python",
   "pygments_lexer": "ipython3",
   "version": "3.12.9"
  }
 },
 "nbformat": 4,
 "nbformat_minor": 5
}
