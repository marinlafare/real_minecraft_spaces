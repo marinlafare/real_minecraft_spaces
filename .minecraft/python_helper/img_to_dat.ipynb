{
 "cells": [
  {
   "cell_type": "code",
   "execution_count": 2,
   "id": "2275f219-1fe0-4c0d-a1aa-2b51c3acb44e",
   "metadata": {},
   "outputs": [],
   "source": [
    "from constants_dat_file import *\n",
    "#from gemini_implementation import *\n",
    "from IPython.display import clear_output\n",
    "import matplotlib.pyplot as plt\n",
    "import nbtlib\n",
    "\n",
    "world_name = 'maps_imgs'\n",
    "image_name = '11.jpg'\n",
    "image_path = f\"images/{image_name}\"\n",
    "image_extention = image_path.split('.')[1]\n",
    "out_name = f'{image_path.split('/')[1].replace('.'+image_extention,'')}'"
   ]
  },
  {
   "cell_type": "markdown",
   "id": "25ad69b4-db4c-4b86-bae5-c3d9713fe331",
   "metadata": {},
   "source": [
    "# MAP CREATION"
   ]
  },
  {
   "cell_type": "code",
   "execution_count": 3,
   "id": "ab102b9f-8083-4c6f-90e8-dec796cac993",
   "metadata": {},
   "outputs": [],
   "source": [
    "def load_image_for_map(image_path, channels: int, mirror_horizontal: bool = False):\n",
    "    image_bytes = tf.io.read_file(image_path)\n",
    "    image_tensor = tf.image.decode_image(image_bytes, channels=channels) \n",
    "\n",
    "    if mirror_horizontal:\n",
    "        image_tensor = tf.image.flip_left_right(image_tensor)\n",
    "\n",
    "    int_image = tf.cast(image_tensor, dtype=tf.int32)\n",
    "    return int_image"
   ]
  },
  {
   "cell_type": "code",
   "execution_count": 4,
   "id": "bc84bb6c-f8dd-4a9b-bfa7-30453a188898",
   "metadata": {},
   "outputs": [],
   "source": [
    "def prepare_image_size_to_map(image_tensor):\n",
    "    current_height = image_tensor.shape[0]\n",
    "    current_width = image_tensor.shape[1] \n",
    "\n",
    "    num_rows_of_maps = tf.math.ceil(current_height / 128).numpy()\n",
    "    num_cols_of_maps = tf.math.ceil(current_width / 128).numpy()\n",
    "\n",
    "    new_height = int(128 * num_rows_of_maps)\n",
    "    new_width = int(128 * num_cols_of_maps)\n",
    "\n",
    "    resized_image = tf.image.resize(image_tensor, ((new_height, new_width)))\n",
    "    resized_image = tf.cast(resized_image, dtype=tf.int32)\n",
    "    print(f'RESIZE = {num_rows_of_maps} rows, {num_cols_of_maps} columns')\n",
    "    return resized_image, int(num_rows_of_maps), int(num_cols_of_maps)"
   ]
  },
  {
   "cell_type": "code",
   "execution_count": 5,
   "id": "40ab5c8a-af8b-4379-a2f2-df23f24c7110",
   "metadata": {},
   "outputs": [],
   "source": [
    "def cut_image_into_128_squares(original_image, num_rows_of_maps, num_cols_of_maps):\n",
    "    image_squares = []\n",
    "    row_splits = tf.split(original_image, num_or_size_splits=num_rows_of_maps, axis=0)\n",
    "\n",
    "    for row_strip in row_splits:\n",
    "        col_splits = tf.split(row_strip, num_or_size_splits=num_cols_of_maps, axis=1)\n",
    "        for map_square in col_splits:\n",
    "            image_squares.append(map_square)\n",
    "\n",
    "    return image_squares"
   ]
  },
  {
   "cell_type": "code",
   "execution_count": 6,
   "id": "2836876f-8501-4e94-af2e-4e37686fd319",
   "metadata": {},
   "outputs": [],
   "source": [
    "def prepare_square_for_prediction(sliced_image):\n",
    "    to_predict = tf.reshape(sliced_image, [128*128, 3])\n",
    "    return to_predict\n",
    "\n",
    "def get_img_slices_for_prediction(image_squares, num_rows_of_maps, num_cols_of_maps):\n",
    "    for_predictions = []\n",
    "    for one_square in image_squares:\n",
    "        one_square_for_prediction = prepare_square_for_prediction(one_square)\n",
    "        for_predictions.append(one_square_for_prediction)\n",
    "    return for_predictions"
   ]
  },
  {
   "cell_type": "code",
   "execution_count": 7,
   "id": "16dc5b5c-1705-4bb3-84cb-651e95deeb82",
   "metadata": {},
   "outputs": [],
   "source": [
    "def rgb_to_ints(for_predictions, image_squares, num_rows_of_maps, num_cols_of_maps):\n",
    "    colors_square_ids = []\n",
    "    color_model, mcid_to_rgb = get_mcid_color_model()\n",
    "    for square in for_predictions:\n",
    "        distances , inds = color_model.kneighbors(square)\n",
    "        colors_square_ids.append(inds+4)\n",
    "    return colors_square_ids"
   ]
  },
  {
   "cell_type": "code",
   "execution_count": 8,
   "id": "e92fc711-fc5b-4c8e-a8c7-9ee95f90b500",
   "metadata": {},
   "outputs": [],
   "source": [
    "def create_template_datfile(title=\"some_data_idk\"):\n",
    "    root = nbtlib.File()\n",
    "    root.name = title\n",
    "\n",
    "    data_compound = nbtlib.Compound()\n",
    "    data_compound['scale'] = nbtlib.Byte(0)\n",
    "    data_compound['dimension'] = nbtlib.String(\"minecraft:overworld\")\n",
    "    data_compound['trackingPosition'] = nbtlib.Byte(0)\n",
    "    data_compound['locked'] = nbtlib.Byte(1)\n",
    "    data_compound['width'] = nbtlib.Short(128)\n",
    "    data_compound['height'] = nbtlib.Short(128)\n",
    "    \n",
    "    data_compound['xCenter'] = nbtlib.Int(0)\n",
    "    data_compound['zCenter'] = nbtlib.Int(0)\n",
    "\n",
    "    data_compound['colors'] = nbtlib.ByteArray([5] * (128 * 128))\n",
    "\n",
    "    root['data'] = data_compound\n",
    "    return root"
   ]
  },
  {
   "cell_type": "code",
   "execution_count": 9,
   "id": "ab3ffc1e-a376-4c45-a67e-2a5dd84e22ee",
   "metadata": {},
   "outputs": [],
   "source": [
    "def get_current_map(world_name,parent):\n",
    "    world_data_path = os.path.join(parent, f'saves/{world_name}/data')\n",
    "    map_files = os.listdir(world_data_path)\n",
    "    map_files = [x for x in map_files if x.startswith('map_')]\n",
    "    map_files = [x.replace('map_','').replace('.dat','') for x in map_files]\n",
    "    map_files = [int(x) for x in map_files]\n",
    "    if len(map_files) == 0:\n",
    "        return 0\n",
    "    current_map = max(map_files) + 1\n",
    "    return current_map\n",
    "def create_maps(maps_colors, num_rows_of_maps, num_cols_of_maps, world_name):\n",
    "    current_directory = os.getcwd()\n",
    "    parent = os.path.dirname(current_directory)\n",
    "    base_image_name = os.path.splitext(os.path.basename(image_path))[0]\n",
    "    n_file = get_current_map(world_name,parent)\n",
    "    init_map = n_file\n",
    "\n",
    "    print(f'Generating {len(maps_colors)} new maps.')\n",
    "\n",
    "    for ind, map_file_data in enumerate(maps_colors):\n",
    "        row = ind // num_cols_of_maps\n",
    "        col = ind % num_cols_of_maps\n",
    "        x_center = col * 128 + 64\n",
    "        z_center = row * 128 + 64\n",
    "\n",
    "        # output_dir = os.path.join(current_directory, \"maps\", base_image_name)\n",
    "        # if not os.path.exists(output_dir):\n",
    "        #     os.makedirs(output_dir)\n",
    "        \n",
    "        #output_filename_local = os.path.join(output_dir, f'map_{n_file}.dat')\n",
    "        world_data_path = os.path.join(parent, f'saves/{world_name}/data')\n",
    "\n",
    "        output_filename_world = os.path.join(world_data_path, f'map_{n_file}.dat')\n",
    "        nbtfile = create_template_datfile(title=f\"{base_image_name}_map_{n_file}\")\n",
    "\n",
    "        color_ids = [entry[0] for entry in map_file_data]\n",
    "        map_byte_data = bytearray(color_ids) \n",
    "\n",
    "        nbtfile[\"data\"][\"colors\"] = nbtlib.ByteArray(map_byte_data)\n",
    "        nbtfile[\"data\"][\"xCenter\"] = nbtlib.Int(x_center)\n",
    "        nbtfile[\"data\"][\"zCenter\"] = nbtlib.Int(z_center)\n",
    "\n",
    "        try:\n",
    "            #nbtfile.save(output_filename_local) \n",
    "            nbtfile.save(output_filename_world) \n",
    "        except Exception as e:\n",
    "            print(f\"Error saving map_{n_file}.dat: {e}\")\n",
    "\n",
    "        n_file += 1\n",
    "\n",
    "    final_map = n_file\n",
    "    print(f\"Map generation complete. Generated maps from ID {init_map} to {final_map - 1}.\")\n",
    "    return init_map, final_map, (num_rows_of_maps, num_cols_of_maps)\n",
    "def check_world_folder_existence(world_name):\n",
    "    current_directory = os.getcwd()\n",
    "    parent = os.path.dirname(current_directory)\n",
    "    world_directory = os.path.join(parent, 'saves',world_name,'data')\n",
    "    return os.path.exists(world_directory)"
   ]
  },
  {
   "cell_type": "code",
   "execution_count": 10,
   "id": "d370d6a3-264e-422b-b683-9af17e1d2100",
   "metadata": {},
   "outputs": [],
   "source": [
    "def map_pipeline(image_path, channels: int, mirror_horizontal: bool = False, world_name: str = None):\n",
    "    \n",
    "    image_tensor = load_image_for_map(image_path, channels = 3, mirror_horizontal = False)\n",
    "    original_image, num_rows_of_maps, num_cols_of_maps = prepare_image_size_to_map(image_tensor)\n",
    "    image_squares = cut_image_into_128_squares(original_image, num_rows_of_maps, num_cols_of_maps)\n",
    "    for_predictions = get_img_slices_for_prediction(image_squares, num_rows_of_maps, num_cols_of_maps)\n",
    "    maps_colors = rgb_to_ints(for_predictions, image_squares, num_rows_of_maps, num_cols_of_maps)\n",
    "    init_map, final_map, (num_rows_of_maps, num_cols_of_maps) = create_maps(maps_colors, num_rows_of_maps, num_cols_of_maps, world_name)\n",
    "    \n",
    "    return init_map, final_map, (num_rows_of_maps, num_cols_of_maps)"
   ]
  },
  {
   "cell_type": "markdown",
   "id": "bafeb41c-1a9a-4dca-963a-fccd81c910fe",
   "metadata": {},
   "source": [
    "# MCFUNCTION"
   ]
  },
  {
   "cell_type": "code",
   "execution_count": 11,
   "id": "e8484f73-0d6f-4756-b892-0bec8de4949e",
   "metadata": {},
   "outputs": [],
   "source": [
    "def fill_line(x1,y1,z1,x2,y2,z2,material):\n",
    "    return f\"fill ~{x1} ~{y1} ~{z1} ~{x2} ~{y2} ~{z2} minecraft:{material}\\n\"\n",
    "\n",
    "def summon_map_line(x_offset,y_offset,z_offset,facing,n_map, rotation = 0):\n",
    "    return f\"summon minecraft:glow_item_frame ~-{x_offset} ~{y_offset} ~{z_offset} \" \\\n",
    "           f\"{{ItemRotation:{rotation},Facing:{facing},Item:{{id:\\\"minecraft:filled_map\\\",count:1,components:{{\\\"minecraft:map_id\\\":{n_map}}}}}}}\\n\""
   ]
  },
  {
   "cell_type": "code",
   "execution_count": 12,
   "id": "0e4a593e-b844-44db-8485-36bed1043290",
   "metadata": {},
   "outputs": [],
   "source": [
    "def create_map_support(num_rows_of_maps, num_cols_of_maps, map_range,facing):\n",
    "    mcfunction_lines = []\n",
    "    if facing =='south':\n",
    "        mcfunction_lines.append(\n",
    "                        fill_line(\n",
    "                            0, \n",
    "                            0, \n",
    "                            1, \n",
    "                            -(num_cols_of_maps - 1), \n",
    "                            num_rows_of_maps - 1, \n",
    "                            1,\n",
    "                            'dirt'\n",
    "                            )\n",
    "                        )\n",
    "    if facing =='north':\n",
    "        mcfunction_lines.append(\n",
    "                        fill_line(\n",
    "                            -1, \n",
    "                            0, \n",
    "                            1, \n",
    "                            -(num_cols_of_maps)+1, \n",
    "                            num_rows_of_maps - 1, \n",
    "                            1,\n",
    "                            'dirt'\n",
    "                            )\n",
    "                        )   \n",
    "    if facing in 'west':\n",
    "        mcfunction_lines.append(\n",
    "                        fill_line(\n",
    "                            -1, \n",
    "                            0, \n",
    "                            1, \n",
    "                            -1, \n",
    "                            num_rows_of_maps - 1, \n",
    "                            num_cols_of_maps,\n",
    "                            'dirt'\n",
    "                            )\n",
    "                        )\n",
    "    if facing in 'east':\n",
    "        mcfunction_lines.append(\n",
    "                        fill_line(\n",
    "                            1, \n",
    "                            0, \n",
    "                            1, \n",
    "                            1, \n",
    "                            num_rows_of_maps - 1, \n",
    "                            num_cols_of_maps,\n",
    "                            'dirt'\n",
    "                            )\n",
    "                        )\n",
    "    if facing in ['up','down']:\n",
    "        mcfunction_lines.append(\n",
    "                        fill_line(\n",
    "                            0, \n",
    "                            -1, \n",
    "                            0, \n",
    "                            -(num_rows_of_maps - 1), \n",
    "                            -1, \n",
    "                            num_cols_of_maps -1,\n",
    "                            'dirt'\n",
    "                            )\n",
    "                        )\n",
    "    first_map = map_range[0]\n",
    "    last_map = map_range[1]\n",
    "    maps_numbers = [int(x.replace('map_','').replace('.dat','')) for x in os.listdir('maps') if x.endswith('.dat')]\n",
    "    maps_numbers = [x for x in maps_numbers if x in range(first_map,last_map)]\n",
    "    maps_numbers = sorted(maps_numbers)\n",
    "\n",
    "    return mcfunction_lines, maps_numbers"
   ]
  },
  {
   "cell_type": "code",
   "execution_count": 13,
   "id": "d8afd8c7-0a35-446a-8818-d245b1095c62",
   "metadata": {},
   "outputs": [],
   "source": [
    "def write_frame_wall(num_rows_of_maps, num_cols_of_maps, map_range, out_name,world_name):\n",
    "    current_directory = os.getcwd()\n",
    "    parent = os.path.dirname(current_directory)\n",
    "    mcfunction_dir = f'saves/{world_name}/datapacks/img/data/print/function/'\n",
    "    \n",
    "    for facing_direction in ['south','north','east','west','up','down']:\n",
    "        \n",
    "        mcfunction_lines, maps_numbers = create_map_support(num_rows_of_maps,\n",
    "                                                                        num_cols_of_maps,\n",
    "                                                                        map_range, facing_direction)\n",
    "        for row_idx in range(num_rows_of_maps):\n",
    "            for col_idx in range(num_cols_of_maps):\n",
    "                current_map_id = map_range[0] + (row_idx * num_cols_of_maps) + col_idx\n",
    "                if facing_direction == 'south':\n",
    "                    mcfunction_lines.append(\n",
    "                        summon_map_line(\n",
    "                            col_idx, \n",
    "                            (num_rows_of_maps - 1 - row_idx),\n",
    "                            facing_side[facing_direction+'_z'],\n",
    "                            facing_side[facing_direction],\n",
    "                            current_map_id))\n",
    "                if facing_direction == 'north':\n",
    "                    mcfunction_lines.append(\n",
    "                        summon_map_line(\n",
    "                            (num_cols_of_maps - col_idx), \n",
    "                            (num_rows_of_maps - 1 - row_idx),\n",
    "                            facing_side[facing_direction+'_z'],\n",
    "                            facing_side[facing_direction],\n",
    "                            current_map_id))\n",
    "                if facing_direction == 'east':\n",
    "                    mcfunction_lines.append(\n",
    "                        summon_map_line(\n",
    "                            0, \n",
    "                            (num_rows_of_maps - 1 - row_idx),\n",
    "                            col_idx+1,\n",
    "                            facing_side[facing_direction],\n",
    "                            current_map_id))\n",
    "                if facing_direction == 'west':\n",
    "                    mcfunction_lines.append(\n",
    "                        summon_map_line(\n",
    "                            0, \n",
    "                            (num_rows_of_maps - 1 - row_idx),\n",
    "                            (num_cols_of_maps - 1 - col_idx)+1,\n",
    "                            facing_side[facing_direction],\n",
    "                            current_map_id))\n",
    "                if facing_direction == 'up':\n",
    "                    mcfunction_lines.append(\n",
    "                        summon_map_line(\n",
    "                            row_idx, \n",
    "                            0,\n",
    "                            col_idx,\n",
    "                            facing_side[facing_direction],\n",
    "                            current_map_id,\n",
    "                            rotation = 1\n",
    "                        ))\n",
    "                if facing_direction == 'down':\n",
    "                    mcfunction_lines.append(\n",
    "                        summon_map_line(\n",
    "                            row_idx, \n",
    "                            -2,\n",
    "                            (num_cols_of_maps - 1 - col_idx),\n",
    "                            facing_side[facing_direction],\n",
    "                            current_map_id,\n",
    "                            rotation = 1\n",
    "                        ))\n",
    "            \n",
    "               \n",
    "            with open(os.path.join(parent,\n",
    "                f'{mcfunction_dir}{out_name}_{facing_direction}.mcfunction'), \"w\") as f:\n",
    "                for line in mcfunction_lines:\n",
    "                    f.write(line)\n",
    "        else: pass"
   ]
  },
  {
   "cell_type": "markdown",
   "id": "04fa55ea-171b-4d03-b51c-69778d583fba",
   "metadata": {},
   "source": [
    "# LIVE PIPELINE"
   ]
  },
  {
   "cell_type": "code",
   "execution_count": 15,
   "id": "813386d3-6457-45d0-9dea-f52329eae437",
   "metadata": {},
   "outputs": [
    {
     "name": "stdout",
     "output_type": "stream",
     "text": [
      "RESIZE = 6.0 rows, 13.0 columns\n",
      "Generating 78 new maps.\n",
      "Map generation complete. Generated maps from ID 312 to 389.\n"
     ]
    }
   ],
   "source": [
    "init_map, final_map, map_range = map_pipeline(image_path,\n",
    "                        channels = 3,\n",
    "                        mirror_horizontal = False,\n",
    "                        world_name = 'maps_imgs')"
   ]
  },
  {
   "cell_type": "code",
   "execution_count": 16,
   "id": "e555a29a-0ee9-4a33-88e1-f02b2a0647c2",
   "metadata": {},
   "outputs": [],
   "source": [
    "write_frame_wall(num_rows_of_maps,\n",
    "                 num_cols_of_maps,\n",
    "                 map_range,\n",
    "                 out_name,\n",
    "                 world_name)"
   ]
  },
  {
   "cell_type": "code",
   "execution_count": null,
   "id": "a4fb780b-0de1-4c35-b261-eccf3e075bb6",
   "metadata": {},
   "outputs": [],
   "source": []
  },
  {
   "cell_type": "code",
   "execution_count": null,
   "id": "ef612e32-adb9-4b79-baa5-218fe62f9576",
   "metadata": {},
   "outputs": [],
   "source": []
  },
  {
   "cell_type": "code",
   "execution_count": null,
   "id": "49c4e4b3-acb8-42f8-8cb0-a897eb09aea7",
   "metadata": {},
   "outputs": [],
   "source": []
  },
  {
   "cell_type": "code",
   "execution_count": null,
   "id": "d1bfeb3a-3788-4907-94ee-85b7e0ea492b",
   "metadata": {},
   "outputs": [],
   "source": []
  },
  {
   "cell_type": "code",
   "execution_count": 61,
   "id": "1709d48c-62d9-4562-a77e-1d32017d0ac1",
   "metadata": {},
   "outputs": [
    {
     "data": {
      "text/plain": [
       "\"Minecraft_World: popo doesn't exists\""
      ]
     },
     "execution_count": 61,
     "metadata": {},
     "output_type": "execute_result"
    }
   ],
   "source": [
    "init_map"
   ]
  },
  {
   "cell_type": "code",
   "execution_count": null,
   "id": "1783d8d7-48e2-4b35-917f-793fd5ae279a",
   "metadata": {},
   "outputs": [],
   "source": []
  },
  {
   "cell_type": "code",
   "execution_count": null,
   "id": "a2fb1f27-ca94-4886-82b6-4ec9d55a03b2",
   "metadata": {},
   "outputs": [],
   "source": []
  },
  {
   "cell_type": "code",
   "execution_count": null,
   "id": "ceced8bd-f7e9-4c6d-86dc-6440651edd8b",
   "metadata": {},
   "outputs": [],
   "source": []
  },
  {
   "cell_type": "code",
   "execution_count": 26,
   "id": "3ecbdcea-d375-48c2-95a2-8ca892fa646e",
   "metadata": {},
   "outputs": [
    {
     "data": {
      "text/plain": [
       "False"
      ]
     },
     "execution_count": 26,
     "metadata": {},
     "output_type": "execute_result"
    }
   ],
   "source": [
    "init_map"
   ]
  },
  {
   "cell_type": "code",
   "execution_count": null,
   "id": "fd57b243-5598-46d0-86fd-281860c4f76c",
   "metadata": {},
   "outputs": [],
   "source": []
  },
  {
   "cell_type": "code",
   "execution_count": 46,
   "id": "e31fd249-4aeb-40e8-989d-bea132ef726c",
   "metadata": {},
   "outputs": [],
   "source": []
  },
  {
   "cell_type": "code",
   "execution_count": 44,
   "id": "47247136-b3d5-4cc1-ad49-4420a84fbfbf",
   "metadata": {},
   "outputs": [],
   "source": [
    "current_directory = os.getcwd()\n",
    "parent = os.path.dirname(current_directory)"
   ]
  },
  {
   "cell_type": "code",
   "execution_count": 45,
   "id": "bf68e340-3ad5-42a7-9d0e-e487ae50f140",
   "metadata": {},
   "outputs": [
    {
     "data": {
      "text/plain": [
       "78"
      ]
     },
     "execution_count": 45,
     "metadata": {},
     "output_type": "execute_result"
    }
   ],
   "source": [
    "get_current_map(current_directory,parent)"
   ]
  },
  {
   "cell_type": "code",
   "execution_count": 17,
   "id": "5e4f6659-d67d-47c9-ba87-0a438efd71da",
   "metadata": {},
   "outputs": [
    {
     "data": {
      "text/plain": [
       "78"
      ]
     },
     "execution_count": 17,
     "metadata": {},
     "output_type": "execute_result"
    }
   ],
   "source": [
    "current_map"
   ]
  },
  {
   "cell_type": "code",
   "execution_count": null,
   "id": "a79b7b06-92a5-4370-b91f-d17dcf442dcd",
   "metadata": {},
   "outputs": [],
   "source": []
  },
  {
   "cell_type": "code",
   "execution_count": null,
   "id": "a89b9e1e-fba6-4400-8bb9-57a1d9474812",
   "metadata": {},
   "outputs": [],
   "source": []
  },
  {
   "cell_type": "code",
   "execution_count": null,
   "id": "af40ab80-74f1-4107-bc38-009feca050cc",
   "metadata": {},
   "outputs": [],
   "source": []
  },
  {
   "cell_type": "code",
   "execution_count": null,
   "id": "46f2b69b-90c1-41f6-936f-172e70eb4a89",
   "metadata": {},
   "outputs": [],
   "source": []
  },
  {
   "cell_type": "code",
   "execution_count": null,
   "id": "037be0ed-378d-4278-bbb3-b025559af3d1",
   "metadata": {},
   "outputs": [],
   "source": []
  },
  {
   "cell_type": "code",
   "execution_count": null,
   "id": "2eb22667-e5ef-446f-a4d1-d178033e2298",
   "metadata": {},
   "outputs": [],
   "source": []
  },
  {
   "cell_type": "code",
   "execution_count": null,
   "id": "925e1fda-8750-4351-85e1-ed6ee333fb6f",
   "metadata": {},
   "outputs": [],
   "source": []
  },
  {
   "cell_type": "code",
   "execution_count": null,
   "id": "3fa5326f-4dd0-451d-b946-378b61fa9fec",
   "metadata": {},
   "outputs": [],
   "source": []
  },
  {
   "cell_type": "code",
   "execution_count": null,
   "id": "6bea8df1-2d63-4cec-8cad-fe6a8448dbe5",
   "metadata": {},
   "outputs": [],
   "source": []
  },
  {
   "cell_type": "code",
   "execution_count": null,
   "id": "d5af51c9-8fcc-472d-8d3c-cb7746194419",
   "metadata": {},
   "outputs": [],
   "source": []
  },
  {
   "cell_type": "code",
   "execution_count": null,
   "id": "dd6ad4be-6c8d-4258-8796-c0253e877649",
   "metadata": {},
   "outputs": [],
   "source": []
  },
  {
   "cell_type": "code",
   "execution_count": null,
   "id": "db19da0e-214a-42bd-8655-ad02596ee170",
   "metadata": {},
   "outputs": [],
   "source": []
  },
  {
   "cell_type": "code",
   "execution_count": null,
   "id": "3254ed63-b1c0-4d61-a4ac-3e8a5457aabf",
   "metadata": {},
   "outputs": [],
   "source": []
  },
  {
   "cell_type": "code",
   "execution_count": null,
   "id": "4a736127-aa68-4333-9aa5-4b6b83a21221",
   "metadata": {},
   "outputs": [],
   "source": []
  },
  {
   "cell_type": "code",
   "execution_count": null,
   "id": "ab955958-b05a-49bc-8031-02c301a23ceb",
   "metadata": {},
   "outputs": [],
   "source": []
  },
  {
   "cell_type": "code",
   "execution_count": 2,
   "id": "73deac36-fa1c-41bc-b1dc-f9f57a9f6610",
   "metadata": {},
   "outputs": [],
   "source": []
  },
  {
   "cell_type": "code",
   "execution_count": null,
   "id": "f9118927-a64b-4d49-855e-f2a461f6bc9a",
   "metadata": {},
   "outputs": [],
   "source": [
    "(num_rows_of_maps - 1 - row_idx)"
   ]
  },
  {
   "cell_type": "code",
   "execution_count": null,
   "id": "31c6b3b6-81e1-4fae-bdb2-46d95e17341b",
   "metadata": {},
   "outputs": [],
   "source": []
  },
  {
   "cell_type": "code",
   "execution_count": null,
   "id": "0c9bd460-d521-40f8-ba19-e7e96c8f06f5",
   "metadata": {},
   "outputs": [],
   "source": []
  },
  {
   "cell_type": "code",
   "execution_count": 4,
   "id": "bf35048a-d258-467f-ba6a-883f69d1aa95",
   "metadata": {},
   "outputs": [
    {
     "name": "stderr",
     "output_type": "stream",
     "text": [
      "I0000 00:00:1749153876.205756    4580 gpu_device.cc:2019] Created device /job:localhost/replica:0/task:0/device:GPU:0 with 5563 MB memory:  -> device: 0, name: NVIDIA GeForce RTX 4060, pci bus id: 0000:01:00.0, compute capability: 8.9\n",
      "I0000 00:00:1749153876.210120    4580 gpu_device.cc:2019] Created device /job:localhost/replica:0/task:0/device:GPU:1 with 6717 MB memory:  -> device: 1, name: NVIDIA GeForce GTX 1070, pci bus id: 0000:03:00.0, compute capability: 6.1\n"
     ]
    },
    {
     "name": "stdout",
     "output_type": "stream",
     "text": [
      "RESIZE = 6.0 rows, 13.0 columns\n",
      "Generating 78 new maps.\n",
      "Map generation complete. Generated maps from ID 0 to 77.\n"
     ]
    }
   ],
   "source": [
    "init_map, final_map, block_size = create_maps(image_path,world_name= world_name,channels = 3)"
   ]
  },
  {
   "cell_type": "code",
   "execution_count": 4,
   "id": "5047fb8f-0328-41a0-84a4-3a49645f5aad",
   "metadata": {},
   "outputs": [],
   "source": [
    "write_frame_wall(num_rows_of_maps = 6,\n",
    "                 num_cols_of_maps = 13,\n",
    "                 map_range =(0,78),\n",
    "                 out_name = out_name,\n",
    "                 world_name = world_name)"
   ]
  },
  {
   "cell_type": "code",
   "execution_count": null,
   "id": "e6d3f3b3-6541-4484-9c1d-076214d28dc8",
   "metadata": {},
   "outputs": [],
   "source": [
    "create_map_support(12,6,(0,77),south)"
   ]
  },
  {
   "cell_type": "code",
   "execution_count": null,
   "id": "75ae8823-469c-4b9b-9d9e-6a9542afd394",
   "metadata": {},
   "outputs": [],
   "source": []
  },
  {
   "cell_type": "code",
   "execution_count": null,
   "id": "dc4ed10c-1233-4e3a-a011-0935761bd006",
   "metadata": {},
   "outputs": [],
   "source": [
    "e = create_template_datfile(title=\"some_data_idk\")"
   ]
  },
  {
   "cell_type": "code",
   "execution_count": null,
   "id": "eb4ecaa0-73d9-4744-81b5-3b7bbb0a09d7",
   "metadata": {},
   "outputs": [],
   "source": [
    "e"
   ]
  },
  {
   "cell_type": "code",
   "execution_count": null,
   "id": "f78e0cde-bb32-4c2d-9bb8-f9f44d49bf10",
   "metadata": {},
   "outputs": [],
   "source": [
    "nbtfile = create_template_datfile(title=f\"{image_name}_map_{0}.dat\")"
   ]
  },
  {
   "cell_type": "code",
   "execution_count": null,
   "id": "1d0393d4-66e0-4cc6-a6c3-e3f24c0ed3e0",
   "metadata": {},
   "outputs": [],
   "source": [
    "type(nbtfile)"
   ]
  },
  {
   "cell_type": "code",
   "execution_count": null,
   "id": "7147dd37-9b96-4b4a-819d-06e506860faf",
   "metadata": {},
   "outputs": [],
   "source": []
  },
  {
   "cell_type": "code",
   "execution_count": null,
   "id": "2a151d23-1f7a-4dcc-bd08-3f7c47a675a6",
   "metadata": {},
   "outputs": [],
   "source": []
  },
  {
   "cell_type": "code",
   "execution_count": null,
   "id": "f6c529f3-ab2d-4549-8d1c-512d167d6f04",
   "metadata": {},
   "outputs": [],
   "source": []
  },
  {
   "cell_type": "code",
   "execution_count": null,
   "id": "415e5c6f-888f-4924-bbbb-20b18df3e2c0",
   "metadata": {},
   "outputs": [],
   "source": []
  },
  {
   "cell_type": "code",
   "execution_count": null,
   "id": "6a9bfbe3-1095-4664-a8d2-16b96cd3ae56",
   "metadata": {},
   "outputs": [],
   "source": []
  },
  {
   "cell_type": "code",
   "execution_count": null,
   "id": "514a3a38-2c1b-4437-a5ee-0bc7fb5dc328",
   "metadata": {},
   "outputs": [],
   "source": []
  },
  {
   "cell_type": "code",
   "execution_count": null,
   "id": "f2ca46f4-0c8c-4f8c-b748-dcf0f43bfdf3",
   "metadata": {},
   "outputs": [],
   "source": []
  },
  {
   "cell_type": "code",
   "execution_count": null,
   "id": "11abb1a3-6ff1-46af-a065-6cd9355200a4",
   "metadata": {},
   "outputs": [],
   "source": []
  },
  {
   "cell_type": "code",
   "execution_count": null,
   "id": "c30e8e9c-3d05-401c-856f-6aa140c6a3e9",
   "metadata": {},
   "outputs": [],
   "source": []
  },
  {
   "cell_type": "code",
   "execution_count": null,
   "id": "a35ed3c3-6634-4cee-9a06-c9c357b135fc",
   "metadata": {},
   "outputs": [],
   "source": []
  },
  {
   "cell_type": "code",
   "execution_count": null,
   "id": "157b98d6-f7e3-4e33-a7ae-f830e6034eb0",
   "metadata": {},
   "outputs": [],
   "source": [
    "block_size = (2,4)\n",
    "write_frame_wall(num_rows_of_maps = block_size[0],\n",
    "                 num_cols_of_maps =block_size[1],\n",
    "                 map_range = (init_map,final_map),\n",
    "                 out_name = out_name)"
   ]
  },
  {
   "cell_type": "code",
   "execution_count": null,
   "id": "1ce2656f-77b8-4869-8263-e521c711f3a4",
   "metadata": {},
   "outputs": [],
   "source": [
    "init_map"
   ]
  },
  {
   "cell_type": "code",
   "execution_count": null,
   "id": "4898f2b4-270e-42ca-8d46-f775516ad8a0",
   "metadata": {},
   "outputs": [],
   "source": []
  },
  {
   "cell_type": "code",
   "execution_count": null,
   "id": "d1c72833-1883-450e-8a62-8e39188eb026",
   "metadata": {},
   "outputs": [],
   "source": []
  },
  {
   "cell_type": "code",
   "execution_count": null,
   "id": "5bc736be-af2e-4d95-a437-28d1fba5a33a",
   "metadata": {},
   "outputs": [],
   "source": []
  },
  {
   "cell_type": "code",
   "execution_count": null,
   "id": "cb247b70-321c-490f-ab50-493e5295abcc",
   "metadata": {},
   "outputs": [],
   "source": []
  },
  {
   "cell_type": "code",
   "execution_count": null,
   "id": "cb6abc16-8ab5-4d7a-8fb7-c82da28c2d92",
   "metadata": {},
   "outputs": [],
   "source": []
  },
  {
   "cell_type": "code",
   "execution_count": null,
   "id": "2589c80c-aae7-499f-b021-b8721c0159cd",
   "metadata": {},
   "outputs": [],
   "source": []
  },
  {
   "cell_type": "code",
   "execution_count": null,
   "id": "7e98deb9-6dc2-4669-b3f2-753d5bac7cc6",
   "metadata": {},
   "outputs": [],
   "source": [
    "# import numpy as np\n",
    "# from sklearn.neighbors import NearestNeighbors\n",
    "# import joblib\n",
    "# import tensorflow as tf\n",
    "# import os\n",
    "\n",
    "\n",
    "# def get_mcid_color_model():\n",
    "#     mcid_to_rgb = joblib.load('color_dicts/mcid_to_rgb.pkl')\n",
    "    \n",
    "#     colors = np.array(list(mcid_to_rgb.values()))\n",
    "#     color_model = NearestNeighbors(n_neighbors=1, metric='euclidean')\n",
    "#     color_model.fit(colors)\n",
    "#     return color_model, mcid_to_rgb\n",
    "\n",
    "# def load_image_for_map(image_path, channels: int):\n",
    "#     image_bytes = tf.io.read_file(image_path)\n",
    "#     # Use decode_image for broader support, or ensure it's always JPEG\n",
    "#     image_tensor = tf.image.decode_image(image_bytes, channels=channels) \n",
    "#     int_image = tf.cast(image_tensor, dtype=tf.int32)\n",
    "#     return int_image\n",
    "\n",
    "# def prepare_image_size_to_map(image_path, channels: int):\n",
    "#     image_tensor = load_image_for_map(image_path, channels = channels)\n",
    "#     current_height = image_tensor.shape[0] # Height\n",
    "#     current_width = image_tensor.shape[1]  # Width\n",
    "\n",
    "#     # Calculate number of map chunks needed for height and width\n",
    "#     num_rows_of_maps = tf.math.ceil(current_height / 128).numpy()\n",
    "#     num_cols_of_maps = tf.math.ceil(current_width / 128).numpy()\n",
    "\n",
    "#     new_height = int(128 * num_rows_of_maps)\n",
    "#     new_width = int(128 * num_cols_of_maps)\n",
    "\n",
    "#     resized_image = tf.image.resize(image_tensor, ((new_height, new_width)))\n",
    "#     resized_image = tf.cast(resized_image, dtype=tf.int32)\n",
    "#     print(f'RESIZE = {num_rows_of_maps} rows, {num_cols_of_maps} columns')\n",
    "#     return resized_image, int(num_rows_of_maps), int(num_cols_of_maps)\n",
    "\n",
    "# def cut_image_into_128_squares(image_path, channels: int):\n",
    "#     image_squares = []\n",
    "#     original_image, num_rows_of_maps, num_cols_of_maps = prepare_image_size_to_map(image_path, channels)\n",
    "#     row_splits = tf.split(original_image, num_or_size_splits=num_rows_of_maps, axis=0)\n",
    "\n",
    "#     for row_strip in row_splits:\n",
    "#         col_splits = tf.split(row_strip, num_or_size_splits=num_cols_of_maps, axis=1)\n",
    "#         for map_square in col_splits:\n",
    "#             image_squares.append(map_square)\n",
    "\n",
    "#     return image_squares, num_rows_of_maps, num_cols_of_maps\n",
    " \n",
    "# def prepare_square_for_prediction(sliced_image):\n",
    "#     to_predict = tf.reshape(sliced_image, [128*128, 3])\n",
    "#     return to_predict\n",
    "\n",
    "# def get_img_slices_for_prediction(image_path, channels = 3):\n",
    "#     for_predictions = [] \n",
    "#     image_squares, num_rows_of_maps, num_cols_of_maps = cut_image_into_128_squares(image_path, channels = 3)\n",
    "#     for one_square in image_squares:\n",
    "#         one_square_for_prediction = prepare_square_for_prediction(one_square)\n",
    "#         for_predictions.append(one_square_for_prediction)\n",
    "#     return for_predictions, image_squares, num_rows_of_maps, num_cols_of_maps\n",
    "\n",
    "# def rgb_to_ints(image_path, channels = 3):\n",
    "#     for_predictions, image_squares, num_rows_of_maps, num_cols_of_maps = get_img_slices_for_prediction(image_path, channels = 3)\n",
    "#     colors_square_ids = []\n",
    "#     color_model, mcid_to_rgb = get_mcid_color_model()\n",
    "#     for square in for_predictions:\n",
    "#         distances , inds = color_model.kneighbors(square)\n",
    "#         colors_square_ids.append(inds+4) # Keep `+4` as per your successful fix for colors\n",
    "#     return colors_square_ids, num_rows_of_maps, num_cols_of_maps\n",
    "\n",
    "# def create_maps(image_path, channels = 3):\n",
    "#     maps_colors, num_rows_of_maps, num_cols_of_maps = rgb_to_ints(image_path, channels = 3)\n",
    "#     n_file = get_current_map() \n",
    "#     init_map = get_current_map()\n",
    "    \n",
    "#     print('n maps: ',len(maps_colors))\n",
    "#     for ind, map_file in enumerate(maps_colors):\n",
    "#         count = 0\n",
    "#         nbt_file = nbt.NBTFile(\"example_map.dat\",\"rb\") \n",
    "#         color_data = [x[0] for x in map_file]\n",
    "#         for x in range(128):\n",
    "#             for y in range(128):\n",
    "#                 mc_id = color_data[count]\n",
    "#                 assert type(mc_id) == np.int64\n",
    "#                 nbt_file[\"data\"][\"colors\"][x+(y*128)] = mc_id\n",
    "#                 count+=1\n",
    "#         nbt_file.write_file(f'maps/map_{n_file}.dat')\n",
    "#         n_file +=1\n",
    "#     final_map = n_file\n",
    "#     return init_map, final_map, (num_rows_of_maps, num_cols_of_maps)\n",
    "    \n",
    "# def get_current_map():\n",
    "#     current_map_files = [x for x in os.listdir('maps') if x.endswith('.dat')]\n",
    "#     available_map_ids = [int(x.replace('map_','').replace('.dat','')) for x in current_map_files]\n",
    "#     if len(available_map_ids) == 0:\n",
    "#         return 0\n",
    "#     else:\n",
    "#         return max(available_map_ids) + 1\n",
    "\n",
    "# def fill_line(x1,y1,z1,x2,y2,z2,material):\n",
    "#     return f\"fill ~-{x1} ~{y1} ~{z1} ~-{x2} ~{y2} ~{z2} minecraft:{material}\\n\"\n",
    "\n",
    "# def summon_map_line(x_offset,y_offset,z_offset,n_map):\n",
    "#     # This function summons a glow item frame with a map\n",
    "#     # Facing:2 means facing North (positive Z)\n",
    "#     return f\"summon minecraft:glow_item_frame ~-{x_offset} ~{y_offset} ~{z_offset} \" +\\\n",
    "#             \"{Facing:2,Item:{id:'minecraft:filled_map',count:1,components:{'minecraft:map_id':\" +\\\n",
    "#             f\"{n_map}\"+\"}}}\\n\"\n",
    "\n",
    "# def create_map_support(num_rows_of_maps, num_cols_of_maps, map_range):\n",
    "#     mcfunction_lines = []\n",
    "#     mcfunction_lines.append(\n",
    "#         fill_line(\n",
    "#             0, \n",
    "#             0, \n",
    "#             1, \n",
    "#             num_cols_of_maps - 1, \n",
    "#             num_rows_of_maps - 1, \n",
    "#             1, # z2: Same depth\n",
    "#             'dirt'\n",
    "#         )\n",
    "#     )\n",
    "\n",
    "#     first_map = map_range[0]\n",
    "#     last_map = map_range[1]\n",
    "#     maps_numbers = [int(x.replace('map_','').replace('.dat','')) for x in os.listdir('maps') if x.endswith('.dat')]\n",
    "#     maps_numbers = [x for x in maps_numbers if x in range(first_map,last_map)]\n",
    "#     maps_numbers = sorted(maps_numbers) # Ensure maps are sorted numerically\n",
    "    \n",
    "#     return mcfunction_lines, maps_numbers\n",
    "    \n",
    "\n",
    "# def write_frame_wall(num_rows_of_maps, num_cols_of_maps, map_range, out_name):\n",
    "#     mcfunction_lines, maps_numbers = create_map_support(num_rows_of_maps, num_cols_of_maps, map_range)\n",
    "    \n",
    "#     n_map = map_range[0]\n",
    "#     for row_idx in range(num_rows_of_maps):\n",
    "#         for col_idx in range(num_cols_of_maps):\n",
    "#             inverted_col_idx = (num_cols_of_maps - 1 - col_idx)\n",
    "            \n",
    "#             mcfunction_lines.append(\n",
    "#                 summon_map_line(\n",
    "#                     inverted_col_idx, \n",
    "#                     (num_rows_of_maps - 1 - row_idx),\n",
    "#                     0,\n",
    "#                     n_map \n",
    "#                 )\n",
    "#             )\n",
    "#             n_map += 1\n",
    "#             if n_map > map_range[1]:\n",
    "#                 break \n",
    "#         if n_map > map_range[1]:\n",
    "#             break\n",
    "\n",
    "#     with open(out_name, \"w\") as f:\n",
    "#         for line in mcfunction_lines:\n",
    "#             f.write(line)"
   ]
  },
  {
   "cell_type": "code",
   "execution_count": null,
   "id": "20a6b2f0-649a-47ac-b537-ce2c162e0663",
   "metadata": {},
   "outputs": [],
   "source": []
  },
  {
   "cell_type": "code",
   "execution_count": null,
   "id": "7e2f0aad-3ee1-4d37-988a-8656fd3ac7d1",
   "metadata": {},
   "outputs": [],
   "source": [
    "init_map"
   ]
  },
  {
   "cell_type": "code",
   "execution_count": null,
   "id": "bd666f40-ba39-471d-bcfa-2ae8c8b719f1",
   "metadata": {},
   "outputs": [],
   "source": []
  },
  {
   "cell_type": "code",
   "execution_count": null,
   "id": "3b793250-1978-4b26-9147-4f7eb2f8ee1f",
   "metadata": {},
   "outputs": [],
   "source": []
  },
  {
   "cell_type": "code",
   "execution_count": null,
   "id": "7835637c-b714-4a44-a68a-ea260fb9021f",
   "metadata": {},
   "outputs": [],
   "source": []
  },
  {
   "cell_type": "code",
   "execution_count": null,
   "id": "0dd980b1-aed9-4e65-a4ce-20a5dbb01f55",
   "metadata": {},
   "outputs": [],
   "source": [
    "write_frame_wall(num_rows_of_maps, num_cols_of_maps, map_range, out_name)"
   ]
  },
  {
   "cell_type": "code",
   "execution_count": null,
   "id": "91d0aee4-b836-4cee-8b6c-d4e4b9d6d870",
   "metadata": {},
   "outputs": [],
   "source": []
  },
  {
   "cell_type": "code",
   "execution_count": null,
   "id": "e99d777d-362d-4ca0-a69c-fb75fd9efe18",
   "metadata": {},
   "outputs": [],
   "source": []
  },
  {
   "cell_type": "code",
   "execution_count": null,
   "id": "3eb9f9aa-83ff-41d9-bfbb-c340c647cfc0",
   "metadata": {},
   "outputs": [],
   "source": [
    "def get_mcid_color_model():\n",
    "    mcid_to_rgb = joblib.load('color_dicts/mcid_to_rgb.pkl')\n",
    "    colors = np.array(list(mcid_to_rgb.values()))\n",
    "    color_model = NearestNeighbors(n_neighbors=1, metric='euclidean')\n",
    "    color_model.fit(colors)\n",
    "    return color_model,mcid_to_rgb\n",
    "def load_image_for_map(image_path, channels: int):\n",
    "    image_bytes = tf.io.read_file(image_path)\n",
    "    image_tensor = tf.image.decode_jpeg(image_bytes, channels=channels)\n",
    "    int_image = tf.cast(image_tensor, dtype=tf.int32)\n",
    "    return int_image\n",
    "def prepare_image_size_to_map(image_path, channels: int):\n",
    "    image_tensor = load_image_for_map(image_path, channels = channels)\n",
    "    current_x = image_tensor.shape[0]\n",
    "    current_y = image_tensor.shape[1]\n",
    "    x_pieces = tf.math.ceil(current_x / 128).numpy()\n",
    "    y_pieces = tf.math.ceil(current_y / 128).numpy()\n",
    "    new_x = int(128 * x_pieces)\n",
    "    new_y = int(128 * y_pieces)\n",
    "    resized_image = tf.image.resize(image_tensor, ((new_x, new_y)))\n",
    "    resized_image = tf.cast(resized_image, dtype=tf.int32)\n",
    "    print(f'RESIZE = {x_pieces}, {y_pieces}')\n",
    "    return resized_image, int(x_pieces), int(y_pieces)\n",
    "# def cut_image_into_128_squares_(image_path, channels: int):\n",
    "#     image_squares = []\n",
    "#     original_image, x_pieces, y_pieces = prepare_image_size_to_map(image_path, channels)\n",
    "#     columns = tf.split(original_image, num_or_size_splits=y_pieces, axis=1)\n",
    "#     for square in columns:\n",
    "#         squares = tf.split(square, num_or_size_splits=x_pieces, axis=0)\n",
    "#         for one_square in squares:\n",
    "#             image_squares.append(one_square)\n",
    "#     return image_squares, x_pieces, y_pieces\n",
    "\n",
    "# def cut_image_into_128_squares(image_path, channels: int):\n",
    "#     image_squares = []\n",
    "#     original_image, x_pieces, y_pieces = prepare_image_size_to_map(image_path, channels)\n",
    "\n",
    "#     # Change the splitting order to row-major\n",
    "#     rows = tf.split(original_image, num_or_size_splits=x_pieces, axis=0) # Split by rows (height)\n",
    "#     for row_tensor in rows: # row_tensor is a horizontal strip of the image\n",
    "#         squares = tf.split(row_tensor, num_or_size_splits=y_pieces, axis=1) # Split each row into columns (width)\n",
    "#         for one_square in squares:\n",
    "#             image_squares.append(one_square) # Appends A, B, C, D for the 2x2 example\n",
    "#     return image_squares, x_pieces, y_pieces\n",
    "\n",
    "\n",
    "def cut_image_into_128_squares(image_path, channels: int):\n",
    "    image_squares = []\n",
    "    original_image, num_rows_of_maps, num_cols_of_maps = prepare_image_size_to_map(image_path, channels)\n",
    "\n",
    "    # Split the image into horizontal strips (rows of 128px height)\n",
    "    # original_image.shape[0] is height\n",
    "    row_splits = tf.split(original_image, num_or_size_splits=num_rows_of_maps, axis=0)\n",
    "\n",
    "    for row_strip in row_splits:\n",
    "        # For each horizontal strip, split it into 128x128 squares (columns)\n",
    "        # row_strip.shape[1] is width\n",
    "        col_splits = tf.split(row_strip, num_or_size_splits=num_cols_of_maps, axis=1)\n",
    "        for map_square in col_splits:\n",
    "            image_squares.append(map_square)\n",
    "\n",
    "    # Ensure the return values match your x_pieces, y_pieces naming convention\n",
    "    # where x_pieces is typically horizontal (width) and y_pieces is vertical (height)\n",
    "    # In your case, it seems x_pieces means num_rows_of_maps and y_pieces means num_cols_of_maps\n",
    "    return image_squares, num_rows_of_maps, num_cols_of_maps # Returning what you called x_pieces, y_pieces\n",
    "\n",
    "    \n",
    "def prepare_square_for_prediction(sliced_image):\n",
    "    to_predict = tf.reshape(sliced_image, [128*128, 3])\n",
    "    return to_predict\n",
    "def get_img_slices_for_prediction(image_path, channels = 3):\n",
    "    for_predictions = [] \n",
    "    image_squares, x_pieces, y_pieces = cut_image_into_128_squares(image_path, channels = 3)\n",
    "    #print(len(image_squares))\n",
    "    for ind,one_square in enumerate(image_squares):\n",
    "        #print(ind)\n",
    "        one_square_for_prediction = prepare_square_for_prediction(one_square)\n",
    "        for_predictions.append(one_square_for_prediction)\n",
    "    return for_predictions, image_squares, x_pieces, y_pieces\n",
    "def rgb_to_ints(image_path, channels = 3):\n",
    "    for_predictions, image_squares, x_pieces, y_pieces = get_img_slices_for_prediction(image_path, channels = 3)\n",
    "    colors_square_ids = []\n",
    "    color_model, mcid_to_rgb = get_mcid_color_model()\n",
    "    for square in for_predictions:\n",
    "        #map_colors, colors_to_id = get_color_map_ids()\n",
    "        distances , inds = color_model.kneighbors(square)\n",
    "        colors_square_ids.append(inds+4) \n",
    "    return colors_square_ids, x_pieces, y_pieces\n",
    "def create_maps(image_path, channels = 3):\n",
    "    maps_colors, x_pieces, y_pieces = rgb_to_ints(image_path, channels = 3)\n",
    "    n_file = get_current_map() \n",
    "    init_map = get_current_map()\n",
    "    \n",
    "    \n",
    "    print('n maps: ',len(maps_colors))\n",
    "    for ind, map_file in enumerate(maps_colors):\n",
    "        count = 0\n",
    "        nbt_file = nbt.NBTFile(\"example_map.dat\",\"rb\")\n",
    "        color_data = [x[0] for x in map_file]\n",
    "        for x in range(128):\n",
    "            for y in range(128):\n",
    "                mc_id = color_data[count]\n",
    "                assert type(mc_id) == np.int64\n",
    "                nbt_file[\"data\"][\"colors\"][x+(y*128)] = mc_id\n",
    "                count+=1\n",
    "        nbt_file.write_file(f'maps/map_{n_file}.dat')\n",
    "        n_file +=1\n",
    "    final_map = n_file\n",
    "    return init_map, final_map, (x_pieces, y_pieces)\n",
    "    \n",
    "def get_current_map():\n",
    "    current_map = [x for x in os.listdir('maps') if x.endswith('.dat')]\n",
    "    available_maps = [int(x.replace('map_','').replace('.dat','')) for x in current_map]\n",
    "    if len(available_maps) == 0:\n",
    "        return 0\n",
    "    else:\n",
    "        current_map = max([int(x.replace('map_','').replace('.dat','')) for x in current_map])\n",
    "    return current_map\n",
    "def fill_line(x1,y1,z1,x2,y2,z2,material):\n",
    "    return f\"fill ~-{x1} ~{y1} ~{z1} ~-{x2} ~{y2} ~{z2} minecraft:{material}\\n\"\n",
    "def summon_map_line(x,y,z,n_map):\n",
    "    return f\"summon minecraft:glow_item_frame ~-{x} ~{y} ~{z} \" +\\\n",
    "            \"{Facing:2,Item:{id:'minecraft:filled_map',count:1,components:{'minecraft:map_id':\" +\\\n",
    "            f\"{n_map}\"+\"}}}\\n\"\n",
    "def create_map_support(x,y, map_range):\n",
    "    mcfunction_lines = []\n",
    "\n",
    "    first_map = map_range[0]\n",
    "    last_map = map_range[1]\n",
    "    maps_numbers = [x for x in os.listdir('maps') if x.endswith('.dat')]\n",
    "    maps_numbers = [x.replace('map_','') for x in maps_numbers]\n",
    "    maps_numbers = [x.replace('.dat','') for x in maps_numbers]\n",
    "    maps_numbers = [int(x) for x in maps_numbers if int(x) in range(first_map,last_map)]\n",
    "    maps_numbers = sorted(maps_numbers)\n",
    "    for column in range(x):\n",
    "        mcfunction_lines.append(fill_line(column,0,1,y,x,1,'dirt'))\n",
    "    return mcfunction_lines, maps_numbers\n",
    "    \n",
    "def write_frame_wall(x,y, map_range, out_name):\n",
    "    mcfunction_lines, maps_numbers = create_map_support(x,y, map_range)\n",
    "    n_map = map_range[0]\n",
    "    for column in range(x):\n",
    "        for row in range(y):\n",
    "            mcfunction_lines.append(summon_map_line(row,abs(column-x),0,n_map))\n",
    "            n_map += 1\n",
    "            if n_map > map_range[1]:\n",
    "                break\n",
    "    with open(out_name, \"w\") as f:\n",
    "        for line in mcfunction_lines:\n",
    "            f.write(line)"
   ]
  },
  {
   "cell_type": "code",
   "execution_count": null,
   "id": "d510c1c4-19e0-4c27-9c60-6989f6f807fa",
   "metadata": {},
   "outputs": [],
   "source": [
    "init_map, final_map, block_size = create_maps(image_path, channels = 3)"
   ]
  },
  {
   "cell_type": "code",
   "execution_count": null,
   "id": "6ca664af-0834-4e9e-9422-e92e96592231",
   "metadata": {},
   "outputs": [],
   "source": [
    "init_map"
   ]
  },
  {
   "cell_type": "code",
   "execution_count": null,
   "id": "d5ca9b2e-b449-4fe8-98a0-b29d47bf1459",
   "metadata": {},
   "outputs": [],
   "source": [
    "final_map"
   ]
  },
  {
   "cell_type": "code",
   "execution_count": null,
   "id": "4efd0a8a-762c-47f2-8979-c12107b1f096",
   "metadata": {},
   "outputs": [],
   "source": [
    "block_size"
   ]
  },
  {
   "cell_type": "code",
   "execution_count": null,
   "id": "367b53fb-fed6-4a4f-a6dc-87718f50dd92",
   "metadata": {},
   "outputs": [],
   "source": [
    "write_frame_wall(x = block_size[0], y =block_size[1]+1,\n",
    "                 map_range = (init_map,final_map), out_name = 'try_11.mcfunction')"
   ]
  },
  {
   "cell_type": "code",
   "execution_count": null,
   "id": "7b63b10c-b02b-4506-ab05-4a6168da3435",
   "metadata": {},
   "outputs": [],
   "source": []
  },
  {
   "cell_type": "code",
   "execution_count": null,
   "id": "59247112-8c54-4ab1-ac9e-a22e9e0f072d",
   "metadata": {},
   "outputs": [],
   "source": []
  },
  {
   "cell_type": "code",
   "execution_count": null,
   "id": "8627d349-56f1-4e66-9e95-091bf3d3f848",
   "metadata": {},
   "outputs": [],
   "source": []
  },
  {
   "cell_type": "code",
   "execution_count": null,
   "id": "0a28101e-b414-4ec0-9f9c-5b0c2bdb415d",
   "metadata": {},
   "outputs": [],
   "source": []
  },
  {
   "cell_type": "code",
   "execution_count": null,
   "id": "674d672c-e7f3-4234-8cbe-13ae17d0a0dd",
   "metadata": {},
   "outputs": [],
   "source": []
  },
  {
   "cell_type": "code",
   "execution_count": null,
   "id": "6462ee40-15b3-4127-9467-6366bfe3bdac",
   "metadata": {},
   "outputs": [],
   "source": []
  },
  {
   "cell_type": "code",
   "execution_count": null,
   "id": "d01e87e2-0beb-420b-b905-cf7e04058d65",
   "metadata": {},
   "outputs": [],
   "source": []
  },
  {
   "cell_type": "code",
   "execution_count": null,
   "id": "a632dc30-b6fb-40f4-89a0-a7020a0bb2c6",
   "metadata": {},
   "outputs": [],
   "source": []
  },
  {
   "cell_type": "code",
   "execution_count": null,
   "id": "cff275d4-3613-48de-a521-d610ee0cdd5b",
   "metadata": {},
   "outputs": [],
   "source": []
  },
  {
   "cell_type": "code",
   "execution_count": null,
   "id": "944a1652-70d1-4217-8896-102f35e4a63a",
   "metadata": {},
   "outputs": [],
   "source": []
  },
  {
   "cell_type": "code",
   "execution_count": null,
   "id": "500e9b0f-ea66-4a46-8b69-304689adc831",
   "metadata": {},
   "outputs": [],
   "source": []
  },
  {
   "cell_type": "code",
   "execution_count": null,
   "id": "8c3797f1-30d3-4be9-a7fc-984ccb39f87d",
   "metadata": {},
   "outputs": [],
   "source": [
    "maps_path = 'maps/map_1.dat'"
   ]
  },
  {
   "cell_type": "code",
   "execution_count": null,
   "id": "4981060c-735c-425b-add8-09319d365c0c",
   "metadata": {},
   "outputs": [],
   "source": [
    "nbt_file = nbt.NBTFile(maps_path)"
   ]
  },
  {
   "cell_type": "code",
   "execution_count": null,
   "id": "bd345f42-362e-446d-b19b-1b3dd1d9431d",
   "metadata": {},
   "outputs": [],
   "source": [
    "nbt_file['data'].__dict__"
   ]
  },
  {
   "cell_type": "code",
   "execution_count": null,
   "id": "e2542b6c-f20b-4b89-a2a5-74ebdbce0c9b",
   "metadata": {},
   "outputs": [],
   "source": [
    "nbt_file['data'].__dict__"
   ]
  },
  {
   "cell_type": "code",
   "execution_count": null,
   "id": "86697a40-99f3-466c-aa08-be0c740eed44",
   "metadata": {},
   "outputs": [],
   "source": [
    "nbt_file['data'].tags[1].colors"
   ]
  },
  {
   "cell_type": "code",
   "execution_count": null,
   "id": "674a3f69-089e-4819-952d-97475f51c8ae",
   "metadata": {},
   "outputs": [],
   "source": [
    "help(nbt_file['data'])"
   ]
  },
  {
   "cell_type": "code",
   "execution_count": null,
   "id": "2bfd5a8e-0979-428a-8536-d6e63f633ccf",
   "metadata": {},
   "outputs": [],
   "source": []
  },
  {
   "cell_type": "code",
   "execution_count": null,
   "id": "c6808125-198b-4747-a120-0f601d90df63",
   "metadata": {},
   "outputs": [],
   "source": []
  },
  {
   "cell_type": "code",
   "execution_count": null,
   "id": "ec549efd-ea83-48cf-a45a-f928f8900f5c",
   "metadata": {},
   "outputs": [],
   "source": []
  },
  {
   "cell_type": "code",
   "execution_count": null,
   "id": "b410c358-5862-4af2-af02-777941a3341d",
   "metadata": {},
   "outputs": [],
   "source": []
  },
  {
   "cell_type": "code",
   "execution_count": null,
   "id": "c03c4cdc-e116-49c1-a698-18fbc91411ed",
   "metadata": {},
   "outputs": [],
   "source": []
  },
  {
   "cell_type": "code",
   "execution_count": null,
   "id": "4c42d3c6-c50f-435c-91b3-256e705270f8",
   "metadata": {},
   "outputs": [],
   "source": []
  },
  {
   "cell_type": "code",
   "execution_count": null,
   "id": "67c28caa-98bc-4565-977e-d4f84bdf99e7",
   "metadata": {},
   "outputs": [],
   "source": [
    "    with open(out_name, \"w\") as f:\n",
    "        for line in mcfunction_lines:\n",
    "            f.write(line)"
   ]
  },
  {
   "cell_type": "code",
   "execution_count": null,
   "id": "03d67b9e-1e6c-4868-8bba-977f5223e863",
   "metadata": {},
   "outputs": [],
   "source": []
  },
  {
   "cell_type": "code",
   "execution_count": null,
   "id": "22194bb9-8c3d-4150-8681-ec719acf3773",
   "metadata": {},
   "outputs": [],
   "source": []
  },
  {
   "cell_type": "code",
   "execution_count": null,
   "id": "f2b97617-d56c-4371-84f6-f95b0f28acdb",
   "metadata": {},
   "outputs": [],
   "source": [
    "lines = []"
   ]
  },
  {
   "cell_type": "code",
   "execution_count": null,
   "id": "4c1d4eb3-73f4-462a-98fa-89ed4860438c",
   "metadata": {},
   "outputs": [],
   "source": []
  },
  {
   "cell_type": "code",
   "execution_count": null,
   "id": "f245cc0b-dcfd-44b5-a8ea-b58f90ccebab",
   "metadata": {},
   "outputs": [],
   "source": [
    "def summon_map_line(x,y,z,n_map):\n",
    "    return f\"summon minecraft:glow_item_frame ~-{x} ~{y} ~{z} \" +\\\n",
    "            \"{Facing:2,Item:{id:'minecraft:filled_map',count:1,components:{'minecraft:map_id':\" +\\\n",
    "            f\"{n_map}\"+\"}}\""
   ]
  },
  {
   "cell_type": "code",
   "execution_count": null,
   "id": "e67db65c-194b-4c54-b430-2993520291fe",
   "metadata": {},
   "outputs": [],
   "source": [
    "summon_map_line(x = 1, y = 2,z = 3, n_map = 6)"
   ]
  },
  {
   "cell_type": "code",
   "execution_count": null,
   "id": "da585622-7c8b-424b-bb8e-c57a5d013264",
   "metadata": {},
   "outputs": [],
   "source": []
  },
  {
   "cell_type": "code",
   "execution_count": null,
   "id": "ecc0975e-c9a5-4fa9-b89c-99cb1a5fae83",
   "metadata": {},
   "outputs": [],
   "source": []
  },
  {
   "cell_type": "code",
   "execution_count": null,
   "id": "e7328438-d9c5-4771-b250-d1a5183f1408",
   "metadata": {},
   "outputs": [],
   "source": []
  },
  {
   "cell_type": "code",
   "execution_count": null,
   "id": "92cfc912-6b60-41fd-979d-d495a780f76b",
   "metadata": {},
   "outputs": [],
   "source": []
  },
  {
   "cell_type": "code",
   "execution_count": null,
   "id": "c6a428e0-c7cc-4792-84fe-1c1867c933b7",
   "metadata": {},
   "outputs": [],
   "source": [
    "x = 1\n",
    "y = 1\n",
    "z = 1\n",
    "n_map = 1"
   ]
  },
  {
   "cell_type": "code",
   "execution_count": null,
   "id": "617878a3-9620-4074-a416-64c1a6d7b875",
   "metadata": {},
   "outputs": [],
   "source": [
    "summon_line(x,y,z,n_map)"
   ]
  },
  {
   "cell_type": "code",
   "execution_count": null,
   "id": "0fd6e5f9-35dd-48f3-b981-29d56c987846",
   "metadata": {},
   "outputs": [],
   "source": []
  },
  {
   "cell_type": "code",
   "execution_count": null,
   "id": "da7ea4cf-194e-4766-aa5e-3352c21edc1d",
   "metadata": {},
   "outputs": [],
   "source": []
  },
  {
   "cell_type": "code",
   "execution_count": null,
   "id": "63d014c0-cf22-402f-9df7-83bca3ece0f1",
   "metadata": {},
   "outputs": [],
   "source": []
  },
  {
   "cell_type": "code",
   "execution_count": null,
   "id": "8cf11983-ee02-422a-a2e6-dc4a5c87bfe0",
   "metadata": {},
   "outputs": [],
   "source": []
  },
  {
   "cell_type": "code",
   "execution_count": null,
   "id": "494fc55e-c78c-4a98-b2ac-376ea59849ee",
   "metadata": {},
   "outputs": [],
   "source": []
  },
  {
   "cell_type": "code",
   "execution_count": null,
   "id": "58a647c7-a20d-48b6-96f4-e2bbab511f2b",
   "metadata": {},
   "outputs": [],
   "source": []
  },
  {
   "cell_type": "code",
   "execution_count": null,
   "id": "9b9228b9-4cc6-4216-9a8c-225774922a54",
   "metadata": {},
   "outputs": [],
   "source": []
  },
  {
   "cell_type": "code",
   "execution_count": null,
   "id": "8c964215-9f6c-4ba8-8e5e-dd7eac3bdb13",
   "metadata": {},
   "outputs": [],
   "source": [
    "# import numpy as np\n",
    "# from sklearn.neighbors import NearestNeighbors\n",
    "# import joblib\n",
    "# import tensorflow as tf\n",
    "# #from PIL import Image # Add PIL for image loading if not already used elsewhere for decode_jpeg\n",
    "# import os\n",
    "\n",
    "# # Ensure PIL is installed: pip install Pillow\n",
    "# # Ensure nbt is installed: pip install nbtlib (or similar, depending on your NBT library)\n",
    "\n",
    "# def get_mcid_color_model():\n",
    "#     mcid_to_rgb = joblib.load('color_dicts/mcid_to_rgb.pkl')\n",
    "#     # It's safer to sort the keys to ensure consistent indexing for NearestNeighbors\n",
    "#     # This was discussed in the previous turn; if you're using `inds+4`,\n",
    "#     # it implies a fixed offset, which might work if your mcid_to_rgb.pkl\n",
    "#     # always loads in that specific order. For robustness, the explicit\n",
    "#     # index-to-MCID mapping is better, but for now, we'll keep `inds+4` as you confirmed it works.\n",
    "    \n",
    "#     # If the `inds+4` works, it means the 0-based index from NearestNeighbors\n",
    "#     # maps to the actual MCID after adding 4. This implies your `mcid_to_rgb.pkl`\n",
    "#     # has MCIDs starting from 4, and they are ordered sequentially in the dictionary values.\n",
    "#     # For example: {4: (R0,G0,B0), 5: (R1,G1,B1), ...}\n",
    "    \n",
    "#     colors = np.array(list(mcid_to_rgb.values()))\n",
    "#     color_model = NearestNeighbors(n_neighbors=1, metric='euclidean')\n",
    "#     color_model.fit(colors)\n",
    "#     return color_model, mcid_to_rgb\n",
    "\n",
    "# def load_image_for_map(image_path, channels: int):\n",
    "#     image_bytes = tf.io.read_file(image_path)\n",
    "#     # Use decode_image for broader support, or ensure it's always JPEG\n",
    "#     image_tensor = tf.image.decode_image(image_bytes, channels=channels) \n",
    "#     int_image = tf.cast(image_tensor, dtype=tf.int32)\n",
    "#     return int_image\n",
    "\n",
    "# def prepare_image_size_to_map(image_path, channels: int):\n",
    "#     image_tensor = load_image_for_map(image_path, channels = channels)\n",
    "#     current_height = image_tensor.shape[0] # Height\n",
    "#     current_width = image_tensor.shape[1]  # Width\n",
    "\n",
    "#     # Calculate number of map chunks needed for height and width\n",
    "#     num_rows_of_maps = tf.math.ceil(current_height / 128).numpy()\n",
    "#     num_cols_of_maps = tf.math.ceil(current_width / 128).numpy()\n",
    "\n",
    "#     new_height = int(128 * num_rows_of_maps)\n",
    "#     new_width = int(128 * num_cols_of_maps)\n",
    "\n",
    "#     resized_image = tf.image.resize(image_tensor, ((new_height, new_width)))\n",
    "#     resized_image = tf.cast(resized_image, dtype=tf.int32)\n",
    "#     print(f'RESIZE = {num_rows_of_maps} rows, {num_cols_of_maps} columns')\n",
    "#     return resized_image, int(num_rows_of_maps), int(num_cols_of_maps)\n",
    "\n",
    "# def cut_image_into_128_squares(image_path, channels: int):\n",
    "#     image_squares = []\n",
    "#     original_image, num_rows_of_maps, num_cols_of_maps = prepare_image_size_to_map(image_path, channels)\n",
    "\n",
    "#     # Split the image into horizontal strips (rows of 128px height)\n",
    "#     # axis=0 is height\n",
    "#     row_splits = tf.split(original_image, num_or_size_splits=num_rows_of_maps, axis=0)\n",
    "\n",
    "#     for row_strip in row_splits:\n",
    "#         # For each horizontal strip, split it into 128x128 squares (columns)\n",
    "#         # axis=1 is width\n",
    "#         col_splits = tf.split(row_strip, num_or_size_splits=num_cols_of_maps, axis=1)\n",
    "#         for map_square in col_splits:\n",
    "#             image_squares.append(map_square)\n",
    "\n",
    "#     return image_squares, num_rows_of_maps, num_cols_of_maps\n",
    " \n",
    "# def prepare_square_for_prediction(sliced_image):\n",
    "#     to_predict = tf.reshape(sliced_image, [128*128, 3])\n",
    "#     return to_predict\n",
    "\n",
    "# def get_img_slices_for_prediction(image_path, channels = 3):\n",
    "#     for_predictions = [] \n",
    "#     image_squares, num_rows_of_maps, num_cols_of_maps = cut_image_into_128_squares(image_path, channels = 3)\n",
    "#     for one_square in image_squares:\n",
    "#         one_square_for_prediction = prepare_square_for_prediction(one_square)\n",
    "#         for_predictions.append(one_square_for_prediction)\n",
    "#     return for_predictions, image_squares, num_rows_of_maps, num_cols_of_maps\n",
    "\n",
    "# def rgb_to_ints(image_path, channels = 3):\n",
    "#     for_predictions, image_squares, num_rows_of_maps, num_cols_of_maps = get_img_slices_for_prediction(image_path, channels = 3)\n",
    "#     colors_square_ids = []\n",
    "#     color_model, mcid_to_rgb = get_mcid_color_model()\n",
    "#     for square in for_predictions:\n",
    "#         distances , inds = color_model.kneighbors(square)\n",
    "#         colors_square_ids.append(inds+4) # Keep `+4` as per your successful fix for colors\n",
    "#     return colors_square_ids, num_rows_of_maps, num_cols_of_maps\n",
    "\n",
    "# def create_maps(image_path, channels = 3):\n",
    "#     maps_colors, num_rows_of_maps, num_cols_of_maps = rgb_to_ints(image_path, channels = 3)\n",
    "#     n_file = get_current_map() \n",
    "#     init_map = get_current_map()\n",
    "    \n",
    "#     print('n maps: ',len(maps_colors))\n",
    "#     for ind, map_file in enumerate(maps_colors):\n",
    "#         count = 0\n",
    "#         # Make sure 'example_map.dat' exists and is a valid NBT map template\n",
    "#         # Or create a new NBTFile structure if you don't have a template\n",
    "#         nbt_file = nbt.NBTFile(\"example_map.dat\",\"rb\") \n",
    "#         color_data = [x[0] for x in map_file]\n",
    "#         for x in range(128):\n",
    "#             for y in range(128):\n",
    "#                 mc_id = color_data[count]\n",
    "#                 assert type(mc_id) == np.int64\n",
    "#                 nbt_file[\"data\"][\"colors\"][x+(y*128)] = mc_id\n",
    "#                 count+=1\n",
    "#         nbt_file.write_file(f'maps/map_{n_file}.dat')\n",
    "#         n_file +=1\n",
    "#     final_map = n_file\n",
    "#     return init_map, final_map, (num_rows_of_maps, num_cols_of_maps)\n",
    "    \n",
    "# def get_current_map():\n",
    "#     current_map_files = [x for x in os.listdir('maps') if x.endswith('.dat')]\n",
    "#     available_map_ids = [int(x.replace('map_','').replace('.dat','')) for x in current_map_files]\n",
    "#     if len(available_map_ids) == 0:\n",
    "#         return 0\n",
    "#     else:\n",
    "#         # Find the maximum map ID and return the next one\n",
    "#         return max(available_map_ids) + 1 # Return the next available map ID\n",
    "\n",
    "# def fill_line(x1,y1,z1,x2,y2,z2,material):\n",
    "#     # This function creates a fill command relative to the player's position\n",
    "#     # ~-{x} means negative X offset, ~{y} means positive Y offset\n",
    "#     return f\"fill ~-{x1} ~{y1} ~{z1} ~-{x2} ~{y2} ~{z2} minecraft:{material}\\n\"\n",
    "\n",
    "# def summon_map_line(x_offset,y_offset,z_offset,n_map):\n",
    "#     # This function summons a glow item frame with a map\n",
    "#     # Facing:2 means facing North (positive Z)\n",
    "#     return f\"summon minecraft:glow_item_frame ~-{x_offset} ~{y_offset} ~{z_offset} \" +\\\n",
    "#             \"{Facing:2,Item:{id:'minecraft:filled_map',count:1,components:{'minecraft:map_id':\" +\\\n",
    "#             f\"{n_map}\"+\"}}}\\n\"\n",
    "\n",
    "# def create_map_support(num_rows_of_maps, num_cols_of_maps, map_range):\n",
    "#     mcfunction_lines = []\n",
    "\n",
    "#     # Create a single rectangular dirt wall behind where the maps will be placed.\n",
    "#     # The wall should cover the extent of the map grid.\n",
    "#     # X-coordinates for fill_line: from 0 (player's X) to num_cols_of_maps - 1 (most negative X offset)\n",
    "#     # Y-coordinates for fill_line: from 0 (player's Y) to num_rows_of_maps - 1 (most positive Y offset)\n",
    "#     # Z-coordinates for fill_line: 1 (behind the player for the wall)\n",
    "\n",
    "#     mcfunction_lines.append(\n",
    "#         fill_line(\n",
    "#             0, # x1: Start at player's X (0 offset)\n",
    "#             0, # y1: Start at player's Y (0 offset)\n",
    "#             1, # z1: Depth behind player (for the wall)\n",
    "#             num_cols_of_maps - 1, # x2: End at this X offset (max horizontal extent)\n",
    "#             num_rows_of_maps - 1, # y2: End at this Y offset (max vertical extent)\n",
    "#             1, # z2: Same depth\n",
    "#             'dirt'\n",
    "#         )\n",
    "#     )\n",
    "\n",
    "#     first_map = map_range[0]\n",
    "#     last_map = map_range[1]\n",
    "#     maps_numbers = [int(x.replace('map_','').replace('.dat','')) for x in os.listdir('maps') if x.endswith('.dat')]\n",
    "#     maps_numbers = [x for x in maps_numbers if x in range(first_map,last_map)]\n",
    "#     maps_numbers = sorted(maps_numbers) # Ensure maps are sorted numerically\n",
    "    \n",
    "#     return mcfunction_lines, maps_numbers\n",
    "    \n",
    "\n",
    "# def write_frame_wall(num_rows_of_maps, num_cols_of_maps, map_range, out_name):\n",
    "#     mcfunction_lines, maps_numbers = create_map_support(num_rows_of_maps, num_cols_of_maps, map_range)\n",
    "    \n",
    "#     n_map = map_range[0] # Starts from the first map ID generated (e.g., 0 for map_0.dat)\n",
    "\n",
    "#     # Iterate through the grid of maps in row-major order (top-to-bottom, left-to-right)\n",
    "#     # This matches how maps_colors are generated in rgb_to_ints\n",
    "#     for row_idx in range(num_rows_of_maps): # This is the vertical position on the wall\n",
    "#         for col_idx in range(num_cols_of_maps): # This is the horizontal position on the wall\n",
    "#             # The n_map variable increments linearly, corresponding to map_0, map_1, etc.\n",
    "#             # These maps are already in row-major order due to cut_image_into_128_squares.\n",
    "\n",
    "#             # Vertical position (y_offset for summon_map_line):\n",
    "#             # (num_rows_of_maps - 1 - row_idx) correctly inverts Y for display\n",
    "            \n",
    "#             # Horizontal position (x_offset for summon_map_line):\n",
    "#             # Invert the col_idx to display left-to-right (from player's perspective)\n",
    "#             # If col_idx=0 is top-left in data, it should be at the leftmost position on the wall.\n",
    "#             # Since ~-{x} puts increasing x to the left, we need to map 0 to largest x, and largest x to 0.\n",
    "#             inverted_col_idx = (num_cols_of_maps - 1 - col_idx)\n",
    "            \n",
    "#             mcfunction_lines.append(\n",
    "#                 summon_map_line(\n",
    "#                     inverted_col_idx, # Horizontal offset (x_coord in summon_map_line), now inverted\n",
    "#                     (num_rows_of_maps - 1 - row_idx), # Vertical offset (y_coord in summon_map_line)\n",
    "#                     0, # Z-position (on the wall, 0 offset from player)\n",
    "#                     n_map # Map ID\n",
    "#                 )\n",
    "#             )\n",
    "#             n_map += 1\n",
    "#             if n_map > map_range[1]:\n",
    "#                 break # Break inner loop if all maps are placed\n",
    "#         if n_map > map_range[1]:\n",
    "#             break # Break outer loop if all maps are placed\n",
    "\n",
    "#     with open(out_name, \"w\") as f:\n",
    "#         for line in mcfunction_lines:\n",
    "#             f.write(line)"
   ]
  },
  {
   "cell_type": "code",
   "execution_count": null,
   "id": "d843b1f0-56eb-48e7-bbde-607c0fdf31c4",
   "metadata": {},
   "outputs": [],
   "source": []
  },
  {
   "cell_type": "code",
   "execution_count": null,
   "id": "41c9ff57-d8cf-4633-aa7f-8d93b8fdfdee",
   "metadata": {},
   "outputs": [],
   "source": []
  },
  {
   "cell_type": "code",
   "execution_count": null,
   "id": "b9315619-2f48-486d-a26a-baa8b788f65f",
   "metadata": {},
   "outputs": [],
   "source": []
  }
 ],
 "metadata": {
  "kernelspec": {
   "display_name": "minecraft",
   "language": "python",
   "name": "minecraft"
  },
  "language_info": {
   "codemirror_mode": {
    "name": "ipython",
    "version": 3
   },
   "file_extension": ".py",
   "mimetype": "text/x-python",
   "name": "python",
   "nbconvert_exporter": "python",
   "pygments_lexer": "ipython3",
   "version": "3.12.9"
  }
 },
 "nbformat": 4,
 "nbformat_minor": 5
}
