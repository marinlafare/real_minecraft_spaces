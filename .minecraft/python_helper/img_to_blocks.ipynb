{
 "cells": [
  {
   "cell_type": "code",
   "execution_count": null,
   "id": "e696e28f-cf3c-4d9b-9a0f-5ea2367daee4",
   "metadata": {},
   "outputs": [],
   "source": [
    "import os\n",
    "from IPython.display import clear_output\n",
    "from exclude_blocks import *\n",
    "import joblib\n",
    "\n",
    "from map_creation import check_world_folder_existence\n",
    "import tensorflow as tf\n",
    "import numpy as np\n",
    "from sklearn.neighbors import NearestNeighbors\n",
    "import matplotlib.pyplot as plt"
   ]
  },
  {
   "cell_type": "code",
   "execution_count": 2,
   "id": "3a2c48c4-3639-4166-bce6-5cde4bad4d8c",
   "metadata": {},
   "outputs": [],
   "source": [
    "#color_to_material = joblib.load('color_dicts/color_to_material.pkl')\n",
    "material_to_color = joblib.load('color_dicts/material_to_color.pkl')"
   ]
  },
  {
   "cell_type": "markdown",
   "id": "b06064a6-8567-4cd9-bcc7-2ca0d89a2042",
   "metadata": {},
   "source": [
    "# CHECK WORLD NAME"
   ]
  },
  {
   "cell_type": "code",
   "execution_count": 3,
   "id": "298da994-3f66-45c4-9ad3-b7d57d5a98a6",
   "metadata": {},
   "outputs": [
    {
     "data": {
      "text/plain": [
       "True"
      ]
     },
     "execution_count": 3,
     "metadata": {},
     "output_type": "execute_result"
    }
   ],
   "source": [
    "world_name = 'main_test'\n",
    "check_world_folder_existence(world_name)"
   ]
  },
  {
   "cell_type": "markdown",
   "id": "38be30cc-8021-40d1-9c21-3640f987af81",
   "metadata": {},
   "source": [
    "# CHECK MCFUNCTION DIRECTORY"
   ]
  },
  {
   "cell_type": "code",
   "execution_count": 4,
   "id": "d9387548-cb59-4467-b33c-2184872f65ef",
   "metadata": {},
   "outputs": [
    {
     "data": {
      "text/plain": [
       "True"
      ]
     },
     "execution_count": 4,
     "metadata": {},
     "output_type": "execute_result"
    }
   ],
   "source": [
    "current_directory = os.getcwd()\n",
    "parent = os.path.dirname(current_directory)\n",
    "mcfunction_directory = os.path.join(parent,f'saves/{world_name}/datapacks/img/data/print/function')\n",
    "os.path.exists(mcfunction_directory)"
   ]
  },
  {
   "cell_type": "markdown",
   "id": "94d98f39-3b14-4387-bcc1-a667921e40ab",
   "metadata": {},
   "source": [
    "# CHOOSE IMAGE"
   ]
  },
  {
   "cell_type": "code",
   "execution_count": 5,
   "id": "2029160e-e1cc-498b-a33c-4fe04c243316",
   "metadata": {},
   "outputs": [],
   "source": [
    "image_name = 'nica.png'\n",
    "image_path = f'images/{image_name}'\n",
    "function_name = f\"blocks_{image_name}.mcfunction\"\n",
    "output_path = os.path.join(mcfunction_directory, function_name)"
   ]
  },
  {
   "cell_type": "markdown",
   "id": "e81bd94f-a809-46ec-9dcb-b1a382382e29",
   "metadata": {},
   "source": [
    "# IMG TO MATERIAL BLOCKS"
   ]
  },
  {
   "cell_type": "code",
   "execution_count": 6,
   "id": "9b04815d-ddc0-4705-af14-7710d92cd02c",
   "metadata": {},
   "outputs": [],
   "source": [
    "def load_image(image_path, channels: int, mirror_horizontal: bool = False):\n",
    "    image_bytes = tf.io.read_file(image_path)\n",
    "    image_tensor = tf.image.decode_image(image_bytes, channels=channels) \n",
    "    if mirror_horizontal:\n",
    "        image_tensor = tf.image.flip_left_right(image_tensor)\n",
    "    int_image = tf.cast(image_tensor, dtype=tf.int32)\n",
    "    return int_image"
   ]
  },
  {
   "cell_type": "code",
   "execution_count": 7,
   "id": "24831be8-8ebe-45b5-aca3-14402beafdae",
   "metadata": {},
   "outputs": [],
   "source": [
    "def resize(image_tensor, new_height, new_width):\n",
    "    resized_image = tf.image.resize(image_tensor, ((new_height, new_width)))\n",
    "    resized_image = tf.cast(resized_image, dtype=tf.int32)\n",
    "    return resized_image\n",
    "def assert_new_proportion(image_tensor):\n",
    "    current_size = image_tensor.shape[:2]\n",
    "    new_size = False\n",
    "    while True:\n",
    "        if not new_size:\n",
    "            is_this_ok = input(f'Is this ok: X:{current_size[0]}, Y: {current_size[1]}')\n",
    "        else:\n",
    "            is_this_ok = input(f'Is this ok: X:{new_size[0]}, Y: {new_size[1]}   ')\n",
    "        if is_this_ok != 'yes':\n",
    "            new_proportion = input('ok, new scale then: ')\n",
    "            try:\n",
    "                new_proportion = float(new_proportion)\n",
    "            except:\n",
    "                print(new_proportion, 'must be a float number, eg 0.2')\n",
    "                continue\n",
    "            new_size = [np.ceil(side * float(new_proportion)) for side in current_size]\n",
    "            print(new_size)\n",
    "        else:\n",
    "            if new_size:\n",
    "                image_tensor = resize(image_tensor, int(new_size[0]), int(new_size[1]))\n",
    "                return image_tensor, [int(x) for x in new_size]\n",
    "            else:\n",
    "                image_tensor = resize(image_tensor, current_size[0], current_size[1])\n",
    "                return image_tensor, [int(x) for x in current_size]\n",
    "\n",
    "\n",
    "\n",
    "def filter_block_from_model(material_to_color):\n",
    "    available_materials = list(material_to_color.keys())\n",
    "    available_materials = [x.replace('.png','') for x in material_to_color.keys()]\n",
    "    \n",
    "    filtered_material_to_color = dict()\n",
    "    for material in available_materials:\n",
    "        if material in allowed_blocks:\n",
    "            filtered_material_to_color[material] = material_to_color[material+'.png']\n",
    "    filtered_color_to_material = dict(zip(filtered_material_to_color.values(),\n",
    "                                         filtered_material_to_color.keys()))\n",
    "    return filtered_material_to_color, filtered_color_to_material\n",
    "    \n",
    "    # filtered_color_to_material = dict(zip(material_to_color.values(),\n",
    "    #                                      [x.replace('.png','') for x in material_to_color.keys()]))\n",
    "    # return material_to_color, filtered_color_to_material\n",
    "    \n",
    "            \n",
    "def get_image_to_blocks_color_model(filtered_material_to_color):\n",
    "    available_colors = list(filtered_material_to_color.values())\n",
    "    colors = np.array(available_colors)\n",
    "    color_model = NearestNeighbors(n_neighbors=1, metric='euclidean')\n",
    "    color_model.fit(colors)\n",
    "    return color_model, colors\n",
    "def get_block_from_rgb_array(image_tensor):\n",
    "    import random\n",
    "    x = image_tensor.shape[0]\n",
    "    y = image_tensor.shape[1]\n",
    "    \n",
    "    filtered_material_to_color, filtered_color_to_material = filter_block_from_model(material_to_color)    \n",
    "    color_model, colors = get_image_to_blocks_color_model(filtered_material_to_color)\n",
    "    for_prediction = tf.reshape(image_tensor, [x*y, 3])\n",
    "    # probabilities = [0.75, 0.15, 0.1]\n",
    "    dist, prediction = color_model.kneighbors(for_prediction)\n",
    "    prediction = [colors[x] for x in prediction]\n",
    "    blocks = [filtered_color_to_material[tuple(prediction[x][0])] for x,y in enumerate(prediction)]\n",
    "    \n",
    "    return blocks"
   ]
  },
  {
   "cell_type": "code",
   "execution_count": 8,
   "id": "57520a40-7bd7-43ea-889b-6a1f8ba2f64a",
   "metadata": {},
   "outputs": [
    {
     "name": "stderr",
     "output_type": "stream",
     "text": [
      "I0000 00:00:1749957570.867642    3627 gpu_device.cc:2019] Created device /job:localhost/replica:0/task:0/device:GPU:0 with 5563 MB memory:  -> device: 0, name: NVIDIA GeForce RTX 4060, pci bus id: 0000:01:00.0, compute capability: 8.9\n",
      "I0000 00:00:1749957570.872217    3627 gpu_device.cc:2019] Created device /job:localhost/replica:0/task:0/device:GPU:1 with 6717 MB memory:  -> device: 1, name: NVIDIA GeForce GTX 1070, pci bus id: 0000:03:00.0, compute capability: 6.1\n"
     ]
    }
   ],
   "source": [
    "image_tensor = load_image(image_path, channels=3, mirror_horizontal= False)"
   ]
  },
  {
   "cell_type": "code",
   "execution_count": 9,
   "id": "866c12e5-af59-4aac-b267-51d66fbc506b",
   "metadata": {},
   "outputs": [
    {
     "data": {
      "text/plain": [
       "TensorShape([301, 640, 3])"
      ]
     },
     "execution_count": 9,
     "metadata": {},
     "output_type": "execute_result"
    }
   ],
   "source": [
    "image_tensor.shape"
   ]
  },
  {
   "cell_type": "code",
   "execution_count": 10,
   "id": "6ffbae2e-e550-4e3f-bbf8-8781887d5e82",
   "metadata": {},
   "outputs": [
    {
     "name": "stdin",
     "output_type": "stream",
     "text": [
      "Is this ok: X:301, Y: 640 n\n",
      "ok, new scale then:  0.2\n"
     ]
    },
    {
     "name": "stdout",
     "output_type": "stream",
     "text": [
      "[61.0, 128.0]\n"
     ]
    },
    {
     "name": "stdin",
     "output_type": "stream",
     "text": [
      "Is this ok: X:61.0, Y: 128.0    yes\n"
     ]
    }
   ],
   "source": [
    "image_tensor, new_size = assert_new_proportion(image_tensor)"
   ]
  },
  {
   "cell_type": "code",
   "execution_count": 11,
   "id": "b297e9ef-d7c7-4c19-ac8e-8ba469fd8044",
   "metadata": {},
   "outputs": [
    {
     "data": {
      "text/plain": [
       "<matplotlib.image.AxesImage at 0x7031cb915cd0>"
      ]
     },
     "execution_count": 11,
     "metadata": {},
     "output_type": "execute_result"
    },
    {
     "data": {
      "image/png": "[encoded data removed]",
      "text/plain": [
       "<Figure size 640x480 with 1 Axes>"
      ]
     },
     "metadata": {},
     "output_type": "display_data"
    }
   ],
   "source": [
    "plt.imshow(image_tensor)"
   ]
  },
  {
   "cell_type": "code",
   "execution_count": 12,
   "id": "5e351292-9d98-4213-b75f-640bb714d64b",
   "metadata": {},
   "outputs": [
    {
     "data": {
      "text/plain": [
       "TensorShape([61, 128, 3])"
      ]
     },
     "execution_count": 12,
     "metadata": {},
     "output_type": "execute_result"
    }
   ],
   "source": [
    "image_tensor.shape"
   ]
  },
  {
   "cell_type": "code",
   "execution_count": null,
   "id": "648943f2-7008-4ece-8bb4-d747ac7b6d63",
   "metadata": {},
   "outputs": [],
   "source": []
  },
  {
   "cell_type": "code",
   "execution_count": 13,
   "id": "743e7427-b213-485c-88a1-6dd8d5df1600",
   "metadata": {},
   "outputs": [],
   "source": [
    "blocks = get_block_from_rgb_array(image_tensor)"
   ]
  },
  {
   "cell_type": "code",
   "execution_count": 14,
   "id": "6d54ddc4-ec7c-43d9-ab25-5c994ef7d12b",
   "metadata": {},
   "outputs": [
    {
     "data": {
      "text/plain": [
       "7808"
      ]
     },
     "execution_count": 14,
     "metadata": {},
     "output_type": "execute_result"
    }
   ],
   "source": [
    "len(blocks)"
   ]
  },
  {
   "cell_type": "markdown",
   "id": "b28c0368-6497-4eeb-a334-784cb527fe55",
   "metadata": {},
   "source": [
    "# MCFUNCTION CREATION"
   ]
  },
  {
   "cell_type": "markdown",
   "id": "53424e0a-9585-4f7a-b899-ec4b4b7143f4",
   "metadata": {},
   "source": [
    "### Create Function Lines"
   ]
  },
  {
   "cell_type": "code",
   "execution_count": 15,
   "id": "9bca2763-e03e-4977-9ff7-7e9220eb64aa",
   "metadata": {},
   "outputs": [],
   "source": [
    "def setblock(x,y,z,material):\n",
    "    return f\"setblock ~{x} ~{y} ~{z} {material}\" +\"\\n\""
   ]
  },
  {
   "cell_type": "code",
   "execution_count": 16,
   "id": "09f14c08-ca46-4653-ba0c-6c55a3107930",
   "metadata": {},
   "outputs": [],
   "source": [
    "def write_blocks_all_facing_directions(blocks,image_name, new_size):\n",
    "    \n",
    "    for facing in ['floor', 'wall']:\n",
    "        \n",
    "        output = f\"{mcfunction_directory}/blocks_{image_name.split('.')[0]}_{facing}_{new_size[0]}_{new_size[1]}.mcfunction\"\n",
    "        current_block = 0\n",
    "        mcfunction_lines = []\n",
    "        for columns in range(new_size[0]):\n",
    "            for rows in range(new_size[1]):\n",
    "                if facing == 'floor':\n",
    "                    mcfunction_lines.append(setblock(columns,0,rows,blocks[current_block]))\n",
    "                else:\n",
    "                    mcfunction_lines.append(setblock(columns,rows,0,blocks[current_block]))\n",
    "                current_block +=1\n",
    "        with open(output, \"w\") as f:\n",
    "            for line in mcfunction_lines:\n",
    "                f.write(line)"
   ]
  },
  {
   "cell_type": "code",
   "execution_count": 17,
   "id": "43583cf2-f910-47b1-bc42-6d758ca9697b",
   "metadata": {},
   "outputs": [],
   "source": [
    "write_blocks_all_facing_directions(blocks,image_name, new_size)"
   ]
  },
  {
   "cell_type": "code",
   "execution_count": null,
   "id": "be98f309-4a4a-43c4-a10f-411b4fcc19ad",
   "metadata": {},
   "outputs": [],
   "source": []
  },
  {
   "cell_type": "code",
   "execution_count": null,
   "id": "dc3a00ca-b2bf-4491-8851-288d4699b3df",
   "metadata": {},
   "outputs": [],
   "source": []
  },
  {
   "cell_type": "code",
   "execution_count": null,
   "id": "88af420d-8556-4333-8be6-333e9b9b041e",
   "metadata": {},
   "outputs": [],
   "source": []
  },
  {
   "cell_type": "code",
   "execution_count": null,
   "id": "50465964-b1bd-4342-8885-a003f1be1c73",
   "metadata": {},
   "outputs": [],
   "source": []
  },
  {
   "cell_type": "code",
   "execution_count": 42,
   "id": "32337102-1d1d-4676-8e41-f563d799cb0e",
   "metadata": {},
   "outputs": [],
   "source": [
    "available_materials = list(material_to_color.keys())\n",
    "available_materials = [x.replace('.png','') for x in material_to_color.keys()]"
   ]
  },
  {
   "cell_type": "code",
   "execution_count": 46,
   "id": "baa055ec-1e48-4247-8c5f-e5647a6b5919",
   "metadata": {},
   "outputs": [],
   "source": [
    "excluded_blocks = [x.replace('.png','') for x in excluded_blocks]"
   ]
  },
  {
   "cell_type": "code",
   "execution_count": 48,
   "id": "9ac0f59f-d42a-442a-87eb-b72e5fa332ee",
   "metadata": {},
   "outputs": [
    {
     "data": {
      "text/plain": [
       "['test_block_log',\n",
       " 'crafter_north_crafting',\n",
       " 'cauldron_inner',\n",
       " 'grass_block_snow',\n",
       " 'pointed_dripstone_down_base',\n",
       " 'creaking_heart_awake',\n",
       " 'magma']"
      ]
     },
     "execution_count": 48,
     "metadata": {},
     "output_type": "execute_result"
    }
   ],
   "source": [
    "excluded_blocks"
   ]
  },
  {
   "cell_type": "code",
   "execution_count": 49,
   "id": "b3877449-8087-4707-8759-35cfe35ef2cd",
   "metadata": {},
   "outputs": [
    {
     "data": {
      "text/plain": [
       "'test_block_log'"
      ]
     },
     "execution_count": 49,
     "metadata": {},
     "output_type": "execute_result"
    }
   ],
   "source": [
    "excluded_blocks[0]"
   ]
  },
  {
   "cell_type": "code",
   "execution_count": 76,
   "id": "498e9c60-3f94-4cac-9854-8528f8b340d9",
   "metadata": {},
   "outputs": [
    {
     "data": {
      "text/plain": [
       "True"
      ]
     },
     "execution_count": 76,
     "metadata": {},
     "output_type": "execute_result"
    }
   ],
   "source": [
    "'jigsaw_lock' in available_materials"
   ]
  },
  {
   "cell_type": "code",
   "execution_count": null,
   "id": "02f997de-ab24-47f0-bf45-6183b127dded",
   "metadata": {},
   "outputs": [],
   "source": []
  },
  {
   "cell_type": "code",
   "execution_count": null,
   "id": "f6fa7c24-8ca7-4e34-99f1-c849e4d0a303",
   "metadata": {},
   "outputs": [],
   "source": []
  },
  {
   "cell_type": "code",
   "execution_count": null,
   "id": "d29dda14-e80b-4ca0-bf76-3b49754d05d6",
   "metadata": {},
   "outputs": [],
   "source": []
  },
  {
   "cell_type": "code",
   "execution_count": null,
   "id": "962bbaf8-f6fe-4e0d-afe8-c33fe23284a5",
   "metadata": {},
   "outputs": [],
   "source": []
  },
  {
   "cell_type": "code",
   "execution_count": null,
   "id": "10c26fd7-0cf5-4563-840b-b8c85e82397b",
   "metadata": {},
   "outputs": [],
   "source": []
  },
  {
   "cell_type": "code",
   "execution_count": null,
   "id": "98c86855-8044-47c1-8a7c-5312a5951bae",
   "metadata": {},
   "outputs": [],
   "source": []
  },
  {
   "cell_type": "code",
   "execution_count": null,
   "id": "b8bd2662-3c7b-412a-a832-b3c10bb0af42",
   "metadata": {},
   "outputs": [],
   "source": []
  },
  {
   "cell_type": "code",
   "execution_count": null,
   "id": "ed3c21ef-d974-4962-a2b8-64777e0969a1",
   "metadata": {},
   "outputs": [],
   "source": []
  },
  {
   "cell_type": "code",
   "execution_count": null,
   "id": "b73d1602-7b1e-4db3-ad64-4847a267b047",
   "metadata": {},
   "outputs": [],
   "source": [
    "mcfunction_lines"
   ]
  },
  {
   "cell_type": "code",
   "execution_count": null,
   "id": "3601aef9-f612-460e-bac9-7f5d2937b361",
   "metadata": {},
   "outputs": [],
   "source": [
    "mcfunction_directory"
   ]
  },
  {
   "cell_type": "code",
   "execution_count": null,
   "id": "987ba559-ac93-40f2-9d9a-3756c5a14813",
   "metadata": {},
   "outputs": [],
   "source": []
  },
  {
   "cell_type": "code",
   "execution_count": 17,
   "id": "86604242-da8d-4109-b259-149b3db63cae",
   "metadata": {},
   "outputs": [
    {
     "data": {
      "text/plain": [
       "'/mnt/c/Users/bolap/AppData/Roaming/.minecraft/saves/main_test/datapacks/img/data/print/function/blocks_stair_36_55.mcfunction'"
      ]
     },
     "execution_count": 17,
     "metadata": {},
     "output_type": "execute_result"
    }
   ],
   "source": []
  },
  {
   "cell_type": "code",
   "execution_count": 35,
   "id": "6940e46b-fe7b-4ff8-832a-c13bcaaf2821",
   "metadata": {},
   "outputs": [
    {
     "data": {
      "text/plain": [
       "'/mnt/c/Users/bolap/AppData/Roaming/.minecraft/saves/main_test/datapacks/img/data/print/function/blocks_stair.png.mcfunction'"
      ]
     },
     "execution_count": 35,
     "metadata": {},
     "output_type": "execute_result"
    }
   ],
   "source": [
    "output_path"
   ]
  },
  {
   "cell_type": "code",
   "execution_count": null,
   "id": "c81f52a2-230f-483c-ab39-cf2b6c5de6b7",
   "metadata": {},
   "outputs": [],
   "source": []
  },
  {
   "cell_type": "code",
   "execution_count": null,
   "id": "ac917f06-5357-4e71-b1fb-6edaf5aadfea",
   "metadata": {},
   "outputs": [],
   "source": []
  },
  {
   "cell_type": "code",
   "execution_count": 15,
   "id": "be547950-f101-401b-8219-71922c6ff8b5",
   "metadata": {},
   "outputs": [
    {
     "data": {
      "text/plain": [
       "1980"
      ]
     },
     "execution_count": 15,
     "metadata": {},
     "output_type": "execute_result"
    }
   ],
   "source": [
    "len(for_prediction)"
   ]
  },
  {
   "cell_type": "code",
   "execution_count": 16,
   "id": "f821faf6-1f37-426c-b2fd-e4a5bdf719e7",
   "metadata": {},
   "outputs": [
    {
     "data": {
      "text/plain": [
       "1980"
      ]
     },
     "execution_count": 16,
     "metadata": {},
     "output_type": "execute_result"
    }
   ],
   "source": [
    "image_tensor.shape[0] *image_tensor.shape[1] "
   ]
  },
  {
   "cell_type": "code",
   "execution_count": null,
   "id": "763f49e7-4d97-40d4-bb95-70f8fb341b6a",
   "metadata": {},
   "outputs": [],
   "source": [
    " "
   ]
  },
  {
   "cell_type": "code",
   "execution_count": null,
   "id": "8ebaa4d1-b6c2-40ef-b642-b6bcfb914b4b",
   "metadata": {},
   "outputs": [],
   "source": []
  },
  {
   "cell_type": "code",
   "execution_count": null,
   "id": "f16f87b4-c133-4aae-be15-0ffb8d2af4ea",
   "metadata": {},
   "outputs": [],
   "source": []
  },
  {
   "cell_type": "code",
   "execution_count": null,
   "id": "11addd1e-2452-495a-ab4d-88777ef74541",
   "metadata": {},
   "outputs": [],
   "source": []
  },
  {
   "cell_type": "code",
   "execution_count": null,
   "id": "75869ca3-072f-4db9-bd48-51da318033e2",
   "metadata": {},
   "outputs": [],
   "source": []
  },
  {
   "cell_type": "code",
   "execution_count": null,
   "id": "1aad9abf-c6fe-4121-a7ef-98a4a94edca7",
   "metadata": {},
   "outputs": [],
   "source": []
  },
  {
   "cell_type": "code",
   "execution_count": 41,
   "id": "8330cd21-176e-4e6d-ba25-d4efc191b5f8",
   "metadata": {},
   "outputs": [],
   "source": [
    "# available_materials = list(material_to_color.keys())\n",
    "    # available_materials = [x for x in available_materials if \"terracotta\" in x]\n",
    "    \n",
    "    # filtered_material_to_color = dict()\n",
    "    # for material in available_materials:\n",
    "    #     filtered_material_to_color[material[:-4]] = material_to_color[material]\n",
    "    # filtered_color_to_material = dict(zip(filtered_material_to_color.values(),\n",
    "    #                                      filtered_material_to_color.keys()))\n",
    "    # return filtered_material_to_color, filtered_color_to_material"
   ]
  },
  {
   "cell_type": "code",
   "execution_count": null,
   "id": "e5dfc401-b5eb-45e7-bebc-e251b049696c",
   "metadata": {},
   "outputs": [],
   "source": []
  },
  {
   "cell_type": "code",
   "execution_count": null,
   "id": "dc9a7ac8-8eb0-4667-a2fb-f9f3513868cb",
   "metadata": {},
   "outputs": [],
   "source": []
  },
  {
   "cell_type": "code",
   "execution_count": null,
   "id": "1432b0f9-3ad6-43c7-9f12-dfb015e6dd3d",
   "metadata": {},
   "outputs": [],
   "source": []
  },
  {
   "cell_type": "code",
   "execution_count": null,
   "id": "3f1efc1b-0dae-42d1-a55c-eab710258c93",
   "metadata": {},
   "outputs": [],
   "source": []
  },
  {
   "cell_type": "code",
   "execution_count": null,
   "id": "27466fa3-a513-45b8-a867-1d200eaad955",
   "metadata": {},
   "outputs": [],
   "source": []
  },
  {
   "cell_type": "code",
   "execution_count": null,
   "id": "03b2fd4d-5ce6-41cb-99bc-10a82d6f94ea",
   "metadata": {},
   "outputs": [],
   "source": []
  },
  {
   "cell_type": "code",
   "execution_count": null,
   "id": "e5e65903-7760-4afa-8fbe-de6941a1aa96",
   "metadata": {},
   "outputs": [],
   "source": []
  },
  {
   "cell_type": "code",
   "execution_count": null,
   "id": "87823d55-6edf-4389-b9e9-c1c4a71ba7f3",
   "metadata": {},
   "outputs": [],
   "source": []
  },
  {
   "cell_type": "code",
   "execution_count": null,
   "id": "eb4a245e-577d-44c3-a955-ac7a932bd1dc",
   "metadata": {},
   "outputs": [],
   "source": []
  },
  {
   "cell_type": "code",
   "execution_count": null,
   "id": "d2d09d9c-1492-4422-8e80-5c21b740406e",
   "metadata": {},
   "outputs": [],
   "source": []
  },
  {
   "cell_type": "code",
   "execution_count": null,
   "id": "c09cdb88-5924-4bda-afc3-7a4eb21553ea",
   "metadata": {},
   "outputs": [],
   "source": []
  }
 ],
 "metadata": {
  "kernelspec": {
   "display_name": "minecraft",
   "language": "python",
   "name": "minecraft"
  },
  "language_info": {
   "codemirror_mode": {
    "name": "ipython",
    "version": 3
   },
   "file_extension": ".py",
   "mimetype": "text/x-python",
   "name": "python",
   "nbconvert_exporter": "python",
   "pygments_lexer": "ipython3",
   "version": "3.12.9"
  }
 },
 "nbformat": 4,
 "nbformat_minor": 5
}
