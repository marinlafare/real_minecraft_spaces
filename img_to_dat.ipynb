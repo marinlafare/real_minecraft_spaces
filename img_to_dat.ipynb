{
 "cells": [
  {
   "cell_type": "code",
   "execution_count": 2,
   "id": "d03f92de-3ca8-4b62-b3b3-7b9a889e7be4",
   "metadata": {},
   "outputs": [],
   "source": [
    "import os\n",
    "from constants import *\n",
    "from nbt import nbt"
   ]
  },
  {
   "cell_type": "code",
   "execution_count": 13,
   "id": "3eb9f9aa-83ff-41d9-bfbb-c340c647cfc0",
   "metadata": {},
   "outputs": [],
   "source": [
    "def prepare_image_to_map(image_path):\n",
    "    pass\n",
    "def load_image_for_map(image_path, sufix: str):\n",
    "    image_bytes = tf.io.read_file(image_path)\n",
    "    image_tensor = tf.image.decode_jpeg(image_bytes, channels=sufix)\n",
    "\n",
    "    int_image = tf.cast(image_tensor, dtype=tf.int32)\n",
    "    return int_image"
   ]
  },
  {
   "cell_type": "code",
   "execution_count": 16,
   "id": "45247a6f-8712-41ea-82fa-d724d5dd9dba",
   "metadata": {},
   "outputs": [],
   "source": [
    "image_tensor = load_image_for_map(\"images/11.jpg\", 'jpg')"
   ]
  },
  {
   "cell_type": "code",
   "execution_count": 17,
   "id": "a1fa3c3d-8aa0-48bb-91f0-7a98ee3c3c0c",
   "metadata": {},
   "outputs": [
    {
     "ename": "AttributeError",
     "evalue": "'NoneType' object has no attribute 'shape'",
     "output_type": "error",
     "traceback": [
      "\u001b[31m---------------------------------------------------------------------------\u001b[39m",
      "\u001b[31mAttributeError\u001b[39m                            Traceback (most recent call last)",
      "\u001b[36mCell\u001b[39m\u001b[36m \u001b[39m\u001b[32mIn[17]\u001b[39m\u001b[32m, line 1\u001b[39m\n\u001b[32m----> \u001b[39m\u001b[32m1\u001b[39m image_tensor.shape\n",
      "\u001b[31mAttributeError\u001b[39m: 'NoneType' object has no attribute 'shape'"
     ]
    }
   ],
   "source": [
    "image_tensor.shape"
   ]
  },
  {
   "cell_type": "code",
   "execution_count": 11,
   "id": "da6c19f5-ec31-4781-8188-7f2a72dc0dc6",
   "metadata": {},
   "outputs": [],
   "source": [
    "nbtfile = nbt.NBTFile(\"empty_dat.dat\",\"rb\")"
   ]
  },
  {
   "cell_type": "code",
   "execution_count": 13,
   "id": "34e17129-f16c-4f56-9239-bb6a37f4d146",
   "metadata": {},
   "outputs": [
    {
     "data": {
      "text/plain": [
       "['DataVersion', 'data']"
      ]
     },
     "execution_count": 13,
     "metadata": {},
     "output_type": "execute_result"
    }
   ],
   "source": [
    "nbtfile.keys()"
   ]
  },
  {
   "cell_type": "code",
   "execution_count": 14,
   "id": "96bf63fe-af48-4ef4-b590-00fcd87c1f5c",
   "metadata": {},
   "outputs": [
    {
     "data": {
      "text/plain": [
       "<TAG_Compound('data') at 0x7f874a7c7800>"
      ]
     },
     "execution_count": 14,
     "metadata": {},
     "output_type": "execute_result"
    }
   ],
   "source": [
    "nbtfile['data']"
   ]
  },
  {
   "cell_type": "code",
   "execution_count": 15,
   "id": "34f5df40-807b-4eab-9fa8-a5c5547a7d7f",
   "metadata": {},
   "outputs": [
    {
     "name": "stdout",
     "output_type": "stream",
     "text": [
      "Help on NBTFile in module nbt.nbt object:\n",
      "\n",
      "class NBTFile(TAG_Compound)\n",
      " |  NBTFile(filename=None, buffer=None, fileobj=None)\n",
      " |\n",
      " |  Represent an NBT file object.\n",
      " |\n",
      " |  Method resolution order:\n",
      " |      NBTFile\n",
      " |      TAG_Compound\n",
      " |      TAG\n",
      " |      collections.abc.MutableMapping\n",
      " |      collections.abc.Mapping\n",
      " |      collections.abc.Collection\n",
      " |      collections.abc.Sized\n",
      " |      collections.abc.Iterable\n",
      " |      collections.abc.Container\n",
      " |      builtins.object\n",
      " |\n",
      " |  Methods defined here:\n",
      " |\n",
      " |  __init__(self, filename=None, buffer=None, fileobj=None)\n",
      " |      Create a new NBTFile object.\n",
      " |      Specify either a filename, file object or data buffer.\n",
      " |      If filename of file object is specified, data should be GZip-compressed.\n",
      " |      If a data buffer is specified, it is assumed to be uncompressed.\n",
      " |\n",
      " |      If filename is specified, the file is closed after reading and writing.\n",
      " |      If file object is specified, the caller is responsible for closing the\n",
      " |      file.\n",
      " |\n",
      " |  __repr__(self)\n",
      " |      Return a string (ascii formated for Python 2, unicode\n",
      " |      for Python 3) describing the class, name and id for\n",
      " |      debugging purposes.\n",
      " |\n",
      " |  parse_file(self, filename=None, buffer=None, fileobj=None)\n",
      " |      Completely parse a file, extracting all tags.\n",
      " |\n",
      " |  write_file(self, filename=None, buffer=None, fileobj=None)\n",
      " |      Write this NBT file to a file.\n",
      " |\n",
      " |  ----------------------------------------------------------------------\n",
      " |  Data and other attributes defined here:\n",
      " |\n",
      " |  __abstractmethods__ = frozenset()\n",
      " |\n",
      " |  ----------------------------------------------------------------------\n",
      " |  Methods inherited from TAG_Compound:\n",
      " |\n",
      " |  __contains__(self, key)\n",
      " |\n",
      " |  __delitem__(self, key)\n",
      " |\n",
      " |  __getitem__(self, key)\n",
      " |\n",
      " |  __iter__(self)\n",
      " |\n",
      " |  __len__(self)\n",
      " |      # Mixin methods\n",
      " |\n",
      " |  __setitem__(self, key, value)\n",
      " |\n",
      " |  __str__(self)\n",
      " |      Return a string (ascii formated for Python 2, unicode for Python 3)\n",
      " |      with the result in human readable format. Unlike valuestr(), the result\n",
      " |       is recursive for iterators till at least one level deep.\n",
      " |\n",
      " |  __unicode__(self)\n",
      " |      Return a unicode string with the result in human readable format.\n",
      " |      Unlike valuestr(), the result is recursive for iterators till at least\n",
      " |      one level deep.\n",
      " |\n",
      " |  iteritems(self)\n",
      " |\n",
      " |  keys(self)\n",
      " |      D.keys() -> a set-like object providing a view on D's keys\n",
      " |\n",
      " |  pretty_tree(self, indent=0)\n",
      " |      Return formated Unicode string of self, where iterable items are\n",
      " |      recursively listed in detail.\n",
      " |\n",
      " |  valuestr(self)\n",
      " |      Return Unicode string of unnested value. For iterators, this\n",
      " |      returns a summary.\n",
      " |\n",
      " |  ----------------------------------------------------------------------\n",
      " |  Data and other attributes inherited from TAG_Compound:\n",
      " |\n",
      " |  id = 10\n",
      " |\n",
      " |  ----------------------------------------------------------------------\n",
      " |  Methods inherited from TAG:\n",
      " |\n",
      " |  namestr(self)\n",
      " |      Return Unicode string of tag name.\n",
      " |\n",
      " |  tag_info(self)\n",
      " |      Return Unicode string with class, name and unnested value.\n",
      " |\n",
      " |  ----------------------------------------------------------------------\n",
      " |  Data descriptors inherited from TAG:\n",
      " |\n",
      " |  __dict__\n",
      " |      dictionary for instance variables\n",
      " |\n",
      " |  __weakref__\n",
      " |      list of weak references to the object\n",
      " |\n",
      " |  ----------------------------------------------------------------------\n",
      " |  Methods inherited from collections.abc.MutableMapping:\n",
      " |\n",
      " |  clear(self)\n",
      " |      D.clear() -> None.  Remove all items from D.\n",
      " |\n",
      " |  pop(self, key, default=<object object at 0x7f874d1b81b0>)\n",
      " |      D.pop(k[,d]) -> v, remove specified key and return the corresponding value.\n",
      " |      If key is not found, d is returned if given, otherwise KeyError is raised.\n",
      " |\n",
      " |  popitem(self)\n",
      " |      D.popitem() -> (k, v), remove and return some (key, value) pair\n",
      " |      as a 2-tuple; but raise KeyError if D is empty.\n",
      " |\n",
      " |  setdefault(self, key, default=None)\n",
      " |      D.setdefault(k[,d]) -> D.get(k,d), also set D[k]=d if k not in D\n",
      " |\n",
      " |  update(self, other=(), /, **kwds)\n",
      " |      D.update([E, ]**F) -> None.  Update D from mapping/iterable E and F.\n",
      " |      If E present and has a .keys() method, does:     for k in E.keys(): D[k] = E[k]\n",
      " |      If E present and lacks .keys() method, does:     for (k, v) in E: D[k] = v\n",
      " |      In either case, this is followed by: for k, v in F.items(): D[k] = v\n",
      " |\n",
      " |  ----------------------------------------------------------------------\n",
      " |  Methods inherited from collections.abc.Mapping:\n",
      " |\n",
      " |  __eq__(self, other)\n",
      " |      Return self==value.\n",
      " |\n",
      " |  get(self, key, default=None)\n",
      " |      D.get(k[,d]) -> D[k] if k in D, else d.  d defaults to None.\n",
      " |\n",
      " |  items(self)\n",
      " |      D.items() -> a set-like object providing a view on D's items\n",
      " |\n",
      " |  values(self)\n",
      " |      D.values() -> an object providing a view on D's values\n",
      " |\n",
      " |  ----------------------------------------------------------------------\n",
      " |  Data and other attributes inherited from collections.abc.Mapping:\n",
      " |\n",
      " |  __hash__ = None\n",
      " |\n",
      " |  __reversed__ = None\n",
      " |\n",
      " |  ----------------------------------------------------------------------\n",
      " |  Class methods inherited from collections.abc.Collection:\n",
      " |\n",
      " |  __subclasshook__(C)\n",
      " |      Abstract classes can override this to customize issubclass().\n",
      " |\n",
      " |      This is invoked early on by abc.ABCMeta.__subclasscheck__().\n",
      " |      It should return True, False or NotImplemented.  If it returns\n",
      " |      NotImplemented, the normal algorithm is used.  Otherwise, it\n",
      " |      overrides the normal algorithm (and the outcome is cached).\n",
      " |\n",
      " |  ----------------------------------------------------------------------\n",
      " |  Class methods inherited from collections.abc.Iterable:\n",
      " |\n",
      " |  __class_getitem__ = GenericAlias(...)\n",
      " |      Represent a PEP 585 generic type\n",
      " |\n",
      " |      E.g. for t = list[int], t.__origin__ is list and t.__args__ is (int,).\n",
      "\n"
     ]
    }
   ],
   "source": [
    "help(nbtfile)"
   ]
  },
  {
   "cell_type": "code",
   "execution_count": 18,
   "id": "edd44c2e-a077-4b1c-a81f-e7dc1b88fdbe",
   "metadata": {},
   "outputs": [
    {
     "name": "stdout",
     "output_type": "stream",
     "text": [
      "NBTFile: {2 Entries}\n",
      "{\n",
      "\tTAG_Int('DataVersion'): 2230\n",
      "\tTAG_Compound('data'): {10 Entries}\n",
      "\t{\n",
      "\t\tTAG_List('banners'): [0 _TAG_End(s)]\n",
      "\t\tTAG_Byte_Array('colors'): [16384 byte(s)]\n",
      "\t\tTAG_Int('dimension'): 0\n",
      "\t\tTAG_List('frames'): [0 _TAG_End(s)]\n",
      "\t\tTAG_Byte('locked'): 1\n",
      "\t\tTAG_Byte('scale'): 0\n",
      "\t\tTAG_Byte('trackingPosition'): 1\n",
      "\t\tTAG_Byte('unlimitedTracking'): 0\n",
      "\t\tTAG_Int('xCenter'): 0\n",
      "\t\tTAG_Int('zCenter'): 0\n",
      "\t}\n",
      "}\n"
     ]
    }
   ],
   "source": [
    "print(nbtfile.pretty_tree(indent=0))"
   ]
  },
  {
   "cell_type": "code",
   "execution_count": null,
   "id": "f32fa3f1-72ca-491d-8424-5ae3c3d7fe0f",
   "metadata": {},
   "outputs": [],
   "source": []
  },
  {
   "cell_type": "code",
   "execution_count": null,
   "id": "b545c3a8-08c5-47d7-b6b4-48df2e834732",
   "metadata": {},
   "outputs": [],
   "source": []
  },
  {
   "cell_type": "code",
   "execution_count": null,
   "id": "22689a4e-e9e5-4a14-9ea7-6337e01c71d1",
   "metadata": {},
   "outputs": [],
   "source": []
  },
  {
   "cell_type": "code",
   "execution_count": null,
   "id": "502e7071-6be6-403c-a2bd-41a73910af0a",
   "metadata": {},
   "outputs": [],
   "source": []
  }
 ],
 "metadata": {
  "kernelspec": {
   "display_name": "minecraft",
   "language": "python",
   "name": "minecraft"
  },
  "language_info": {
   "codemirror_mode": {
    "name": "ipython",
    "version": 3
   },
   "file_extension": ".py",
   "mimetype": "text/x-python",
   "name": "python",
   "nbconvert_exporter": "python",
   "pygments_lexer": "ipython3",
   "version": "3.12.9"
  }
 },
 "nbformat": 4,
 "nbformat_minor": 5
}
