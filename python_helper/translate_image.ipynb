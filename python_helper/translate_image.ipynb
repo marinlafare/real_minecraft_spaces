{
 "cells": [
  {
   "cell_type": "code",
   "execution_count": 1,
   "id": "22e8074a-0976-42a4-bb5e-b0e56180dacb",
   "metadata": {},
   "outputs": [],
   "source": [
    "import os\n",
    "os.environ['TF_CPP_MIN_LOG_LEVEL'] = '3'"
   ]
  },
  {
   "cell_type": "markdown",
   "id": "8e5def81-924e-4947-9bad-832f4419938c",
   "metadata": {},
   "source": [
    "# WORLD PONTERS"
   ]
  },
  {
   "cell_type": "code",
   "execution_count": 9,
   "id": "66c36d51-0304-415e-85ac-d274ad58bb51",
   "metadata": {},
   "outputs": [],
   "source": [
    "world_name = 'test_datapacks'\n",
    "function_pack = f'saves/{world_name}/datapacks/img/data/print/function'"
   ]
  },
  {
   "cell_type": "markdown",
   "id": "f1116da0-6a3b-455c-bb2b-088e04c81db4",
   "metadata": {},
   "source": [
    "# load_dependancies"
   ]
  },
  {
   "cell_type": "code",
   "execution_count": 10,
   "id": "2843e6e1-8160-46d8-8baf-6e15095dac72",
   "metadata": {},
   "outputs": [],
   "source": [
    "from constants import *\n",
    "from IPython.display import clear_output\n",
    "import matplotlib.pyplot as plt\n",
    "import os\n",
    "color_to_material, material_to_color = create_color_material_dicts()"
   ]
  },
  {
   "cell_type": "markdown",
   "id": "76536f01-39ba-4dd8-8064-ecebe2be44bd",
   "metadata": {},
   "source": [
    "# Choose IMAGE"
   ]
  },
  {
   "cell_type": "code",
   "execution_count": 19,
   "id": "c6666893-8a3b-4680-897f-57e287589905",
   "metadata": {},
   "outputs": [],
   "source": [
    "image_path = 'images/three.png'\n",
    "function_name = \"women.mcfunction\"\n",
    "function_output_path = os.path.join(function_pack, function_name)"
   ]
  },
  {
   "cell_type": "code",
   "execution_count": 12,
   "id": "0d9f7a05-2bd3-44b2-a6d3-d0a6f3cd17c4",
   "metadata": {},
   "outputs": [
    {
     "name": "stdout",
     "output_type": "stream",
     "text": [
      "\u001b[H\u001b[2J"
     ]
    },
    {
     "name": "stdin",
     "output_type": "stream",
     "text": [
      "X:506, Y: 346    no\n",
      "new_proportion:  0.12\n"
     ]
    },
    {
     "name": "stdout",
     "output_type": "stream",
     "text": [
      "\u001b[H\u001b[2J"
     ]
    },
    {
     "data": {
      "image/png": "[encoded data removed]",
      "text/plain": [
       "<Figure size 640x480 with 1 Axes>"
      ]
     },
     "metadata": {},
     "output_type": "display_data"
    },
    {
     "name": "stdout",
     "output_type": "stream",
     "text": [
      "\u001b[H\u001b[2J"
     ]
    },
    {
     "name": "stdin",
     "output_type": "stream",
     "text": [
      "X:60, Y: 41    yes\n"
     ]
    }
   ],
   "source": [
    "pre_image = load_image(image_path)"
   ]
  },
  {
   "cell_type": "markdown",
   "id": "e09440fe-87fc-4a5f-9942-850ba086f841",
   "metadata": {},
   "source": [
    "# Image to MCFUNCTION"
   ]
  },
  {
   "cell_type": "code",
   "execution_count": 13,
   "id": "e356fe64-dde8-434b-9333-cf5c906d73c4",
   "metadata": {},
   "outputs": [],
   "source": [
    "def setblock(x,y,z,material):\n",
    "    return f\"setblock ~{x} ~{y} ~{z} {material}\"\n",
    "def lines_for_mcfunction(image_tensor):\n",
    "    function_lines = []\n",
    "    for col_id, column in enumerate(image_tensor):\n",
    "        for row_id, row in enumerate(column):\n",
    "            current_material_color = tuple(row.numpy())\n",
    "            #print('row: ', tuple(row.numpy()))\n",
    "            distance, index = color_model.kneighbors([current_material_color])\n",
    "            material_color = tuple(colors[index[0][0]])\n",
    "            #print(material_color)\n",
    "            material = color_to_material[material_color].replace(\".png\",\"\")\n",
    "            function_lines.append(setblock(col_id,1,row_id,material))\n",
    "    return function_lines\n",
    "def write_mc_function(function_lines, output_path):\n",
    "    with open(output_path, \"w\") as f:\n",
    "        for line in function_lines:\n",
    "            f.write(line)"
   ]
  },
  {
   "cell_type": "code",
   "execution_count": 14,
   "id": "aceda322-623d-409d-8c24-70cd31e8f9a8",
   "metadata": {},
   "outputs": [],
   "source": [
    "function_lines = lines_for_mcfunction(pre_image)"
   ]
  },
  {
   "cell_type": "code",
   "execution_count": 20,
   "id": "83dbe5ec-e796-4d35-9da0-f353c1d9e620",
   "metadata": {},
   "outputs": [
    {
     "ename": "FileNotFoundError",
     "evalue": "[Errno 2] No such file or directory: '/mnt/c/Users/bolap/AppData/Roaming/.minecraft/python_helper/saves/test_datapacks/datapacks/img/data/print/function/women.mcfunction'",
     "output_type": "error",
     "traceback": [
      "\u001b[31m---------------------------------------------------------------------------\u001b[39m",
      "\u001b[31mFileNotFoundError\u001b[39m                         Traceback (most recent call last)",
      "\u001b[36mCell\u001b[39m\u001b[36m \u001b[39m\u001b[32mIn[20]\u001b[39m\u001b[32m, line 1\u001b[39m\n\u001b[32m----> \u001b[39m\u001b[32m1\u001b[39m write_mc_function(function_lines, function_output_path)\n",
      "\u001b[36mCell\u001b[39m\u001b[36m \u001b[39m\u001b[32mIn[13]\u001b[39m\u001b[32m, line 16\u001b[39m, in \u001b[36mwrite_mc_function\u001b[39m\u001b[34m(function_lines, output_path)\u001b[39m\n\u001b[32m     15\u001b[39m \u001b[38;5;28;01mdef\u001b[39;00m\u001b[38;5;250m \u001b[39m\u001b[34mwrite_mc_function\u001b[39m(function_lines, output_path):\n\u001b[32m---> \u001b[39m\u001b[32m16\u001b[39m     \u001b[38;5;28;01mwith\u001b[39;00m \u001b[38;5;28mopen\u001b[39m(output_path, \u001b[33m\"\u001b[39m\u001b[33mw\u001b[39m\u001b[33m\"\u001b[39m) \u001b[38;5;28;01mas\u001b[39;00m f:\n\u001b[32m     17\u001b[39m         \u001b[38;5;28;01mfor\u001b[39;00m line \u001b[38;5;129;01min\u001b[39;00m function_lines:\n\u001b[32m     18\u001b[39m             f.write(line)\n",
      "\u001b[36mFile \u001b[39m\u001b[32m~/anaconda3/envs/minecraft/lib/python3.12/site-packages/IPython/core/interactiveshell.py:326\u001b[39m, in \u001b[36m_modified_open\u001b[39m\u001b[34m(file, *args, **kwargs)\u001b[39m\n\u001b[32m    319\u001b[39m \u001b[38;5;28;01mif\u001b[39;00m file \u001b[38;5;129;01min\u001b[39;00m {\u001b[32m0\u001b[39m, \u001b[32m1\u001b[39m, \u001b[32m2\u001b[39m}:\n\u001b[32m    320\u001b[39m     \u001b[38;5;28;01mraise\u001b[39;00m \u001b[38;5;167;01mValueError\u001b[39;00m(\n\u001b[32m    321\u001b[39m         \u001b[33mf\u001b[39m\u001b[33m\"\u001b[39m\u001b[33mIPython won\u001b[39m\u001b[33m'\u001b[39m\u001b[33mt let you open fd=\u001b[39m\u001b[38;5;132;01m{\u001b[39;00mfile\u001b[38;5;132;01m}\u001b[39;00m\u001b[33m by default \u001b[39m\u001b[33m\"\u001b[39m\n\u001b[32m    322\u001b[39m         \u001b[33m\"\u001b[39m\u001b[33mas it is likely to crash IPython. If you know what you are doing, \u001b[39m\u001b[33m\"\u001b[39m\n\u001b[32m    323\u001b[39m         \u001b[33m\"\u001b[39m\u001b[33myou can use builtins\u001b[39m\u001b[33m'\u001b[39m\u001b[33m open.\u001b[39m\u001b[33m\"\u001b[39m\n\u001b[32m    324\u001b[39m     )\n\u001b[32m--> \u001b[39m\u001b[32m326\u001b[39m \u001b[38;5;28;01mreturn\u001b[39;00m io_open(file, *args, **kwargs)\n",
      "\u001b[31mFileNotFoundError\u001b[39m: [Errno 2] No such file or directory: '/mnt/c/Users/bolap/AppData/Roaming/.minecraft/python_helper/saves/test_datapacks/datapacks/img/data/print/function/women.mcfunction'"
     ]
    }
   ],
   "source": [
    "write_mc_function(function_lines, function_output_path)"
   ]
  },
  {
   "cell_type": "code",
   "execution_count": 21,
   "id": "6ec89797-cfcc-469c-9012-e4e2681a7081",
   "metadata": {},
   "outputs": [
    {
     "data": {
      "text/plain": [
       "False"
      ]
     },
     "execution_count": 21,
     "metadata": {},
     "output_type": "execute_result"
    }
   ],
   "source": [
    "os.path.exists('/mnt/c/Users/bolap/AppData/Roaming/.minecraft/python_helper/saves/test_datapacks/datapacks/img/data/print/function/')"
   ]
  },
  {
   "cell_type": "code",
   "execution_count": 18,
   "id": "081c5db4-f49b-499c-a7da-27e717175023",
   "metadata": {},
   "outputs": [
    {
     "data": {
      "text/plain": [
       "'/mnt/c/Users/bolap/AppData/Roaming/.minecraft/python_helper'"
      ]
     },
     "execution_count": 18,
     "metadata": {},
     "output_type": "execute_result"
    }
   ],
   "source": []
  },
  {
   "cell_type": "code",
   "execution_count": null,
   "id": "4fb12687-8aee-4555-8c6b-d45e4da37649",
   "metadata": {},
   "outputs": [],
   "source": []
  },
  {
   "cell_type": "code",
   "execution_count": 18,
   "id": "bea7136f-d503-4d78-a469-29043e144f91",
   "metadata": {},
   "outputs": [
    {
     "data": {
      "text/plain": [
       "'/mnt/c/Users/bolap/AppData/Roaming/.minecraft/python_helper'"
      ]
     },
     "execution_count": 18,
     "metadata": {},
     "output_type": "execute_result"
    }
   ],
   "source": []
  },
  {
   "cell_type": "code",
   "execution_count": null,
   "id": "584137c1-0ed3-4250-8019-5cc0c28f3444",
   "metadata": {},
   "outputs": [],
   "source": []
  },
  {
   "cell_type": "code",
   "execution_count": null,
   "id": "84849576-5bc2-4c8c-afb3-84f3e4997148",
   "metadata": {},
   "outputs": [],
   "source": [
    "color_to_material.keys()"
   ]
  },
  {
   "cell_type": "code",
   "execution_count": 38,
   "id": "d3cb9def-2253-4053-b7ee-271ea8a4c7b8",
   "metadata": {},
   "outputs": [
    {
     "data": {
      "text/plain": [
       "'terracotta.png'"
      ]
     },
     "execution_count": 38,
     "metadata": {},
     "output_type": "execute_result"
    }
   ],
   "source": [
    "color_to_material[(151, 93, 67)]"
   ]
  },
  {
   "cell_type": "code",
   "execution_count": 40,
   "id": "59235c74-8355-445c-aeeb-f1e4b8dd4005",
   "metadata": {},
   "outputs": [
    {
     "data": {
      "text/plain": [
       "(array([[19.72308292]]), array([[52]]))"
      ]
     },
     "execution_count": 40,
     "metadata": {},
     "output_type": "execute_result"
    }
   ],
   "source": [
    "color_model.kneighbors([(0,0,0)])"
   ]
  },
  {
   "cell_type": "code",
   "execution_count": 42,
   "id": "755115d3-2dee-4d20-b7bc-24f2bb4e3ea1",
   "metadata": {},
   "outputs": [
    {
     "data": {
      "text/plain": [
       "array([ 8, 10, 15], dtype=uint8)"
      ]
     },
     "execution_count": 42,
     "metadata": {},
     "output_type": "execute_result"
    }
   ],
   "source": [
    "colors[52]"
   ]
  },
  {
   "cell_type": "code",
   "execution_count": null,
   "id": "77b38560-4c1f-454e-a825-bab008c7f761",
   "metadata": {},
   "outputs": [],
   "source": []
  }
 ],
 "metadata": {
  "kernelspec": {
   "display_name": "minecraft",
   "language": "python",
   "name": "minecraft"
  },
  "language_info": {
   "codemirror_mode": {
    "name": "ipython",
    "version": 3
   },
   "file_extension": ".py",
   "mimetype": "text/x-python",
   "name": "python",
   "nbconvert_exporter": "python",
   "pygments_lexer": "ipython3",
   "version": "3.12.9"
  }
 },
 "nbformat": 4,
 "nbformat_minor": 5
}
