{
 "cells": [
  {
   "cell_type": "code",
   "execution_count": 6,
   "id": "9dea0552-c90b-4492-ac14-50451c873455",
   "metadata": {},
   "outputs": [],
   "source": [
    "import tensorflow as tf"
   ]
  },
  {
   "cell_type": "code",
   "execution_count": 1,
   "id": "ee74852b-450c-4285-aa91-bb6e5949b7d6",
   "metadata": {},
   "outputs": [],
   "source": [
    "import ebooklib\n",
    "from ebooklib import epub"
   ]
  },
  {
   "cell_type": "code",
   "execution_count": null,
   "id": "d8dcab1d-3461-47f5-a86c-110b35013a64",
   "metadata": {},
   "outputs": [],
   "source": [
    "def extract_images(book_url):\n",
    "    book = epub.read_epub(book_url)\n",
    "    Path(output_dir).mkdir(parents=True, exist_ok=True)\n",
    "    for item in book.get_items():\n",
    "        if item.media_type.startswith('image/'):\n",
    "            image_name = item.file_name\n",
    "            image_path = Path(output_dir) / image_name\n",
    "            with open(image_path, 'wb') as f:\n",
    "                f.write(item.get_content())\n",
    "    return 'DONE'"
   ]
  },
  {
   "cell_type": "code",
   "execution_count": null,
   "id": "825f81f8-1016-41de-8009-8cf49dde05cd",
   "metadata": {},
   "outputs": [],
   "source": []
  },
  {
   "cell_type": "code",
   "execution_count": null,
   "id": "3bda3045-dd81-4535-b112-3593489c968f",
   "metadata": {},
   "outputs": [],
   "source": []
  },
  {
   "cell_type": "code",
   "execution_count": null,
   "id": "a4d0a902-c7e6-43dc-b449-a7e5bee6200b",
   "metadata": {},
   "outputs": [],
   "source": []
  },
  {
   "cell_type": "code",
   "execution_count": null,
   "id": "b8828f29-cea7-4b18-8013-bec0aac470de",
   "metadata": {},
   "outputs": [],
   "source": []
  },
  {
   "cell_type": "code",
   "execution_count": null,
   "id": "d19546e7-0921-4ec2-aa1c-53c76200ef59",
   "metadata": {},
   "outputs": [],
   "source": []
  },
  {
   "cell_type": "code",
   "execution_count": null,
   "id": "05fd1c51-1841-4aee-9087-4b34a8e38e82",
   "metadata": {},
   "outputs": [],
   "source": []
  },
  {
   "cell_type": "code",
   "execution_count": null,
   "id": "bdccc61f-29b1-4f66-b422-01041a3fd147",
   "metadata": {},
   "outputs": [],
   "source": []
  },
  {
   "cell_type": "code",
   "execution_count": null,
   "id": "eaabb35b-a1af-403b-b76f-018a8aa62b3f",
   "metadata": {},
   "outputs": [],
   "source": []
  },
  {
   "cell_type": "code",
   "execution_count": 2,
   "id": "ce825823-e2af-4b62-93fc-fa561d1b8228",
   "metadata": {},
   "outputs": [
    {
     "name": "stderr",
     "output_type": "stream",
     "text": [
      "/home/jon/anaconda3/envs/minecraft/lib/python3.12/site-packages/ebooklib/epub.py:1347: FutureWarning: This search incorrectly ignores the root element, and will be fixed in a future version.  If you rely on the current behaviour, change it to './/xmlns:rootfile[@media-type]'\n",
      "  for root_file in tree.findall('//xmlns:rootfile[@media-type]', namespaces={'xmlns': NAMESPACES['CONTAINERNS']}):\n"
     ]
    }
   ],
   "source": [
    "book = epub.read_epub('blocks.epub')"
   ]
  },
  {
   "cell_type": "code",
   "execution_count": 9,
   "id": "2b89c523-dd14-442d-968b-2b1ef5696971",
   "metadata": {},
   "outputs": [
    {
     "data": {
      "text/plain": [
       "<ebooklib.epub.EpubBook at 0x7f5d8c8e0f50>"
      ]
     },
     "execution_count": 9,
     "metadata": {},
     "output_type": "execute_result"
    }
   ],
   "source": [
    "book"
   ]
  },
  {
   "cell_type": "code",
   "execution_count": 10,
   "id": "d942078d-dfd4-4550-8582-ac80ad89f222",
   "metadata": {},
   "outputs": [
    {
     "data": {
      "text/plain": [
       "[('Minecraft: Blockopedia', {'id': 'maintitle'}),\n",
       " ('Updated Edition', {'id': 'subtitle'})]"
      ]
     },
     "execution_count": 10,
     "metadata": {},
     "output_type": "execute_result"
    }
   ],
   "source": [
    "book.get_metadata('DC', 'title')"
   ]
  },
  {
   "cell_type": "code",
   "execution_count": null,
   "id": "12f4af81-991d-4bee-b96d-7b6b5b7149b7",
   "metadata": {},
   "outputs": [],
   "source": [
    "help(book)"
   ]
  },
  {
   "cell_type": "code",
   "execution_count": 11,
   "id": "6dec0960-1913-4ce6-95a7-cdfd30615b5c",
   "metadata": {},
   "outputs": [],
   "source": [
    "from ebooklib.utils import debug"
   ]
  },
  {
   "cell_type": "code",
   "execution_count": null,
   "id": "addcfbf3-f730-4e8e-8134-6e09762cb70e",
   "metadata": {},
   "outputs": [],
   "source": [
    "debug(book.metadata)"
   ]
  },
  {
   "cell_type": "code",
   "execution_count": null,
   "id": "09c36b06-8e54-4584-bdd1-16dfe25a5a0c",
   "metadata": {},
   "outputs": [],
   "source": [
    "debug(book.spine)"
   ]
  },
  {
   "cell_type": "code",
   "execution_count": null,
   "id": "727e5836-4fec-4b92-91cf-40bf8e5cd3d7",
   "metadata": {},
   "outputs": [],
   "source": [
    "debug(book.toc)"
   ]
  },
  {
   "cell_type": "code",
   "execution_count": null,
   "id": "bcafda5e-e622-45eb-9182-114491fc2a25",
   "metadata": {},
   "outputs": [],
   "source": [
    "for x in  book.get_items_of_type(ebooklib.ITEM_IMAGE):\n",
    "    debug(x)\n",
    "\n",
    "for x in  book.get_items_of_type(ebooklib.ITEM_DOCUMENT):\n",
    "    debug(x)"
   ]
  },
  {
   "cell_type": "code",
   "execution_count": 3,
   "id": "f9a868be-3e0f-4fa2-9f78-40571f683b4f",
   "metadata": {},
   "outputs": [],
   "source": [
    "images = list(book.get_items_of_type(ebooklib.ITEM_IMAGE))\n",
    "raw_image = list(book.get_items_of_media_type('image/png'))"
   ]
  },
  {
   "cell_type": "code",
   "execution_count": 8,
   "id": "540fcccc-bb49-4aa2-aaca-b9790b06c370",
   "metadata": {},
   "outputs": [],
   "source": [
    "def extract_images_from_epub(epub_path, output_dir):\n",
    "    book = epub.read_epub(epub_path)\n",
    "    Path(output_dir).mkdir(parents=True, exist_ok=True)\n",
    "\n",
    "    for item in book.get_items():\n",
    "        if item.media_type.startswith('image/'):\n",
    "            image_name = item.file_name\n",
    "            image_path = Path(output_dir) / image_name\n",
    "            with open(image_path, 'wb') as f:\n",
    "                f.write(item.get_content())\n",
    "            print(f\"Extracted image: {image_path}\")"
   ]
  },
  {
   "cell_type": "code",
   "execution_count": null,
   "id": "2ffe00c8-6775-4260-b958-bfcba37f69d4",
   "metadata": {},
   "outputs": [],
   "source": [
    "epub_file_path = 'blocks.epub'\n",
    "output_directory = 'extracted_images'\n",
    "extract_images_from_epub(epub_file_path, output_directory)"
   ]
  },
  {
   "cell_type": "code",
   "execution_count": null,
   "id": "2cf6e0a5-07d8-4724-be65-fcbc5a2c3954",
   "metadata": {},
   "outputs": [],
   "source": []
  },
  {
   "cell_type": "code",
   "execution_count": null,
   "id": "7c0e62d0-eb5d-46f4-89fc-992b91972e53",
   "metadata": {},
   "outputs": [],
   "source": []
  },
  {
   "cell_type": "code",
   "execution_count": null,
   "id": "2a7ea663-0050-41eb-a039-f5d0ad3b44af",
   "metadata": {},
   "outputs": [],
   "source": []
  },
  {
   "cell_type": "code",
   "execution_count": null,
   "id": "22cc0b48-cf86-411d-98b8-b2782c9c41be",
   "metadata": {},
   "outputs": [],
   "source": []
  },
  {
   "cell_type": "code",
   "execution_count": null,
   "id": "4ea00cba-5cd0-48c7-9598-a718f5bf686f",
   "metadata": {},
   "outputs": [],
   "source": [
    "from ebooklib.utils import debug\n",
    "\n",
    "book = epub.read_epub(sys.argv[1])\n",
    "\n",
    "debug(book.metadata)\n",
    "debug(book.spine)\n",
    "debug(book.toc)\n"
   ]
  },
  {
   "cell_type": "code",
   "execution_count": null,
   "id": "016bbd4b-c50b-4894-9b4c-376f5182a753",
   "metadata": {},
   "outputs": [],
   "source": []
  },
  {
   "cell_type": "code",
   "execution_count": null,
   "id": "bb4dd218-4f47-485b-a0dd-f8008450e863",
   "metadata": {},
   "outputs": [],
   "source": []
  },
  {
   "cell_type": "code",
   "execution_count": null,
   "id": "35c38f12-6839-437c-bd7e-f06007994250",
   "metadata": {},
   "outputs": [],
   "source": []
  },
  {
   "cell_type": "code",
   "execution_count": null,
   "id": "8d1156f6-d085-438d-9d1c-4533040e155e",
   "metadata": {},
   "outputs": [],
   "source": []
  },
  {
   "cell_type": "code",
   "execution_count": null,
   "id": "262ca3e3-4c5d-418e-bf39-f7b453bd41ae",
   "metadata": {},
   "outputs": [],
   "source": []
  },
  {
   "cell_type": "code",
   "execution_count": null,
   "id": "621bfda6-0ba6-46b0-9c23-5e78082c2287",
   "metadata": {},
   "outputs": [],
   "source": []
  },
  {
   "cell_type": "code",
   "execution_count": null,
   "id": "4ef94943-a87a-485d-99f2-af602719b466",
   "metadata": {},
   "outputs": [],
   "source": []
  },
  {
   "cell_type": "code",
   "execution_count": null,
   "id": "bd64fe27-a7be-4413-8244-68235589e191",
   "metadata": {},
   "outputs": [],
   "source": []
  },
  {
   "cell_type": "code",
   "execution_count": null,
   "id": "3cea3772-f408-4b87-b0ac-72b919891df8",
   "metadata": {},
   "outputs": [],
   "source": []
  },
  {
   "cell_type": "code",
   "execution_count": 9,
   "id": "9111df47-8f6d-42ba-9f69-ce5320781135",
   "metadata": {},
   "outputs": [],
   "source": [
    "items = list(book.get_items())"
   ]
  },
  {
   "cell_type": "code",
   "execution_count": 34,
   "id": "1a49a562-88d3-433a-ba8b-6ded4c65684c",
   "metadata": {},
   "outputs": [
    {
     "data": {
      "text/plain": [
       "<ebooklib.epub.EpubHtml at 0x7f95db26da30>"
      ]
     },
     "execution_count": 34,
     "metadata": {},
     "output_type": "execute_result"
    }
   ],
   "source": [
    "items[0]"
   ]
  },
  {
   "cell_type": "code",
   "execution_count": 38,
   "id": "26422b64-996a-454a-9940-67e4f8950ce7",
   "metadata": {},
   "outputs": [
    {
     "ename": "AttributeError",
     "evalue": "module 'ebooklib' has no attribute 'HTML'",
     "output_type": "error",
     "traceback": [
      "\u001b[31m---------------------------------------------------------------------------\u001b[39m",
      "\u001b[31mAttributeError\u001b[39m                            Traceback (most recent call last)",
      "\u001b[36mCell\u001b[39m\u001b[36m \u001b[39m\u001b[32mIn[38]\u001b[39m\u001b[32m, line 1\u001b[39m\n\u001b[32m----> \u001b[39m\u001b[32m1\u001b[39m htmls = \u001b[38;5;28mlist\u001b[39m(book.get_items_of_type(ebooklib.HTML))\n",
      "\u001b[31mAttributeError\u001b[39m: module 'ebooklib' has no attribute 'HTML'"
     ]
    }
   ],
   "source": [
    "htmls = list(book.get_items_of_type(ebooklib.))"
   ]
  },
  {
   "cell_type": "code",
   "execution_count": null,
   "id": "98d309ef-1943-4471-871c-7e82f019708a",
   "metadata": {},
   "outputs": [],
   "source": []
  },
  {
   "cell_type": "code",
   "execution_count": null,
   "id": "41c7a37f-53ff-4bd6-8856-b7fa81e0ea3f",
   "metadata": {},
   "outputs": [],
   "source": []
  },
  {
   "cell_type": "code",
   "execution_count": 27,
   "id": "9e4866f4-e1b6-4ace-8b56-0aa50740c132",
   "metadata": {},
   "outputs": [],
   "source": [
    "images = list(book.get_items_of_type(ebooklib.ITEM_IMAGE))"
   ]
  },
  {
   "cell_type": "code",
   "execution_count": 28,
   "id": "166c2381-8bbb-40c5-b718-c66c9f19ab37",
   "metadata": {},
   "outputs": [
    {
     "data": {
      "text/plain": [
       "<ebooklib.epub.EpubImage at 0x7f95ccf9e3c0>"
      ]
     },
     "execution_count": 28,
     "metadata": {},
     "output_type": "execute_result"
    }
   ],
   "source": [
    "images[0]"
   ]
  },
  {
   "cell_type": "code",
   "execution_count": 29,
   "id": "1d56fcea-aeb1-49b4-bae7-f53d227c0597",
   "metadata": {},
   "outputs": [],
   "source": [
    "book.get_item_with_href('index.xhtml')"
   ]
  },
  {
   "cell_type": "code",
   "execution_count": 31,
   "id": "13fb749d-b353-4d51-b779-c31b0e6c06ff",
   "metadata": {},
   "outputs": [],
   "source": [
    "other_type_of_image = list(book.get_items_of_media_type('image/png'))"
   ]
  },
  {
   "cell_type": "code",
   "execution_count": null,
   "id": "c9ca6a51-f48c-49f8-a62a-d864b130082b",
   "metadata": {},
   "outputs": [],
   "source": [
    "other_type_of_image[0].get_content()"
   ]
  },
  {
   "cell_type": "code",
   "execution_count": 37,
   "id": "1783960d-79ae-40a3-813f-626088b50c28",
   "metadata": {},
   "outputs": [
    {
     "data": {
      "text/plain": [
       "[]"
      ]
     },
     "execution_count": 37,
     "metadata": {},
     "output_type": "execute_result"
    }
   ],
   "source": [
    "htmls"
   ]
  },
  {
   "cell_type": "code",
   "execution_count": 28,
   "id": "13385be3-c12b-4710-b736-27ff3aa787c2",
   "metadata": {},
   "outputs": [
    {
     "name": "stdout",
     "output_type": "stream",
     "text": [
      "<bound method EpubImage.__str__ of <ebooklib.epub.EpubImage object at 0x7f5d8edc9df0>>\n"
     ]
    }
   ],
   "source": [
    "print(images[0].__str__)"
   ]
  },
  {
   "cell_type": "code",
   "execution_count": 31,
   "id": "83e65830-0921-4650-9602-bf0be91f13bd",
   "metadata": {},
   "outputs": [
    {
     "data": {
      "text/plain": [
       "dict_keys(['id', 'file_name', 'media_type', 'content', 'is_linear', 'manifest', 'book'])"
      ]
     },
     "execution_count": 31,
     "metadata": {},
     "output_type": "execute_result"
    }
   ],
   "source": [
    "images[0].__dict__.keys()"
   ]
  },
  {
   "cell_type": "code",
   "execution_count": 32,
   "id": "5e789052-9138-4d34-bb57-9c26c9286791",
   "metadata": {},
   "outputs": [
    {
     "name": "stdout",
     "output_type": "stream",
     "text": [
      "Help on EpubImage in module ebooklib.epub object:\n",
      "\n",
      "class EpubImage(EpubItem)\n",
      " |  Represents Image in the EPUB file.\n",
      " |\n",
      " |  Method resolution order:\n",
      " |      EpubImage\n",
      " |      EpubItem\n",
      " |      builtins.object\n",
      " |\n",
      " |  Methods defined here:\n",
      " |\n",
      " |  __init__(self)\n",
      " |      :Args:\n",
      " |        - uid: Unique identifier for this item (optional)\n",
      " |        - file_name: File name for this item (optional)\n",
      " |        - media_type: Media type for this item (optional)\n",
      " |        - content: Content for this item (optional)\n",
      " |        - manifest: Manifest for this item (optional)\n",
      " |\n",
      " |  __str__(self)\n",
      " |      Return str(self).\n",
      " |\n",
      " |  get_type(self)\n",
      " |      Guess type according to the file extension. Might not be the best way how to do it, but it works for now.\n",
      " |\n",
      " |      Items can be of type:\n",
      " |        - ITEM_UNKNOWN = 0\n",
      " |        - ITEM_IMAGE = 1\n",
      " |        - ITEM_STYLE = 2\n",
      " |        - ITEM_SCRIPT = 3\n",
      " |        - ITEM_NAVIGATION = 4\n",
      " |        - ITEM_VECTOR = 5\n",
      " |        - ITEM_FONT = 6\n",
      " |        - ITEM_VIDEO = 7\n",
      " |        - ITEM_AUDIO = 8\n",
      " |        - ITEM_DOCUMENT = 9\n",
      " |        - ITEM_COVER = 10\n",
      " |\n",
      " |      We map type according to the extensions which are defined in ebooklib.EXTENSIONS.\n",
      " |\n",
      " |      :Returns:\n",
      " |        Returns type of the item as number.\n",
      " |\n",
      " |  ----------------------------------------------------------------------\n",
      " |  Methods inherited from EpubItem:\n",
      " |\n",
      " |  get_content(self, default=b'')\n",
      " |      Returns content of the item. Content should be of type 'str' (Python 2) or 'bytes' (Python 3)\n",
      " |\n",
      " |      :Args:\n",
      " |        - default: Default value for the content if it is not already defined.\n",
      " |\n",
      " |      :Returns:\n",
      " |        Returns content of the item.\n",
      " |\n",
      " |  get_id(self)\n",
      " |      Returns unique identifier for this item.\n",
      " |\n",
      " |      :Returns:\n",
      " |        Returns uid number as string.\n",
      " |\n",
      " |  get_name(self)\n",
      " |      Returns name for this item. By default it is always file name but it does not have to be.\n",
      " |\n",
      " |      :Returns:\n",
      " |        Returns file name for this item.\n",
      " |\n",
      " |  set_content(self, content)\n",
      " |      Sets content value for this item.\n",
      " |\n",
      " |      :Args:\n",
      " |        - content: Content value\n",
      " |\n",
      " |  ----------------------------------------------------------------------\n",
      " |  Data descriptors inherited from EpubItem:\n",
      " |\n",
      " |  __dict__\n",
      " |      dictionary for instance variables\n",
      " |\n",
      " |  __weakref__\n",
      " |      list of weak references to the object\n",
      "\n"
     ]
    }
   ],
   "source": [
    "help(images[0])"
   ]
  },
  {
   "cell_type": "code",
   "execution_count": 4,
   "id": "9af85f70-8e04-4890-b75e-6b4f8bb0d36d",
   "metadata": {},
   "outputs": [],
   "source": [
    "from pathlib import Path"
   ]
  },
  {
   "cell_type": "code",
   "execution_count": 5,
   "id": "9e04b5f4-41fe-4b38-9412-e96bd2d326ea",
   "metadata": {},
   "outputs": [],
   "source": [
    "def extract_images_from_epub(epub_path, output_dir):\n",
    "    book = epub.read_epub(epub_path)\n",
    "    Path(output_dir).mkdir(parents=True, exist_ok=True)\n",
    "\n",
    "    for item in book.get_items():\n",
    "        if item.media_type.startswith('image/'):\n",
    "            image_name = item.file_name\n",
    "            image_path = Path(output_dir) / image_name\n",
    "            with open(image_path, 'wb') as f:\n",
    "                f.write(item.get_content())\n",
    "            print(f\"Extracted image: {image_path}\")"
   ]
  },
  {
   "cell_type": "code",
   "execution_count": null,
   "id": "bfc6d4dc-ff3b-44d6-b95c-18547e6b6fcd",
   "metadata": {},
   "outputs": [],
   "source": [
    "epub_file_path = 'blocks.epub'\n",
    "output_directory = 'extracted_images'\n",
    "extract_images_from_epub(epub_file_path, output_directory)"
   ]
  },
  {
   "cell_type": "code",
   "execution_count": 37,
   "id": "e50de86c-5a5c-4cda-af7e-0b6dc170697f",
   "metadata": {},
   "outputs": [
    {
     "data": {
      "text/plain": [
       "'/home/jon/workshop/minecraft'"
      ]
     },
     "execution_count": 37,
     "metadata": {},
     "output_type": "execute_result"
    }
   ],
   "source": [
    "import os\n",
    "os.getcwd()"
   ]
  },
  {
   "cell_type": "code",
   "execution_count": 38,
   "id": "d5ef3e3d-9624-4453-b354-69aa9a7d689b",
   "metadata": {},
   "outputs": [
    {
     "data": {
      "text/plain": [
       "['.ipynb_checkpoints',\n",
       " 'minecraft_console.ipynb',\n",
       " 'README.md',\n",
       " '.git',\n",
       " 'Untitled Folder',\n",
       " 'blocks.epub',\n",
       " 'extracted_images_1',\n",
       " 'gitignore']"
      ]
     },
     "execution_count": 38,
     "metadata": {},
     "output_type": "execute_result"
    }
   ],
   "source": [
    "os.listdir(os.getcwd())"
   ]
  },
  {
   "cell_type": "code",
   "execution_count": null,
   "id": "69f94add-fefb-45ff-8203-bbbae41d5c61",
   "metadata": {},
   "outputs": [],
   "source": []
  },
  {
   "cell_type": "code",
   "execution_count": null,
   "id": "d2815ab1-29e7-4aad-a215-199087ebbe0a",
   "metadata": {},
   "outputs": [],
   "source": []
  },
  {
   "cell_type": "code",
   "execution_count": null,
   "id": "2752a0f5-31ad-4bb4-9243-142ff22527e7",
   "metadata": {},
   "outputs": [],
   "source": []
  },
  {
   "cell_type": "code",
   "execution_count": null,
   "id": "ab5e4462-6f9f-4afd-aec7-29465616ea04",
   "metadata": {},
   "outputs": [],
   "source": []
  },
  {
   "cell_type": "code",
   "execution_count": null,
   "id": "a10466e8-6fd8-42eb-8942-fddfd900600f",
   "metadata": {},
   "outputs": [],
   "source": []
  },
  {
   "cell_type": "code",
   "execution_count": null,
   "id": "844aa3a4-39b3-4e4d-9014-455f6dba7399",
   "metadata": {},
   "outputs": [],
   "source": []
  },
  {
   "cell_type": "code",
   "execution_count": null,
   "id": "c51b29bb-0e85-43e7-98c9-51128a7de32a",
   "metadata": {},
   "outputs": [],
   "source": []
  },
  {
   "cell_type": "code",
   "execution_count": null,
   "id": "4bb47cfa-33c9-4673-9508-9b405156ccda",
   "metadata": {},
   "outputs": [],
   "source": []
  },
  {
   "cell_type": "code",
   "execution_count": null,
   "id": "1f104813-3b4e-442a-8efe-0bdd96db9aa3",
   "metadata": {},
   "outputs": [],
   "source": []
  },
  {
   "cell_type": "code",
   "execution_count": null,
   "id": "548c7f08-e55b-49b3-baf2-f99f0c9334ed",
   "metadata": {},
   "outputs": [],
   "source": []
  },
  {
   "cell_type": "code",
   "execution_count": null,
   "id": "476339c9-2b74-4a23-a685-c67e9b38bdc8",
   "metadata": {},
   "outputs": [],
   "source": []
  },
  {
   "cell_type": "code",
   "execution_count": 23,
   "id": "721fae07-20f1-4b57-bd5c-a9e3b648855a",
   "metadata": {},
   "outputs": [
    {
     "name": "stdout",
     "output_type": "stream",
     "text": [
      "<EpubImage:page_1.jpg:images/page_1.jpg>\n",
      "<EpubImage:page_2.jpg:images/page_2.jpg>\n",
      "<EpubImage:page_3.jpg:images/9780593355916_title_page.jpg>\n",
      "<EpubImage:page_4.jpg:images/page_4.jpg>\n",
      "<EpubImage:page_5.jpg:images/page_5.jpg>\n",
      "<EpubImage:page_6.jpg:images/page_6.jpg>\n",
      "<EpubImage:page_7.jpg:images/page_7.jpg>\n",
      "<EpubImage:page_8.jpg:images/page_8.jpg>\n",
      "<EpubImage:page_9.jpg:images/page_9.jpg>\n",
      "<EpubImage:page_10.jpg:images/page_10.jpg>\n",
      "<EpubImage:page_11.jpg:images/page_11.jpg>\n",
      "<EpubImage:page_12.jpg:images/page_12.jpg>\n",
      "<EpubImage:page_13.jpg:images/page_13.jpg>\n",
      "<EpubImage:page_14.jpg:images/page_14.jpg>\n",
      "<EpubImage:page_15.jpg:images/page_15.jpg>\n",
      "<EpubImage:page_16.jpg:images/page_16.jpg>\n",
      "<EpubImage:page_17.jpg:images/page_17.jpg>\n",
      "<EpubImage:page_18.jpg:images/page_18.jpg>\n",
      "<EpubImage:page_19.jpg:images/page_19.jpg>\n",
      "<EpubImage:page_20.jpg:images/page_20.jpg>\n",
      "<EpubImage:page_21.jpg:images/page_21.jpg>\n",
      "<EpubImage:page_22.jpg:images/page_22.jpg>\n",
      "<EpubImage:page_23.jpg:images/page_23.jpg>\n",
      "<EpubImage:page_24.jpg:images/page_24.jpg>\n",
      "<EpubImage:page_25.jpg:images/page_25.jpg>\n",
      "<EpubImage:page_26.jpg:images/page_26.jpg>\n",
      "<EpubImage:page_27.jpg:images/page_27.jpg>\n",
      "<EpubImage:page_28.jpg:images/page_28.jpg>\n",
      "<EpubImage:page_29.jpg:images/page_29.jpg>\n",
      "<EpubImage:page_30.jpg:images/page_30.jpg>\n",
      "<EpubImage:page_31.jpg:images/page_31.jpg>\n",
      "<EpubImage:page_32.jpg:images/page_32.jpg>\n",
      "<EpubImage:page_33.jpg:images/page_33.jpg>\n",
      "<EpubImage:page_34.jpg:images/page_34.jpg>\n",
      "<EpubImage:page_35.jpg:images/page_35.jpg>\n",
      "<EpubImage:page_36.jpg:images/page_36.jpg>\n",
      "<EpubImage:page_37.jpg:images/page_37.jpg>\n",
      "<EpubImage:page_38.jpg:images/page_38.jpg>\n",
      "<EpubImage:page_39.jpg:images/page_39.jpg>\n",
      "<EpubImage:page_40.jpg:images/page_40.jpg>\n",
      "<EpubImage:page_41.jpg:images/page_41.jpg>\n",
      "<EpubImage:page_42.jpg:images/page_42.jpg>\n",
      "<EpubImage:page_43.jpg:images/page_43.jpg>\n",
      "<EpubImage:page_44.jpg:images/page_44.jpg>\n",
      "<EpubImage:page_45.jpg:images/page_45.jpg>\n",
      "<EpubImage:page_46.jpg:images/page_46.jpg>\n",
      "<EpubImage:page_47.jpg:images/page_47.jpg>\n",
      "<EpubImage:page_48.jpg:images/page_48.jpg>\n",
      "<EpubImage:page_49.jpg:images/page_49.jpg>\n",
      "<EpubImage:page_50.jpg:images/page_50.jpg>\n",
      "<EpubImage:page_51.jpg:images/page_51.jpg>\n",
      "<EpubImage:page_52.jpg:images/page_52.jpg>\n",
      "<EpubImage:page_53.jpg:images/page_53.jpg>\n",
      "<EpubImage:page_54.jpg:images/page_54.jpg>\n",
      "<EpubImage:page_55.jpg:images/page_55.jpg>\n",
      "<EpubImage:page_56.jpg:images/page_56.jpg>\n",
      "<EpubImage:page_57.jpg:images/page_57.jpg>\n",
      "<EpubImage:page_58.jpg:images/page_58.jpg>\n",
      "<EpubImage:page_59.jpg:images/page_59.jpg>\n",
      "<EpubImage:page_60.jpg:images/page_60.jpg>\n",
      "<EpubImage:page_61.jpg:images/page_61.jpg>\n",
      "<EpubImage:page_62.jpg:images/page_62.jpg>\n",
      "<EpubImage:page_63.jpg:images/page_63.jpg>\n",
      "<EpubImage:page_64.jpg:images/page_64.jpg>\n",
      "<EpubImage:page_65.jpg:images/page_65.jpg>\n",
      "<EpubImage:page_66.jpg:images/page_66.jpg>\n",
      "<EpubImage:page_67.jpg:images/page_67.jpg>\n",
      "<EpubImage:page_68.jpg:images/page_68.jpg>\n",
      "<EpubImage:page_69.jpg:images/page_69.jpg>\n",
      "<EpubImage:page_70.jpg:images/page_70.jpg>\n",
      "<EpubImage:page_71.jpg:images/page_71.jpg>\n",
      "<EpubImage:page_72.jpg:images/page_72.jpg>\n",
      "<EpubImage:page_73.jpg:images/page_73.jpg>\n",
      "<EpubImage:page_74.jpg:images/page_74.jpg>\n",
      "<EpubImage:page_75.jpg:images/page_75.jpg>\n",
      "<EpubImage:page_76.jpg:images/page_76.jpg>\n",
      "<EpubImage:page_77.jpg:images/page_77.jpg>\n",
      "<EpubImage:page_78.jpg:images/page_78.jpg>\n",
      "<EpubImage:page_79.jpg:images/page_79.jpg>\n",
      "<EpubImage:page_80.jpg:images/page_80.jpg>\n",
      "<EpubImage:page_81.jpg:images/page_81.jpg>\n",
      "<EpubImage:page_82.jpg:images/page_82.jpg>\n",
      "<EpubImage:page_83.jpg:images/page_83.jpg>\n",
      "<EpubImage:page_84.jpg:images/page_84.jpg>\n",
      "<EpubImage:page_85.jpg:images/page_85.jpg>\n",
      "<EpubImage:page_86.jpg:images/page_86.jpg>\n",
      "<EpubImage:page_87.jpg:images/page_87.jpg>\n",
      "<EpubImage:page_88.jpg:images/page_88.jpg>\n",
      "<EpubImage:page_89.jpg:images/page_89.jpg>\n",
      "<EpubImage:page_90.jpg:images/page_90.jpg>\n",
      "<EpubImage:page_91.jpg:images/page_91.jpg>\n",
      "<EpubImage:page_92.jpg:images/page_92.jpg>\n",
      "<EpubImage:page_93.jpg:images/page_93.jpg>\n",
      "<EpubImage:page_94.jpg:images/page_94.jpg>\n",
      "<EpubImage:page_95.jpg:images/page_95.jpg>\n",
      "<EpubImage:page_96.jpg:images/page_96.jpg>\n",
      "<EpubImage:page_97.jpg:images/page_97.jpg>\n",
      "<EpubImage:page_98.jpg:images/page_98.jpg>\n",
      "<EpubImage:page_99.jpg:images/page_99.jpg>\n",
      "<EpubImage:page_100.jpg:images/page_100.jpg>\n",
      "<EpubImage:page_101.jpg:images/page_101.jpg>\n",
      "<EpubImage:page_102.jpg:images/page_102.jpg>\n",
      "<EpubImage:page_103.jpg:images/page_103.jpg>\n",
      "<EpubImage:page_104.jpg:images/page_104.jpg>\n",
      "<EpubImage:page_105.jpg:images/page_105.jpg>\n",
      "<EpubImage:page_106.jpg:images/page_106.jpg>\n",
      "<EpubImage:page_107.jpg:images/page_107.jpg>\n",
      "<EpubImage:page_108.jpg:images/page_108.jpg>\n",
      "<EpubImage:page_109.jpg:images/page_109.jpg>\n",
      "<EpubImage:page_110.jpg:images/page_110.jpg>\n",
      "<EpubImage:page_111.jpg:images/page_111.jpg>\n",
      "<EpubImage:page_112.jpg:images/page_112.jpg>\n",
      "<EpubImage:page_113.jpg:images/page_113.jpg>\n",
      "<EpubImage:page_114.jpg:images/page_114.jpg>\n",
      "<EpubImage:page_115.jpg:images/page_115.jpg>\n",
      "<EpubImage:page_116.jpg:images/page_116.jpg>\n",
      "<EpubImage:page_117.jpg:images/page_117.jpg>\n",
      "<EpubImage:page_118.jpg:images/page_118.jpg>\n",
      "<EpubImage:page_119.jpg:images/page_119.jpg>\n",
      "<EpubImage:page_120.jpg:images/page_120.jpg>\n",
      "<EpubImage:page_121.jpg:images/page_121.jpg>\n",
      "<EpubImage:page_122.jpg:images/page_122.jpg>\n",
      "<EpubImage:page_123.jpg:images/page_123.jpg>\n",
      "<EpubImage:page_124.jpg:images/page_124.jpg>\n",
      "<EpubImage:page_125.jpg:images/page_125.jpg>\n",
      "<EpubImage:page_126.jpg:images/page_126.jpg>\n",
      "<EpubImage:page_127.jpg:images/page_127.jpg>\n",
      "<EpubImage:page_128.jpg:images/page_128.jpg>\n",
      "<EpubImage:page_129.jpg:images/page_129.jpg>\n",
      "<EpubImage:page_130.jpg:images/page_130.jpg>\n",
      "<EpubImage:page_131.jpg:images/page_131.jpg>\n",
      "<EpubImage:page_132.jpg:images/page_132.jpg>\n",
      "<EpubImage:page_133.jpg:images/page_133.jpg>\n",
      "<EpubImage:page_134.jpg:images/page_134.jpg>\n",
      "<EpubImage:page_135.jpg:images/page_135.jpg>\n",
      "<EpubImage:page_136.jpg:images/page_136.jpg>\n",
      "<EpubImage:page_137.jpg:images/page_137.jpg>\n",
      "<EpubImage:page_138.jpg:images/page_138.jpg>\n",
      "<EpubImage:page_139.jpg:images/page_139.jpg>\n",
      "<EpubImage:page_140.jpg:images/page_140.jpg>\n",
      "<EpubImage:page_141.jpg:images/page_141.jpg>\n",
      "<EpubImage:page_142.jpg:images/page_142.jpg>\n",
      "<EpubImage:page_143.jpg:images/page_143.jpg>\n",
      "<EpubImage:page_144.jpg:images/page_144.jpg>\n",
      "<EpubImage:page_145.jpg:images/page_145.jpg>\n",
      "<EpubImage:page_146.jpg:images/page_146.jpg>\n",
      "<EpubImage:page_147.jpg:images/page_147.jpg>\n",
      "<EpubImage:page_148.jpg:images/page_148.jpg>\n",
      "<EpubImage:page_149.jpg:images/page_149.jpg>\n",
      "<EpubImage:page_150.jpg:images/page_150.jpg>\n",
      "<EpubImage:page_151.jpg:images/page_151.jpg>\n",
      "<EpubImage:page_152.jpg:images/page_152.jpg>\n",
      "<EpubImage:page_153.jpg:images/page_153.jpg>\n",
      "<EpubImage:page_154.jpg:images/page_154.jpg>\n",
      "<EpubImage:page_155.jpg:images/page_155.jpg>\n",
      "<EpubImage:page_156.jpg:images/page_156.jpg>\n",
      "<EpubImage:page_157.jpg:images/page_157.jpg>\n",
      "<EpubImage:page_158.jpg:images/page_158.jpg>\n",
      "<EpubImage:page_159.jpg:images/page_159.jpg>\n",
      "<EpubImage:page_160.jpg:images/page_160.jpg>\n",
      "<EpubImage:page_161.jpg:images/page_161.jpg>\n",
      "<EpubImage:page_162.jpg:images/page_162.jpg>\n",
      "<EpubImage:page_163.jpg:images/page_163.jpg>\n",
      "<EpubImage:page_164.jpg:images/page_164.jpg>\n",
      "<EpubImage:page_165.jpg:images/page_165.jpg>\n",
      "<EpubImage:page_166.jpg:images/page_166.jpg>\n",
      "<EpubImage:page_167.jpg:images/page_167.jpg>\n",
      "<EpubImage:page_168.jpg:images/page_168.jpg>\n",
      "<EpubImage:page_169.jpg:images/page_169.jpg>\n",
      "<EpubImage:page_170.jpg:images/page_170.jpg>\n",
      "<EpubImage:page_171.jpg:images/page_171.jpg>\n",
      "<EpubImage:page_172.jpg:images/page_172.jpg>\n",
      "<EpubImage:page_173.jpg:images/page_173.jpg>\n",
      "<EpubImage:page_174.jpg:images/page_174.jpg>\n",
      "<EpubImage:page_175.jpg:images/page_175.jpg>\n",
      "<EpubImage:page_176.jpg:images/page_176.jpg>\n",
      "<EpubImage:page_177.jpg:images/page_177.jpg>\n",
      "<EpubImage:page_178.jpg:images/page_178.jpg>\n",
      "<EpubImage:page_179.jpg:images/page_179.jpg>\n",
      "<EpubImage:page_180.jpg:images/page_180.jpg>\n",
      "<EpubImage:page_181.jpg:images/page_181.jpg>\n",
      "<EpubImage:page_182.jpg:images/page_182.jpg>\n",
      "<EpubImage:page_183.jpg:images/page_183.jpg>\n",
      "<EpubImage:page_184.jpg:images/page_184.jpg>\n",
      "<EpubImage:page_185.jpg:images/page_185.jpg>\n",
      "<EpubImage:page_186.jpg:images/page_186.jpg>\n",
      "<EpubImage:page_187.jpg:images/page_187.jpg>\n",
      "<EpubImage:page_188.jpg:images/page_188.jpg>\n",
      "<EpubImage:page_189.jpg:images/page_189.jpg>\n",
      "<EpubImage:page_190.jpg:images/page_190.jpg>\n",
      "<EpubImage:page_191.jpg:images/page_191.jpg>\n",
      "<EpubImage:page_192.jpg:images/page_192.jpg>\n",
      "<EpubImage:page_193.jpg:images/page_193.jpg>\n",
      "<EpubImage:page_194.jpg:images/page_194.jpg>\n",
      "<EpubImage:page_195.jpg:images/page_195.jpg>\n",
      "<EpubImage:page_196.jpg:images/page_196.jpg>\n",
      "<EpubImage:page_197.jpg:images/page_197.jpg>\n",
      "<EpubImage:page_198.jpg:images/page_198.jpg>\n",
      "<EpubImage:page_199.jpg:images/page_199.jpg>\n",
      "<EpubImage:page_200.jpg:images/page_200.jpg>\n",
      "<EpubImage:page_201.jpg:images/page_201.jpg>\n",
      "<EpubImage:page_202.jpg:images/page_202.jpg>\n",
      "<EpubImage:page_203.jpg:images/page_203.jpg>\n",
      "<EpubImage:page_204.jpg:images/page_204.jpg>\n",
      "<EpubImage:page_205.jpg:images/page_205.jpg>\n",
      "<EpubImage:page_206.jpg:images/page_206.jpg>\n",
      "<EpubImage:page_207.jpg:images/page_207.jpg>\n",
      "<EpubImage:page_208.jpg:images/page_208.jpg>\n",
      "<EpubImage:page_209.jpg:images/page_209.jpg>\n",
      "<EpubImage:page_210.jpg:images/page_210.jpg>\n",
      "<EpubImage:page_211.jpg:images/page_211.jpg>\n",
      "<EpubImage:page_212.jpg:images/page_212.jpg>\n",
      "<EpubImage:page_213.jpg:images/page_213.jpg>\n",
      "<EpubImage:page_214.jpg:images/page_214.jpg>\n",
      "<EpubImage:page_215.jpg:images/page_215.jpg>\n",
      "<EpubImage:page_216.jpg:images/page_216.jpg>\n",
      "<EpubImage:page_217.jpg:images/page_217.jpg>\n",
      "<EpubImage:page_218.jpg:images/page_218.jpg>\n",
      "<EpubImage:page_219.jpg:images/page_219.jpg>\n",
      "<EpubImage:page_220.jpg:images/page_220.jpg>\n",
      "<EpubImage:page_221.jpg:images/page_221.jpg>\n",
      "<EpubImage:page_222.jpg:images/page_222.jpg>\n",
      "<EpubImage:page_223.jpg:images/page_223.jpg>\n",
      "<EpubImage:page_224.jpg:images/page_224.jpg>\n",
      "<EpubImage:page_225.jpg:images/page_225.jpg>\n",
      "<EpubImage:page_226.jpg:images/page_226.jpg>\n",
      "<EpubImage:page_227.jpg:images/page_227.jpg>\n",
      "<EpubImage:page_228.jpg:images/page_228.jpg>\n",
      "<EpubImage:page_229.jpg:images/page_229.jpg>\n",
      "<EpubImage:page_230.jpg:images/page_230.jpg>\n",
      "<EpubImage:page_231.jpg:images/page_231.jpg>\n",
      "<EpubImage:page_232.jpg:images/page_232.jpg>\n",
      "<EpubImage:page_233.jpg:images/page_233.jpg>\n",
      "<EpubImage:page_234.jpg:images/page_234.jpg>\n",
      "<EpubImage:page_235.jpg:images/page_235.jpg>\n",
      "<EpubImage:page_236.jpg:images/page_236.jpg>\n",
      "<EpubImage:page_237.jpg:images/page_237.jpg>\n",
      "<EpubImage:page_238.jpg:images/page_238.jpg>\n",
      "<EpubImage:page_239.jpg:images/page_239.jpg>\n",
      "<EpubImage:page_240.jpg:images/page_240.jpg>\n",
      "<EpubImage:page_241.jpg:images/page_241.jpg>\n",
      "<EpubImage:page_242.jpg:images/page_242.jpg>\n",
      "<EpubImage:page_243.jpg:images/page_243.jpg>\n",
      "<EpubImage:page_244.jpg:images/page_244.jpg>\n",
      "<EpubImage:page_245.jpg:images/page_245.jpg>\n",
      "<EpubImage:page_246.jpg:images/page_246.jpg>\n",
      "<EpubImage:page_247.jpg:images/page_247.jpg>\n",
      "<EpubImage:page_248.jpg:images/page_248.jpg>\n",
      "<EpubImage:page_249.jpg:images/page_249.jpg>\n",
      "<EpubImage:page_250.jpg:images/page_250.jpg>\n",
      "<EpubImage:page_251.jpg:images/page_251.jpg>\n",
      "<EpubImage:page_252.jpg:images/page_252.jpg>\n",
      "<EpubImage:page_253.jpg:images/page_253.jpg>\n",
      "<EpubImage:page_254.jpg:images/page_254.jpg>\n",
      "<EpubImage:page_255.jpg:images/page_255.jpg>\n",
      "<EpubImage:page_256.jpg:images/page_256.jpg>\n",
      "<EpubImage:page_257.jpg:images/page_257.jpg>\n",
      "<EpubImage:page_258.jpg:images/page_258.jpg>\n",
      "<EpubImage:page_259.jpg:images/page_259.jpg>\n",
      "<EpubImage:page_260.jpg:images/page_260.jpg>\n",
      "<EpubImage:page_261.jpg:images/page_261.jpg>\n",
      "<EpubImage:page_262.jpg:images/page_262.jpg>\n",
      "<EpubImage:page_263.jpg:images/page_263.jpg>\n",
      "<EpubImage:page_264.jpg:images/page_264.jpg>\n",
      "<EpubImage:page_265.jpg:images/page_265.jpg>\n",
      "<EpubImage:page_266.jpg:images/page_266.jpg>\n",
      "<EpubImage:page_267.jpg:images/page_267.jpg>\n",
      "<EpubImage:page_268.jpg:images/page_268.jpg>\n",
      "<EpubImage:page_269.jpg:images/page_269.jpg>\n",
      "<EpubImage:page_270.jpg:images/page_270.jpg>\n",
      "<EpubImage:page_271.jpg:images/page_271.jpg>\n",
      "<EpubImage:page_272.jpg:images/page_272.jpg>\n",
      "<EpubImage:page_273.jpg:images/page_273.jpg>\n",
      "<EpubImage:page_274.jpg:images/page_274.jpg>\n",
      "<EpubImage:page_275.jpg:images/page_275.jpg>\n",
      "<EpubImage:page_276.jpg:images/page_276.jpg>\n",
      "<EpubImage:page_277.jpg:images/page_277.jpg>\n",
      "<EpubImage:page_278.jpg:images/page_278.jpg>\n",
      "<EpubImage:page_279.jpg:images/page_279.jpg>\n",
      "<EpubImage:page_280.jpg:images/page_280.jpg>\n",
      "<EpubImage:page_281.jpg:images/page_281.jpg>\n",
      "<EpubImage:page_282.jpg:images/page_282.jpg>\n",
      "<EpubImage:page_283.jpg:images/page_283.jpg>\n",
      "<EpubImage:page_284.jpg:images/page_284.jpg>\n",
      "<EpubImage:page_285.jpg:images/page_285.jpg>\n",
      "<EpubImage:page_286.jpg:images/page_286.jpg>\n",
      "<EpubImage:page_287.jpg:images/page_287.jpg>\n",
      "<EpubImage:page_288.jpg:images/page_288.jpg>\n",
      "<EpubImage:page_289.jpg:images/page_289.jpg>\n",
      "<EpubImage:page_290.jpg:images/page_290.jpg>\n",
      "<EpubImage:page_291.jpg:images/page_291.jpg>\n",
      "<EpubImage:page_292.jpg:images/page_292.jpg>\n",
      "<EpubImage:page_293.jpg:images/page_293.jpg>\n",
      "<EpubImage:page_294.jpg:images/page_294.jpg>\n",
      "<EpubImage:page_295.jpg:images/page_295.jpg>\n",
      "<EpubImage:page_296.jpg:images/page_296.jpg>\n",
      "<EpubImage:page_297.jpg:images/page_297.jpg>\n",
      "<EpubImage:page_298.jpg:images/page_298.jpg>\n",
      "<EpubImage:page_299.jpg:images/page_299.jpg>\n",
      "<EpubImage:page_300.jpg:images/page_300.jpg>\n",
      "<EpubImage:page_301.jpg:images/page_301.jpg>\n",
      "<EpubImage:page_302.jpg:images/page_302.jpg>\n",
      "<EpubImage:page_303.jpg:images/page_303.jpg>\n",
      "<EpubImage:page_304.jpg:images/page_304.jpg>\n",
      "<EpubImage:page_305.jpg:images/page_305.jpg>\n",
      "<EpubImage:page_306.jpg:images/page_306.jpg>\n",
      "<EpubImage:page_307.jpg:images/page_307.jpg>\n",
      "<EpubImage:page_308.jpg:images/page_308.jpg>\n",
      "<EpubImage:page_309.jpg:images/page_309.jpg>\n",
      "<EpubImage:page_310.jpg:images/page_310.jpg>\n",
      "<EpubImage:page_311.jpg:images/page_311.jpg>\n",
      "<EpubImage:page_312.jpg:images/page_312.jpg>\n",
      "<EpubImage:page_313.jpg:images/page_313.jpg>\n",
      "<EpubImage:page_314.jpg:images/page_314.jpg>\n",
      "<EpubImage:page_315.jpg:images/page_315.jpg>\n",
      "<EpubImage:page_316.jpg:images/page_316.jpg>\n",
      "<EpubImage:page_317.jpg:images/page_317.jpg>\n",
      "<EpubImage:page_318.jpg:images/page_318.jpg>\n",
      "<EpubImage:page_319.jpg:images/page_319.jpg>\n",
      "<EpubImage:page_320.jpg:images/page_320.jpg>\n",
      "<EpubImage:page_321.jpg:images/page_321.jpg>\n",
      "<EpubImage:page_322.jpg:images/page_322.jpg>\n",
      "<EpubImage:page_323.jpg:images/page_323.jpg>\n",
      "<EpubImage:page_324.jpg:images/page_324.jpg>\n",
      "<EpubImage:page_325.jpg:images/page_325.jpg>\n",
      "<EpubImage:page_326.jpg:images/page_326.jpg>\n",
      "<EpubImage:page_327.jpg:images/page_327.jpg>\n",
      "<EpubImage:page_328.jpg:images/page_328.jpg>\n",
      "<EpubImage:page_329.jpg:images/page_329.jpg>\n",
      "<EpubImage:page_330.jpg:images/page_330.jpg>\n",
      "<EpubImage:page_331.jpg:images/page_331.jpg>\n",
      "<EpubImage:page_332.jpg:images/page_332.jpg>\n",
      "<EpubImage:page_333.jpg:images/page_333.jpg>\n",
      "<EpubImage:page_334.jpg:images/page_334.jpg>\n",
      "<EpubImage:page_336.jpg:images/page_336.jpg>\n",
      "<EpubImage:page_a.jpg:images/page_a.jpg>\n",
      "<EpubImage:page_b.jpg:images/page_b.jpg>\n"
     ]
    }
   ],
   "source": [
    "\n",
    "for image in book.get_items_of_type(ebooklib.ITEM_IMAGE):\n",
    "    print(image)"
   ]
  },
  {
   "cell_type": "code",
   "execution_count": null,
   "id": "94741c5f-f070-452d-a0b7-b063c70a657b",
   "metadata": {},
   "outputs": [],
   "source": []
  }
 ],
 "metadata": {
  "kernelspec": {
   "display_name": "minecraft",
   "language": "python",
   "name": "minecraft"
  },
  "language_info": {
   "codemirror_mode": {
    "name": "ipython",
    "version": 3
   },
   "file_extension": ".py",
   "mimetype": "text/x-python",
   "name": "python",
   "nbconvert_exporter": "python",
   "pygments_lexer": "ipython3",
   "version": "3.12.9"
  }
 },
 "nbformat": 4,
 "nbformat_minor": 5
}
